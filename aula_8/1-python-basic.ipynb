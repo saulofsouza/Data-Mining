{
 "cells": [
  {
   "cell_type": "markdown",
   "metadata": {
    "colab_type": "text",
    "id": "0m8LTlkV4oFB"
   },
   "source": [
    "# Alguns comentários sobre Python\n",
    "\n",
    "** Exemplos ** da [w3schools](https://www.w3schools.com/python/default.asp)\n",
    "\n",
    "\n"
   ]
  },
  {
   "cell_type": "markdown",
   "metadata": {
    "colab_type": "text",
    "id": "ql8H8nfuzuHl"
   },
   "source": [
    "### Nosso primeiro programa"
   ]
  },
  {
   "cell_type": "code",
   "execution_count": 1,
   "metadata": {
    "colab": {
     "base_uri": "https://localhost:8080/",
     "height": 74
    },
    "colab_type": "code",
    "id": "NPr9nijU4rw8",
    "outputId": "a75c7f14-6b64-4bb3-bc5b-d37a1dff0a11"
   },
   "outputs": [
    {
     "name": "stdout",
     "output_type": "stream",
     "text": [
      "Hello, world!\n"
     ]
    }
   ],
   "source": [
    "print('Hello, world!')"
   ]
  },
  {
   "cell_type": "markdown",
   "metadata": {
    "colab_type": "text",
    "id": "W72j-P-e5Msn"
   },
   "source": [
    "### Variáveis não precisam ser declaradas"
   ]
  },
  {
   "cell_type": "code",
   "execution_count": 2,
   "metadata": {
    "colab": {
     "base_uri": "https://localhost:8080/",
     "height": 92
    },
    "colab_type": "code",
    "id": "opkauZfx5Md2",
    "outputId": "1e0bb8a8-b58c-4fed-ce4a-46999c8353d2"
   },
   "outputs": [
    {
     "name": "stdout",
     "output_type": "stream",
     "text": [
      "5\n",
      "John\n"
     ]
    }
   ],
   "source": [
    "x = 5\n",
    "y = \"John\"\n",
    "print(x)\n",
    "print(y)"
   ]
  },
  {
   "cell_type": "markdown",
   "metadata": {
    "colab_type": "text",
    "id": "107jvENk6M4s"
   },
   "source": [
    "### Tipos numéricos\n",
    "* Inteiro\n",
    "* Real\n",
    "* Complexo"
   ]
  },
  {
   "cell_type": "code",
   "execution_count": 4,
   "metadata": {
    "colab": {
     "base_uri": "https://localhost:8080/",
     "height": 107
    },
    "colab_type": "code",
    "id": "K0x2KuJK4xCd",
    "outputId": "f22b7678-8afd-42d5-a098-71bb4a5963d6"
   },
   "outputs": [
    {
     "name": "stdout",
     "output_type": "stream",
     "text": [
      "<class 'str'>\n",
      "<class 'int'>\n",
      "<class 'float'>\n",
      "<class 'complex'>\n"
     ]
    },
    {
     "data": {
      "text/plain": [
       "123456790123456790123456790123456790123454320987654320987654320987654320987654321"
      ]
     },
     "execution_count": 4,
     "metadata": {},
     "output_type": "execute_result"
    }
   ],
   "source": [
    "w = \"Hello!\" # string\n",
    "x = 1        # int\n",
    "y = 2.8      # float\n",
    "z = 1j       # complex\n",
    "print(type(w))\n",
    "print(type(x))\n",
    "print(type(y))\n",
    "print(type(z))\n",
    "x = 11111111111111111111111111111111111111111\n",
    "x * x"
   ]
  },
  {
   "cell_type": "markdown",
   "metadata": {
    "colab_type": "text",
    "id": "_aDhy50k7FKP"
   },
   "source": [
    "### Variáveis de um tipo podem ser convertidas para outro tipo"
   ]
  },
  {
   "cell_type": "code",
   "execution_count": 4,
   "metadata": {
    "colab": {
     "base_uri": "https://localhost:8080/",
     "height": 74
    },
    "colab_type": "code",
    "id": "jxZErpL-7E_Y",
    "outputId": "51da489f-f479-4a92-984d-3bd3960b4fac"
   },
   "outputs": [
    {
     "name": "stdout",
     "output_type": "stream",
     "text": [
      "1 2 3\n"
     ]
    }
   ],
   "source": [
    "x = int(1)   # x será 1\n",
    "y = int(2.8) # y será 2\n",
    "z = int(\"3\") # z será 3\n",
    "print(x, y, z)"
   ]
  },
  {
   "cell_type": "markdown",
   "metadata": {
    "colab_type": "text",
    "id": "ZTYzd_nu7Ue0"
   },
   "source": [
    "### Tipo para texto (String)"
   ]
  },
  {
   "cell_type": "code",
   "execution_count": 5,
   "metadata": {
    "colab": {
     "base_uri": "https://localhost:8080/",
     "height": 191
    },
    "colab_type": "code",
    "id": "WSKXtd0y6oV5",
    "outputId": "97a4a7e8-c6b7-4e72-8a72-a042cc2cfd4d"
   },
   "outputs": [
    {
     "name": "stdout",
     "output_type": "stream",
     "text": [
      "H\n",
      "e\n",
      "llo\n",
      "13\n",
      "hello, world!\n",
      "HELLO, WORLD!\n",
      "Jello, World!\n",
      "['Hello', ' World!']\n",
      "1\n",
      "Hola Mundo\n",
      "Fabio Fajardo\n"
     ]
    }
   ],
   "source": [
    "a = \"Hello, World!\"\n",
    "print(a[0])\n",
    "print(a[1])\n",
    "print(a[2:5])\n",
    "print(len(a))\n",
    "print(a.lower())\n",
    "print(a.upper())\n",
    "print(a.replace(\"H\", \"J\"))\n",
    "print(a.split(\",\"))\n",
    "print(str(1))\n",
    "print(' '.join(['Hola', 'Mundo']))\n",
    "print('Fábio Fajardo'.replace('á', 'a'))"
   ]
  },
  {
   "cell_type": "markdown",
   "metadata": {
    "colab_type": "text",
    "id": "pgWtC7jM5LGQ"
   },
   "source": [
    "### Operadores Matemáticos\n",
    "* Adição (+)\n",
    "* Subtração (-)\n",
    "* Multiplicação (*)\n",
    "* Divisão (/)\n",
    "* Módulo (%)\n",
    "* Exponenciação (**)\n",
    "* Divisão inteira (//)\n",
    "\n",
    "Operações seguem order de precedência usual"
   ]
  },
  {
   "cell_type": "code",
   "execution_count": 6,
   "metadata": {
    "colab": {
     "base_uri": "https://localhost:8080/",
     "height": 173
    },
    "colab_type": "code",
    "id": "EwjfJSut9JLW",
    "outputId": "d1c65fb9-a441-41af-926f-153ce948aacb"
   },
   "outputs": [
    {
     "name": "stdout",
     "output_type": "stream",
     "text": [
      "2\n",
      "0\n",
      "1\n",
      "0.5\n",
      "1\n",
      "4\n",
      "1.5\n"
     ]
    }
   ],
   "source": [
    "print(1 + 1)\n",
    "print(1 - 1)\n",
    "print(1 * 1)\n",
    "print(1 / 2)\n",
    "print(3 % 2)\n",
    "print(2 ** 2)\n",
    "print(3 / 2)"
   ]
  },
  {
   "cell_type": "markdown",
   "metadata": {
    "colab_type": "text",
    "id": "ZFuro1sw-KXR"
   },
   "source": [
    "### Operadores de Comparação e tipos booleanos\n",
    "* Igual (==)\n",
    "* Diferente (!=)\n",
    "* Maior (>)\n",
    "* Menor (<)\n",
    "* Maior ou igual (>=)\n",
    "* Menor ou igual (<=)"
   ]
  },
  {
   "cell_type": "code",
   "execution_count": 7,
   "metadata": {
    "colab": {
     "base_uri": "https://localhost:8080/",
     "height": 158
    },
    "colab_type": "code",
    "id": "s0seDzb_9mrb",
    "outputId": "71b3e55d-51a3-42f3-d2e9-833bab872c5c"
   },
   "outputs": [
    {
     "name": "stdout",
     "output_type": "stream",
     "text": [
      "False\n",
      "True\n",
      "False\n",
      "True\n",
      "True\n",
      "True\n"
     ]
    }
   ],
   "source": [
    "x = 1\n",
    "y = 2\n",
    "print(x == y)\n",
    "print(x != y)\n",
    "print(x > y)\n",
    "print(x < y)\n",
    "print(2*x <= y + 1)\n",
    "print(x ** 2 >= y / y)"
   ]
  },
  {
   "cell_type": "markdown",
   "metadata": {
    "colab_type": "text",
    "id": "1-bxCLvj-wbg"
   },
   "source": [
    "### Operadores lógicos\n",
    "* conjunção (and)\n",
    "* disjunção (or)\n",
    "* negação (not)"
   ]
  },
  {
   "cell_type": "code",
   "execution_count": 5,
   "metadata": {
    "colab": {
     "base_uri": "https://localhost:8080/",
     "height": 107
    },
    "colab_type": "code",
    "id": "IBcEb6BJ_-TN",
    "outputId": "dfebbf54-b4cc-4e05-b66c-6a794e6304a9"
   },
   "outputs": [
    {
     "name": "stdout",
     "output_type": "stream",
     "text": [
      "True\n",
      "True\n",
      "True\n"
     ]
    }
   ],
   "source": [
    "x = 1\n",
    "y = 2\n",
    "print(x == 1 and y == 2)\n",
    "print(x == 1 or y == 3)\n",
    "print(not x == 2)"
   ]
  },
  {
   "cell_type": "markdown",
   "metadata": {
    "colab_type": "text",
    "id": "Gj6MYCYD-wO_"
   },
   "source": [
    "## Estruturas de dados\n",
    "\n",
    "Python tem duas estruturas nativas que são **extremamente** úteis: listas e dicionários"
   ]
  },
  {
   "cell_type": "markdown",
   "metadata": {},
   "source": [
    "### Listas\n",
    "\n",
    "Conjunto de elementos representados de uma forma sequencial"
   ]
  },
  {
   "cell_type": "code",
   "execution_count": 7,
   "metadata": {
    "colab": {
     "base_uri": "https://localhost:8080/",
     "height": 107
    },
    "colab_type": "code",
    "id": "Fhna_6Uu-I36",
    "outputId": "6e030877-0ba3-4604-e58b-647a138d75bf"
   },
   "outputs": [
    {
     "name": "stdout",
     "output_type": "stream",
     "text": [
      "3\n",
      "['maçã', 'amora', 'abacate']\n",
      "['maçã', 'amora', 'abacate', 'laranja']\n",
      "['abacate', 'amora', 'laranja', 'maçã']\n"
     ]
    },
    {
     "data": {
      "text/plain": [
       "'maçã'"
      ]
     },
     "execution_count": 7,
     "metadata": {},
     "output_type": "execute_result"
    }
   ],
   "source": [
    "lista = [\"maçã\", \"banana\", \"abacate\"]\n",
    "lista[1] = \"amora\"            # segundo elemento da lista\n",
    "print(len(lista))             # número de elementos\n",
    "print(lista)        \n",
    "lista.append(\"laranja\")       # adiciona no final\n",
    "print(lista)\n",
    "lista.sort()                  # ordena\n",
    "print(lista)\n",
    "lista[3]"
   ]
  },
  {
   "cell_type": "markdown",
   "metadata": {
    "colab_type": "text",
    "id": "dsM9uY1NX94t"
   },
   "source": [
    "### Dicionários\n",
    "\n",
    "Funciona como uma tabela de associação. Chaves são mapeadas para elementos"
   ]
  },
  {
   "cell_type": "code",
   "execution_count": 12,
   "metadata": {
    "colab": {
     "base_uri": "https://localhost:8080/",
     "height": 74
    },
    "colab_type": "code",
    "id": "HKHZIte5XtBC",
    "outputId": "1e96336b-4b69-435f-f33f-d6cc237faee2"
   },
   "outputs": [
    {
     "name": "stdout",
     "output_type": "stream",
     "text": [
      "{'brand': 'Ford', 'model': 'Mustang', 'year': 1964};giovanni=)"
     ]
    }
   ],
   "source": [
    "dicionario = {\n",
    "  \"brand\": \"Ford\",\n",
    "  \"model\": \"Mustang\",\n",
    "  \"year\": 1964\n",
    "}\n",
    "print(dicionario, \"giovanni\", sep = ';', end = '=)')"
   ]
  },
  {
   "cell_type": "code",
   "execution_count": 11,
   "metadata": {
    "colab": {
     "base_uri": "https://localhost:8080/",
     "height": 74
    },
    "colab_type": "code",
    "id": "Q3_guJS2YCuR",
    "outputId": "476cd576-520b-46eb-bd81-05b91a4aace2"
   },
   "outputs": [
    {
     "name": "stdout",
     "output_type": "stream",
     "text": [
      "Mustang\n"
     ]
    }
   ],
   "source": [
    "x = dicionario[\"model\"] # acessando elementos por meio da chave\n",
    "print(x)"
   ]
  },
  {
   "cell_type": "code",
   "execution_count": 12,
   "metadata": {
    "colab": {
     "base_uri": "https://localhost:8080/",
     "height": 74
    },
    "colab_type": "code",
    "id": "3GNuh7tgYGB4",
    "outputId": "04d9e7da-1859-403b-9273-1a533bf3a823"
   },
   "outputs": [
    {
     "name": "stdout",
     "output_type": "stream",
     "text": [
      "{'brand': 'Ford', 'model': 'Mustang', 'year': 2018}\n"
     ]
    }
   ],
   "source": [
    "dicionario[\"year\"] = 2018\n",
    "print(dicionario)"
   ]
  },
  {
   "cell_type": "code",
   "execution_count": 13,
   "metadata": {
    "colab": {
     "base_uri": "https://localhost:8080/",
     "height": 74
    },
    "colab_type": "code",
    "id": "2NzVxtE8YNGA",
    "outputId": "6cb67bde-48e2-4fcf-e379-74a9a475ee91"
   },
   "outputs": [
    {
     "name": "stdout",
     "output_type": "stream",
     "text": [
      "dict_values(['Ford', 'Mustang', 2018])\n"
     ]
    }
   ],
   "source": [
    "print(dicionario.values()) # Elementos de um dicionário"
   ]
  },
  {
   "cell_type": "code",
   "execution_count": 14,
   "metadata": {
    "colab": {
     "base_uri": "https://localhost:8080/",
     "height": 74
    },
    "colab_type": "code",
    "id": "P1L6p_YyYQ8S",
    "outputId": "466274e1-cd03-400d-b7fb-8600ba7730fc"
   },
   "outputs": [
    {
     "name": "stdout",
     "output_type": "stream",
     "text": [
      "dict_keys(['brand', 'model', 'year'])\n"
     ]
    }
   ],
   "source": [
    "print(dicionario.keys()) # Chaves de um dicionário"
   ]
  },
  {
   "cell_type": "code",
   "execution_count": 15,
   "metadata": {
    "colab": {
     "base_uri": "https://localhost:8080/",
     "height": 74
    },
    "colab_type": "code",
    "id": "x9lj_repYSya",
    "outputId": "70702bf2-4b50-4a23-da94-fee1432b48c7"
   },
   "outputs": [
    {
     "name": "stdout",
     "output_type": "stream",
     "text": [
      "dict_items([('brand', 'Ford'), ('model', 'Mustang'), ('year', 2018)])\n"
     ]
    }
   ],
   "source": [
    "print(dicionario.items()) # pares (chave, elemento) de um dicionário"
   ]
  },
  {
   "cell_type": "code",
   "execution_count": 16,
   "metadata": {
    "colab": {
     "base_uri": "https://localhost:8080/",
     "height": 74
    },
    "colab_type": "code",
    "id": "Evpdd05UYcUv",
    "outputId": "d73e24c5-3507-41d9-ff45-ac48d42c7e1b",
    "scrolled": true
   },
   "outputs": [
    {
     "name": "stdout",
     "output_type": "stream",
     "text": [
      "3\n"
     ]
    }
   ],
   "source": [
    "print(len(dicionario)) # número de elementos"
   ]
  },
  {
   "cell_type": "code",
   "execution_count": 17,
   "metadata": {},
   "outputs": [
    {
     "data": {
      "text/plain": [
       "True"
      ]
     },
     "execution_count": 17,
     "metadata": {},
     "output_type": "execute_result"
    }
   ],
   "source": [
    "'year' in dicionario # verifica se o dicionário tem a chave 'year'"
   ]
  },
  {
   "cell_type": "code",
   "execution_count": 18,
   "metadata": {},
   "outputs": [
    {
     "data": {
      "text/plain": [
       "False"
      ]
     },
     "execution_count": 18,
     "metadata": {},
     "output_type": "execute_result"
    }
   ],
   "source": [
    "'portas' in dicionario # verifica se o dicionário tem a chave 'portas'"
   ]
  },
  {
   "cell_type": "code",
   "execution_count": 24,
   "metadata": {},
   "outputs": [
    {
     "data": {
      "text/plain": [
       "1"
      ]
     },
     "execution_count": 24,
     "metadata": {},
     "output_type": "execute_result"
    }
   ],
   "source": [
    "dicionario[1] = [2, 3, 4]\n",
    "dicionario[frozenset((2, 3))] = 1\n",
    "dicionario[frozenset((2, 3))]"
   ]
  },
  {
   "cell_type": "markdown",
   "metadata": {
    "colab_type": "text",
    "id": "Zbh9I1JaYslK"
   },
   "source": [
    "### Comandos condicionais\n",
    "\n",
    "#### Repare o 'tab'. Assim que os blocos de código são definidos"
   ]
  },
  {
   "cell_type": "code",
   "execution_count": 19,
   "metadata": {
    "colab": {
     "base_uri": "https://localhost:8080/",
     "height": 74
    },
    "colab_type": "code",
    "id": "-D5HtkoUYhd0",
    "outputId": "dc88780b-b7da-4e8b-9ed7-eab09c56e139"
   },
   "outputs": [
    {
     "name": "stdout",
     "output_type": "stream",
     "text": [
      "b é maior que a\n"
     ]
    }
   ],
   "source": [
    "a = 33\n",
    "b = 200\n",
    "if b > a:\n",
    "  print(\"b é maior que a\")"
   ]
  },
  {
   "cell_type": "code",
   "execution_count": 20,
   "metadata": {
    "colab": {},
    "colab_type": "code",
    "id": "jNKkDRaBY12G"
   },
   "outputs": [],
   "source": [
    "a = 33\n",
    "b = 200\n",
    "if a > b:\n",
    "  print(\"b é maior que a a\")"
   ]
  },
  {
   "cell_type": "code",
   "execution_count": 21,
   "metadata": {
    "colab": {
     "base_uri": "https://localhost:8080/",
     "height": 74
    },
    "colab_type": "code",
    "id": "wJZnVrFmY7G4",
    "outputId": "3d5ddb1b-7d37-408f-cd13-71f1bc6a1176"
   },
   "outputs": [
    {
     "name": "stdout",
     "output_type": "stream",
     "text": [
      "a e b são iguais\n"
     ]
    }
   ],
   "source": [
    "a = 33\n",
    "b = 33\n",
    "if b > a:\n",
    "  print(\"b é maior que a\")\n",
    "elif a == b:\n",
    "  print(\"a e b são iguais\")"
   ]
  },
  {
   "cell_type": "code",
   "execution_count": 22,
   "metadata": {
    "colab": {
     "base_uri": "https://localhost:8080/",
     "height": 74
    },
    "colab_type": "code",
    "id": "avzdPK7-ZBEJ",
    "outputId": "16edb56d-fdfc-4cd1-f596-bae769ff5a24"
   },
   "outputs": [
    {
     "name": "stdout",
     "output_type": "stream",
     "text": [
      "a é maior que b\n"
     ]
    }
   ],
   "source": [
    "a = 200\n",
    "b = 33\n",
    "if b > a:\n",
    "  print(\"b is greater than a\")\n",
    "elif a == b:\n",
    "  print(\"a and b are equal\")\n",
    "else:\n",
    "  print(\"a é maior que b\")"
   ]
  },
  {
   "cell_type": "markdown",
   "metadata": {
    "colab_type": "text",
    "id": "koxSfW_laSwK"
   },
   "source": [
    "### Laço de Repetição (For)"
   ]
  },
  {
   "cell_type": "code",
   "execution_count": 23,
   "metadata": {
    "colab": {
     "base_uri": "https://localhost:8080/",
     "height": 107
    },
    "colab_type": "code",
    "id": "Qc9L71YRZEXd",
    "outputId": "c8c0ac1b-cd3b-4c6b-d1f9-1acb33010e45"
   },
   "outputs": [
    {
     "name": "stdout",
     "output_type": "stream",
     "text": [
      "apple\n",
      "banana\n",
      "cherry\n"
     ]
    }
   ],
   "source": [
    "fruits = [\"apple\", \"banana\", \"cherry\"]\n",
    "for x in fruits:\n",
    "  print(x)"
   ]
  },
  {
   "cell_type": "code",
   "execution_count": 24,
   "metadata": {
    "colab": {
     "base_uri": "https://localhost:8080/",
     "height": 158
    },
    "colab_type": "code",
    "id": "sufMkhi9aYA2",
    "outputId": "fa81b2ec-edc6-40b0-e0b4-dc322f46e3c1"
   },
   "outputs": [
    {
     "name": "stdout",
     "output_type": "stream",
     "text": [
      "b\n",
      "a\n",
      "n\n",
      "a\n",
      "n\n",
      "a\n"
     ]
    }
   ],
   "source": [
    "for x in \"banana\":\n",
    "  print(x)"
   ]
  },
  {
   "cell_type": "code",
   "execution_count": 25,
   "metadata": {
    "colab": {
     "base_uri": "https://localhost:8080/",
     "height": 92
    },
    "colab_type": "code",
    "id": "OXVXo9SUabON",
    "outputId": "12d547e0-1e87-42ec-92f0-389eb13201c3"
   },
   "outputs": [
    {
     "name": "stdout",
     "output_type": "stream",
     "text": [
      "apple\n",
      "banana\n"
     ]
    }
   ],
   "source": [
    "fruits = [\"apple\", \"banana\", \"cherry\"]\n",
    "for x in fruits:\n",
    "  print(x) \n",
    "  if x == \"banana\":\n",
    "    break"
   ]
  },
  {
   "cell_type": "code",
   "execution_count": 26,
   "metadata": {
    "colab": {
     "base_uri": "https://localhost:8080/",
     "height": 92
    },
    "colab_type": "code",
    "id": "JMk1MbMHaei6",
    "outputId": "965ccc07-24a0-4f44-aa07-640ed07fb6cb"
   },
   "outputs": [
    {
     "name": "stdout",
     "output_type": "stream",
     "text": [
      "apple\n",
      "cherry\n"
     ]
    }
   ],
   "source": [
    "fruits = [\"apple\", \"banana\", \"cherry\"]\n",
    "for x in fruits:\n",
    "  if x == \"banana\":\n",
    "    continue\n",
    "  print(x)"
   ]
  },
  {
   "cell_type": "code",
   "execution_count": 27,
   "metadata": {
    "colab": {
     "base_uri": "https://localhost:8080/",
     "height": 158
    },
    "colab_type": "code",
    "id": "PvBhBMDDamaA",
    "outputId": "967a34d4-775f-42c7-ead1-45f146e64ea5"
   },
   "outputs": [
    {
     "name": "stdout",
     "output_type": "stream",
     "text": [
      "0\n",
      "1\n",
      "2\n",
      "3\n",
      "4\n",
      "5\n"
     ]
    }
   ],
   "source": [
    "for x in range(6):\n",
    "  print(x)"
   ]
  },
  {
   "cell_type": "code",
   "execution_count": 28,
   "metadata": {
    "colab": {
     "base_uri": "https://localhost:8080/",
     "height": 125
    },
    "colab_type": "code",
    "id": "jVdXC38Uaudw",
    "outputId": "cd8c2590-502e-495e-867c-3db01aae4c2d"
   },
   "outputs": [
    {
     "name": "stdout",
     "output_type": "stream",
     "text": [
      "2\n",
      "3\n",
      "4\n",
      "5\n"
     ]
    }
   ],
   "source": [
    "for x in range(2, 6):\n",
    "  print(x)"
   ]
  },
  {
   "cell_type": "code",
   "execution_count": 29,
   "metadata": {
    "colab": {
     "base_uri": "https://localhost:8080/",
     "height": 223
    },
    "colab_type": "code",
    "id": "Caz065d8awx8",
    "outputId": "76563d46-fd16-4b49-e7c9-ded87126c23d"
   },
   "outputs": [
    {
     "name": "stdout",
     "output_type": "stream",
     "text": [
      "2\n",
      "5\n",
      "8\n",
      "11\n",
      "14\n",
      "17\n",
      "20\n",
      "23\n",
      "26\n",
      "29\n"
     ]
    }
   ],
   "source": [
    "for x in range(2, 30, 3):\n",
    "  print(x)"
   ]
  },
  {
   "cell_type": "markdown",
   "metadata": {
    "colab_type": "text",
    "id": "jLolre4-evZa"
   },
   "source": [
    "### Funções"
   ]
  },
  {
   "cell_type": "markdown",
   "metadata": {
    "colab_type": "text",
    "id": "93LC6ROEe2Qg"
   },
   "source": [
    "O exemplo a seguir apresenta uma função para calcular o fatorial de um número $n$"
   ]
  },
  {
   "cell_type": "code",
   "execution_count": 30,
   "metadata": {
    "colab": {},
    "colab_type": "code",
    "id": "sP2PKG1AbuRQ"
   },
   "outputs": [],
   "source": [
    "def fat(n):\n",
    "  f = 1\n",
    "  for i in range(n):\n",
    "    f = f * (i+1)\n",
    "  return f"
   ]
  },
  {
   "cell_type": "markdown",
   "metadata": {
    "colab_type": "text",
    "id": "oNoZiWQMhEyN"
   },
   "source": [
    "## Vetores e Matrizes\n",
    "\n",
    "É necessário utlizar a biblioteca **numpy** para lidar com vetores e matrizes de forma eficiente em Python\n",
    "\n",
    "Em numpy, vetores e matrizes são generalizados por meio do conceito de *arrays* (arranjos)\n"
   ]
  },
  {
   "cell_type": "code",
   "execution_count": 26,
   "metadata": {
    "colab": {},
    "colab_type": "code",
    "id": "DjMlqr8qg1mx"
   },
   "outputs": [],
   "source": [
    "import numpy as np"
   ]
  },
  {
   "cell_type": "markdown",
   "metadata": {},
   "source": [
    "### Vetores"
   ]
  },
  {
   "cell_type": "code",
   "execution_count": 27,
   "metadata": {
    "colab": {
     "base_uri": "https://localhost:8080/",
     "height": 74
    },
    "colab_type": "code",
    "id": "EWP7Igu2haWl",
    "outputId": "320bc199-6a41-417e-d45b-0c913985bd82"
   },
   "outputs": [
    {
     "name": "stdout",
     "output_type": "stream",
     "text": [
      "[1 2 3 4]\n"
     ]
    }
   ],
   "source": [
    "x = np.array([1,2,3,4])\n",
    "print(x)"
   ]
  },
  {
   "cell_type": "code",
   "execution_count": 28,
   "metadata": {
    "colab": {
     "base_uri": "https://localhost:8080/",
     "height": 191
    },
    "colab_type": "code",
    "id": "KjmWcLHuiLSf",
    "outputId": "436ef282-1258-4802-9da4-7a501fcda303"
   },
   "outputs": [
    {
     "name": "stdout",
     "output_type": "stream",
     "text": [
      "Soma =  10\n",
      "Média =  2.5\n",
      "Máximo =  4\n",
      "Mínimo =  1\n",
      "Desvio Padrão =  1.118033988749895\n",
      "Mediana =  2.5\n",
      "Percentil 90 =  3.7\n",
      "Dimensionalidade =  (4,)\n"
     ]
    }
   ],
   "source": [
    "print(\"Soma = \", np.sum(x))\n",
    "print(\"Média = \", np.mean(x))\n",
    "print(\"Máximo = \", np.max(x))\n",
    "print(\"Mínimo = \", np.min(x))\n",
    "print(\"Desvio Padrão = \", np.std(x))\n",
    "print(\"Mediana = \", np.median(x))\n",
    "print(\"Percentil 90 = \", np.percentile(x, 90))\n",
    "print(\"Dimensionalidade = \", x.shape)"
   ]
  },
  {
   "cell_type": "code",
   "execution_count": 29,
   "metadata": {
    "colab": {
     "base_uri": "https://localhost:8080/",
     "height": 223
    },
    "colab_type": "code",
    "id": "LF6BiYHHoCPw",
    "outputId": "d42e6a81-db46-43c8-a959-032bf68ed446"
   },
   "outputs": [
    {
     "name": "stdout",
     "output_type": "stream",
     "text": [
      "[1 2 3 4]\n",
      "[2 3 4 5]\n",
      "[2 4 6 8]\n",
      "[2 4 6 8]\n",
      "[ 1  4  9 16]\n",
      "30\n",
      "[[ 1  2  3  4]\n",
      " [ 2  4  6  8]\n",
      " [ 3  6  9 12]\n",
      " [ 4  8 12 16]]\n"
     ]
    }
   ],
   "source": [
    "print(x)\n",
    "print(x + 1)          # somar constante\n",
    "print(2 * x)          # multiplicar por constante\n",
    "print(x + x)          # somar vetores\n",
    "print(x * x)          # multiplicar vetores (elementos)\n",
    "print(x.dot(x))       # produto escalar\n",
    "print(np.outer(x, x)) # produto externo"
   ]
  },
  {
   "cell_type": "code",
   "execution_count": 30,
   "metadata": {
    "colab": {
     "base_uri": "https://localhost:8080/",
     "height": 92
    },
    "colab_type": "code",
    "id": "ktIvVIn3pdHr",
    "outputId": "5fcd0b60-f564-4544-cf59-f3fd31bd5672"
   },
   "outputs": [
    {
     "name": "stdout",
     "output_type": "stream",
     "text": [
      "[0. 0. 0. 0. 0.]\n",
      "[1. 1. 1. 1. 1.]\n"
     ]
    }
   ],
   "source": [
    "y = np.zeros(5)\n",
    "z = np.ones(5)\n",
    "print(y)\n",
    "print(z)"
   ]
  },
  {
   "cell_type": "markdown",
   "metadata": {},
   "source": [
    "### Matrizes"
   ]
  },
  {
   "cell_type": "code",
   "execution_count": 31,
   "metadata": {
    "colab": {
     "base_uri": "https://localhost:8080/",
     "height": 107
    },
    "colab_type": "code",
    "id": "23hK8zXOiMuN",
    "outputId": "16545917-f686-43f3-8682-6505ccf40ac4"
   },
   "outputs": [
    {
     "name": "stdout",
     "output_type": "stream",
     "text": [
      "[[ 1  2  3  4]\n",
      " [ 8  7  6  5]\n",
      " [ 9 10 11 12]]\n"
     ]
    }
   ],
   "source": [
    "X = np.array([[1,2,3,4],[8,7,6,5],[9,10,11,12]])\n",
    "print(X)"
   ]
  },
  {
   "cell_type": "code",
   "execution_count": 32,
   "metadata": {
    "colab": {
     "base_uri": "https://localhost:8080/",
     "height": 74
    },
    "colab_type": "code",
    "id": "SIeB7XV3ljNN",
    "outputId": "d77a7734-2a2e-45ef-a17f-2f1f7f91b51e"
   },
   "outputs": [
    {
     "name": "stdout",
     "output_type": "stream",
     "text": [
      "Dimensionalidade =  (3, 4)\n"
     ]
    }
   ],
   "source": [
    "print(\"Dimensionalidade = \", X.shape)"
   ]
  },
  {
   "cell_type": "code",
   "execution_count": 33,
   "metadata": {
    "colab": {
     "base_uri": "https://localhost:8080/",
     "height": 74
    },
    "colab_type": "code",
    "id": "QI4v40_jlz3q",
    "outputId": "28f0b03d-40ab-49ba-b5c0-008aad9bf32f"
   },
   "outputs": [
    {
     "name": "stdout",
     "output_type": "stream",
     "text": [
      "78\n"
     ]
    }
   ],
   "source": [
    "print(np.sum(X))"
   ]
  },
  {
   "cell_type": "code",
   "execution_count": 35,
   "metadata": {
    "colab": {
     "base_uri": "https://localhost:8080/",
     "height": 74
    },
    "colab_type": "code",
    "id": "bCmVk5A2m4qe",
    "outputId": "00de1edd-8587-41f2-81c3-d67b390bc817"
   },
   "outputs": [
    {
     "name": "stdout",
     "output_type": "stream",
     "text": [
      "[18 19 20 21]\n"
     ]
    }
   ],
   "source": [
    "print(np.sum(X, axis = 0))"
   ]
  },
  {
   "cell_type": "code",
   "execution_count": 40,
   "metadata": {
    "colab": {
     "base_uri": "https://localhost:8080/",
     "height": 74
    },
    "colab_type": "code",
    "id": "fueVU4kKm9xF",
    "outputId": "31ef344e-6447-4500-f28e-98bf6af165cd"
   },
   "outputs": [
    {
     "name": "stdout",
     "output_type": "stream",
     "text": [
      "[10 26 42]\n"
     ]
    }
   ],
   "source": [
    "print(np.sum(X, axis = 1))"
   ]
  },
  {
   "cell_type": "code",
   "execution_count": 41,
   "metadata": {
    "colab": {
     "base_uri": "https://localhost:8080/",
     "height": 140
    },
    "colab_type": "code",
    "id": "d1OTBzuJnJBT",
    "outputId": "61c89047-d95b-49c2-e25c-508f16151fa2"
   },
   "outputs": [
    {
     "name": "stdout",
     "output_type": "stream",
     "text": [
      "[[1. 0. 0. 0. 0.]\n",
      " [0. 1. 0. 0. 0.]\n",
      " [0. 0. 1. 0. 0.]\n",
      " [0. 0. 0. 1. 0.]\n",
      " [0. 0. 0. 0. 1.]]\n"
     ]
    }
   ],
   "source": [
    "I = np.eye(5)\n",
    "print(I)"
   ]
  },
  {
   "cell_type": "code",
   "execution_count": 42,
   "metadata": {
    "colab": {
     "base_uri": "https://localhost:8080/",
     "height": 191
    },
    "colab_type": "code",
    "id": "aczsn6dTp7dE",
    "outputId": "6b5c6bbb-0b88-4265-b01f-11e4b9c49144"
   },
   "outputs": [
    {
     "name": "stdout",
     "output_type": "stream",
     "text": [
      "[[0. 0. 0.]\n",
      " [0. 0. 0.]\n",
      " [0. 0. 0.]\n",
      " [0. 0. 0.]]\n",
      "[[1. 1. 1.]\n",
      " [1. 1. 1.]\n",
      " [1. 1. 1.]\n",
      " [1. 1. 1.]]\n"
     ]
    }
   ],
   "source": [
    "Y = np.zeros((4,3))\n",
    "Z = np.ones((4,3))\n",
    "print(Y)\n",
    "print(Z)"
   ]
  },
  {
   "cell_type": "code",
   "execution_count": 43,
   "metadata": {
    "colab": {
     "base_uri": "https://localhost:8080/",
     "height": 373
    },
    "colab_type": "code",
    "id": "-KAk90aKp_1d",
    "outputId": "e2ff6c9a-46a1-4bfb-d0a5-ed448c03f9e1"
   },
   "outputs": [
    {
     "name": "stdout",
     "output_type": "stream",
     "text": [
      "[[ 2  3  4  5]\n",
      " [ 9  8  7  6]\n",
      " [10 11 12 13]]\n",
      "[[ 2  4  6  8]\n",
      " [16 14 12 10]\n",
      " [18 20 22 24]]\n",
      "[[ 2  4  6  8]\n",
      " [16 14 12 10]\n",
      " [18 20 22 24]]\n",
      "[[  1   4   9  16]\n",
      " [ 64  49  36  25]\n",
      " [ 81 100 121 144]]\n",
      "[[ 1  8  9]\n",
      " [ 2  7 10]\n",
      " [ 3  6 11]\n",
      " [ 4  5 12]]\n",
      "[[ 30  60 110]\n",
      " [ 60 174 268]\n",
      " [110 268 446]]\n",
      "[[ 30  60 110]\n",
      " [ 60 174 268]\n",
      " [110 268 446]]\n"
     ]
    }
   ],
   "source": [
    "print(X + 1)\n",
    "print(2 * X)\n",
    "print(X + X)\n",
    "print(X * X)\n",
    "print(X.T)\n",
    "print(X.dot(X.T))\n",
    "print(np.matmul(X, X.T))"
   ]
  },
  {
   "cell_type": "code",
   "execution_count": 44,
   "metadata": {
    "colab": {
     "base_uri": "https://localhost:8080/",
     "height": 107
    },
    "colab_type": "code",
    "id": "IsW9eb4GqSPK",
    "outputId": "cc02c4cb-9c04-42de-bf0c-fb87c2435999"
   },
   "outputs": [
    {
     "name": "stdout",
     "output_type": "stream",
     "text": [
      "[[ 1.  2.  3.  4.]\n",
      " [ 8.  7.  6.  5.]\n",
      " [ 9. 10. 11. 12.]]\n"
     ]
    }
   ],
   "source": [
    "print(X.dot(np.eye(4)))"
   ]
  },
  {
   "cell_type": "markdown",
   "metadata": {
    "colab_type": "text",
    "id": "maO-IWPoq4vG"
   },
   "source": [
    "**WARNING** Dada uma matriz $X$, calcular uma nova matriz $Y$ cujos elementos sejam os elementos de $X$ subtraídos das médias de suas respectivas colunas"
   ]
  },
  {
   "cell_type": "code",
   "execution_count": 36,
   "metadata": {
    "colab": {
     "base_uri": "https://localhost:8080/",
     "height": 191
    },
    "colab_type": "code",
    "id": "drtCaMx6qfiq",
    "outputId": "8140a709-c2cf-4f61-c3cf-7c9eb15e6550"
   },
   "outputs": [
    {
     "data": {
      "text/plain": [
       "array([[-5.        , -4.33333333, -3.66666667, -3.        ],\n",
       "       [ 2.        ,  0.66666667, -0.66666667, -2.        ],\n",
       "       [ 3.        ,  3.66666667,  4.33333333,  5.        ]])"
      ]
     },
     "execution_count": 36,
     "metadata": {},
     "output_type": "execute_result"
    }
   ],
   "source": [
    "X = np.array([[1,2,3,4],[8,7,6,5],[9,10,11, 12]])\n",
    "M = X.mean(axis = 0)\n",
    "X - M"
   ]
  },
  {
   "cell_type": "markdown",
   "metadata": {},
   "source": [
    "Numpy permite a indexação de submatrizes"
   ]
  },
  {
   "cell_type": "code",
   "execution_count": 46,
   "metadata": {},
   "outputs": [
    {
     "data": {
      "text/plain": [
       "array([[ 1,  2,  3,  4],\n",
       "       [ 8,  7,  6,  5],\n",
       "       [ 9, 10, 11, 12]])"
      ]
     },
     "execution_count": 46,
     "metadata": {},
     "output_type": "execute_result"
    }
   ],
   "source": [
    "X = np.array([[1,2,3,4],[8,7,6,5],[9,10,11, 12]])\n",
    "X"
   ]
  },
  {
   "cell_type": "code",
   "execution_count": 47,
   "metadata": {},
   "outputs": [
    {
     "data": {
      "text/plain": [
       "array([1, 2, 3, 4])"
      ]
     },
     "execution_count": 47,
     "metadata": {},
     "output_type": "execute_result"
    }
   ],
   "source": [
    "# linha zero\n",
    "X[0]"
   ]
  },
  {
   "cell_type": "code",
   "execution_count": 48,
   "metadata": {},
   "outputs": [
    {
     "data": {
      "text/plain": [
       "2"
      ]
     },
     "execution_count": 48,
     "metadata": {},
     "output_type": "execute_result"
    }
   ],
   "source": [
    "# Elemento da linha 0 e coluna 1\n",
    "X[0, 1]"
   ]
  },
  {
   "cell_type": "code",
   "execution_count": 49,
   "metadata": {},
   "outputs": [
    {
     "data": {
      "text/plain": [
       "array([ 2,  7, 10])"
      ]
     },
     "execution_count": 49,
     "metadata": {},
     "output_type": "execute_result"
    }
   ],
   "source": [
    "# Coluna 1\n",
    "X[:, 1]"
   ]
  },
  {
   "cell_type": "code",
   "execution_count": 50,
   "metadata": {},
   "outputs": [
    {
     "data": {
      "text/plain": [
       "array([ 4,  5, 12])"
      ]
     },
     "execution_count": 50,
     "metadata": {},
     "output_type": "execute_result"
    }
   ],
   "source": [
    "# última coluna\n",
    "X[:, -1]"
   ]
  },
  {
   "cell_type": "code",
   "execution_count": 51,
   "metadata": {},
   "outputs": [
    {
     "data": {
      "text/plain": [
       "array([[ 6,  5],\n",
       "       [11, 12]])"
      ]
     },
     "execution_count": 51,
     "metadata": {},
     "output_type": "execute_result"
    }
   ],
   "source": [
    "# o que esse faz?\n",
    "X[-2:, -2:]"
   ]
  },
  {
   "cell_type": "markdown",
   "metadata": {},
   "source": [
    "### Álgebra Linear\n",
    "\n",
    "Dentro da biblioteca numpy, numpy.linalg possui uma série de funções para álgebra linear. Não cobriremos esse tópico hoje..."
   ]
  }
 ],
 "metadata": {
  "colab": {
   "collapsed_sections": [],
   "name": "dest-2.ipynb",
   "provenance": [],
   "version": "0.3.2"
  },
  "kernelspec": {
   "display_name": "Python 3",
   "language": "python",
   "name": "python3"
  },
  "language_info": {
   "codemirror_mode": {
    "name": "ipython",
    "version": 3
   },
   "file_extension": ".py",
   "mimetype": "text/x-python",
   "name": "python",
   "nbconvert_exporter": "python",
   "pygments_lexer": "ipython3",
   "version": "3.6.4"
  }
 },
 "nbformat": 4,
 "nbformat_minor": 1
}
