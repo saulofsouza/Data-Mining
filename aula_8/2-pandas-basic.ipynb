{
 "cells": [
  {
   "cell_type": "markdown",
   "metadata": {
    "colab_type": "text",
    "id": "0HTukqYL15qu"
   },
   "source": [
    "# Representação de dados em Python: a biblioteca Pandas\n",
    "\n",
    "Código abaixo é baseado na [documentação da biblioteca](https://pandas.pydata.org/pandas-docs/stable/10min.html)"
   ]
  },
  {
   "cell_type": "markdown",
   "metadata": {
    "colab_type": "text",
    "id": "PUh_wacBskJ9"
   },
   "source": [
    "Para tirar bom proveito da biblioteca **Pandas**, é necessário entender dois de seus tipos de dados: **Series** e **DataFrame**"
   ]
  },
  {
   "cell_type": "markdown",
   "metadata": {},
   "source": [
    "## Series\n",
    "\n",
    "**Series** é tipo de dados da biblioteca Pandas para representar arranjos de uma dimensão cujos elementos são rotulados. Os rótulos são denominados **index**"
   ]
  },
  {
   "cell_type": "code",
   "execution_count": 2,
   "metadata": {
    "colab": {},
    "colab_type": "code",
    "id": "-y-vMt5e8DN6"
   },
   "outputs": [],
   "source": [
    "import numpy as np\n",
    "import pandas as pd"
   ]
  },
  {
   "cell_type": "markdown",
   "metadata": {
    "colab_type": "text",
    "id": "8MUvLFp9_WuG"
   },
   "source": [
    "Um objeto **Series** pode ser criado a partir de um vetor **numpy**"
   ]
  },
  {
   "cell_type": "code",
   "execution_count": 3,
   "metadata": {
    "colab": {
     "base_uri": "https://localhost:8080/",
     "height": 74
    },
    "colab_type": "code",
    "id": "mAc4gmTB-xXN",
    "outputId": "5b06a1ca-5a29-462f-fb21-b47cc99c5474"
   },
   "outputs": [
    {
     "data": {
      "text/plain": [
       "array([ 0.64446976,  1.47749468,  0.68541302, -0.2688636 ,  0.12605989])"
      ]
     },
     "execution_count": 3,
     "metadata": {},
     "output_type": "execute_result"
    }
   ],
   "source": [
    "x = np.random.randn(5)\n",
    "x"
   ]
  },
  {
   "cell_type": "code",
   "execution_count": 4,
   "metadata": {
    "colab": {
     "base_uri": "https://localhost:8080/",
     "height": 158
    },
    "colab_type": "code",
    "id": "M0M79Rb0-1Q0",
    "outputId": "ff5cff24-9004-48dc-c35e-d94be2dad03b"
   },
   "outputs": [
    {
     "data": {
      "text/plain": [
       "0    0.644470\n",
       "1    1.477495\n",
       "2    0.685413\n",
       "3   -0.268864\n",
       "4    0.126060\n",
       "dtype: float64"
      ]
     },
     "execution_count": 4,
     "metadata": {},
     "output_type": "execute_result"
    }
   ],
   "source": [
    "s = pd.Series(x)\n",
    "s"
   ]
  },
  {
   "cell_type": "code",
   "execution_count": 5,
   "metadata": {
    "colab": {
     "base_uri": "https://localhost:8080/",
     "height": 158
    },
    "colab_type": "code",
    "id": "QWEu5Uzf-42B",
    "outputId": "72691179-9cfa-44b9-c886-9fe4dee87deb"
   },
   "outputs": [
    {
     "data": {
      "text/plain": [
       "a    0.644470\n",
       "b    1.477495\n",
       "c    0.685413\n",
       "d   -0.268864\n",
       "e    0.126060\n",
       "dtype: float64"
      ]
     },
     "execution_count": 5,
     "metadata": {},
     "output_type": "execute_result"
    }
   ],
   "source": [
    "s = pd.Series(x, index = ['a', 'b', 'c', 'd', 'e'])\n",
    "s"
   ]
  },
  {
   "cell_type": "markdown",
   "metadata": {
    "colab_type": "text",
    "id": "moyirOz8_epg"
   },
   "source": [
    "Um objeto **Series** também pode ser criado a partir de um dicionário"
   ]
  },
  {
   "cell_type": "code",
   "execution_count": 6,
   "metadata": {
    "colab": {
     "base_uri": "https://localhost:8080/",
     "height": 125
    },
    "colab_type": "code",
    "id": "N5gH6U8O_SHl",
    "outputId": "18130b5c-992d-44d2-c3db-d08e35b5781d"
   },
   "outputs": [
    {
     "data": {
      "text/plain": [
       "b    1\n",
       "a    0\n",
       "c    2\n",
       "dtype: int64"
      ]
     },
     "execution_count": 6,
     "metadata": {},
     "output_type": "execute_result"
    }
   ],
   "source": [
    "d = {'b' : 1, 'a' : 0, 'c' : 2}\n",
    "s = pd.Series(d)\n",
    "s"
   ]
  },
  {
   "cell_type": "markdown",
   "metadata": {
    "colab_type": "text",
    "id": "HX0a-8qc_wa5"
   },
   "source": [
    "Ou a partir de um valor constante"
   ]
  },
  {
   "cell_type": "code",
   "execution_count": 7,
   "metadata": {
    "colab": {
     "base_uri": "https://localhost:8080/",
     "height": 158
    },
    "colab_type": "code",
    "id": "RcY7E6o-_oTA",
    "outputId": "1809fb4e-83f5-4a58-b12b-8b2d1de7bea7"
   },
   "outputs": [
    {
     "name": "stdout",
     "output_type": "stream",
     "text": [
      "a    5.0\n",
      "b    5.0\n",
      "c    5.0\n",
      "d    5.0\n",
      "e    5.0\n",
      "dtype: float64\n"
     ]
    }
   ],
   "source": [
    "s = pd.Series(5., index=['a', 'b', 'c', 'd', 'e'])\n",
    "print(s)"
   ]
  },
  {
   "cell_type": "markdown",
   "metadata": {
    "colab_type": "text",
    "id": "AYrjOfK2_77Y"
   },
   "source": [
    "Você pode pensar em um objeto do tipo **Series** como um arranjo"
   ]
  },
  {
   "cell_type": "code",
   "execution_count": 8,
   "metadata": {
    "colab": {
     "base_uri": "https://localhost:8080/",
     "height": 74
    },
    "colab_type": "code",
    "id": "vDnjp8ij_2Vm",
    "outputId": "25856e1f-f606-49f3-a6c9-f212ef7dd07d"
   },
   "outputs": [
    {
     "data": {
      "text/plain": [
       "a    0.146934\n",
       "b   -0.113032\n",
       "c    1.358197\n",
       "d   -2.622190\n",
       "e    0.437247\n",
       "dtype: float64"
      ]
     },
     "execution_count": 8,
     "metadata": {},
     "output_type": "execute_result"
    }
   ],
   "source": [
    "s = pd.Series(np.random.randn(5), index=['a', 'b', 'c', 'd', 'e'])\n",
    "s"
   ]
  },
  {
   "cell_type": "code",
   "execution_count": 9,
   "metadata": {},
   "outputs": [
    {
     "data": {
      "text/plain": [
       "0.14693439245404946"
      ]
     },
     "execution_count": 9,
     "metadata": {},
     "output_type": "execute_result"
    }
   ],
   "source": [
    "s[0]\n"
   ]
  },
  {
   "cell_type": "code",
   "execution_count": 10,
   "metadata": {
    "colab": {
     "base_uri": "https://localhost:8080/",
     "height": 125
    },
    "colab_type": "code",
    "id": "uCaDeit6DLls",
    "outputId": "c4ebf225-bfcc-4624-b780-43a28475b84e"
   },
   "outputs": [
    {
     "data": {
      "text/plain": [
       "a    0.146934\n",
       "b   -0.113032\n",
       "c    1.358197\n",
       "dtype: float64"
      ]
     },
     "execution_count": 10,
     "metadata": {},
     "output_type": "execute_result"
    }
   ],
   "source": [
    "s[:3]"
   ]
  },
  {
   "cell_type": "code",
   "execution_count": 11,
   "metadata": {
    "colab": {
     "base_uri": "https://localhost:8080/",
     "height": 107
    },
    "colab_type": "code",
    "id": "6DZK-xhSDNO6",
    "outputId": "0761dfd5-c4ab-49fa-c176-a3bd55b55812"
   },
   "outputs": [
    {
     "data": {
      "text/plain": [
       "c    1.358197\n",
       "e    0.437247\n",
       "dtype: float64"
      ]
     },
     "execution_count": 11,
     "metadata": {},
     "output_type": "execute_result"
    }
   ],
   "source": [
    "s[s > s.median()]"
   ]
  },
  {
   "cell_type": "code",
   "execution_count": 12,
   "metadata": {
    "colab": {
     "base_uri": "https://localhost:8080/",
     "height": 125
    },
    "colab_type": "code",
    "id": "cr0a1W54Dbcp",
    "outputId": "735f1402-45ae-4896-9837-cbd4f75b4091"
   },
   "outputs": [
    {
     "data": {
      "text/plain": [
       "e    0.437247\n",
       "d   -2.622190\n",
       "b   -0.113032\n",
       "dtype: float64"
      ]
     },
     "execution_count": 12,
     "metadata": {},
     "output_type": "execute_result"
    }
   ],
   "source": [
    "s[[4,3,1]]"
   ]
  },
  {
   "cell_type": "code",
   "execution_count": 14,
   "metadata": {
    "colab": {
     "base_uri": "https://localhost:8080/",
     "height": 158
    },
    "colab_type": "code",
    "id": "q0RCVWvqDgG9",
    "outputId": "d52c4ff0-0e59-4b9c-ded1-b74327e0f7f5"
   },
   "outputs": [
    {
     "data": {
      "text/plain": [
       "a    1.158278\n",
       "b    0.893122\n",
       "c    3.889175\n",
       "d    0.072644\n",
       "e    1.548438\n",
       "dtype: float64"
      ]
     },
     "execution_count": 14,
     "metadata": {},
     "output_type": "execute_result"
    }
   ],
   "source": [
    "np.exp(s)"
   ]
  },
  {
   "cell_type": "markdown",
   "metadata": {
    "colab_type": "text",
    "id": "_3W1D2m7EH8F"
   },
   "source": [
    "Você também pode pensar em um objeto do tipo **Series** como um dicionário"
   ]
  },
  {
   "cell_type": "code",
   "execution_count": 15,
   "metadata": {
    "colab": {
     "base_uri": "https://localhost:8080/",
     "height": 74
    },
    "colab_type": "code",
    "id": "AlxSCcuaEEjx",
    "outputId": "61c40d36-8bf1-4bf2-b74e-f2796169e94f"
   },
   "outputs": [
    {
     "data": {
      "text/plain": [
       "0.14693439245404946"
      ]
     },
     "execution_count": 15,
     "metadata": {},
     "output_type": "execute_result"
    }
   ],
   "source": [
    "s['a']"
   ]
  },
  {
   "cell_type": "code",
   "execution_count": 16,
   "metadata": {
    "colab": {
     "base_uri": "https://localhost:8080/",
     "height": 74
    },
    "colab_type": "code",
    "id": "tO5hiP-YEfVe",
    "outputId": "bd1e50e4-6c64-4235-a6e8-588786468a0b"
   },
   "outputs": [
    {
     "data": {
      "text/plain": [
       "True"
      ]
     },
     "execution_count": 16,
     "metadata": {},
     "output_type": "execute_result"
    }
   ],
   "source": [
    "'e' in s"
   ]
  },
  {
   "cell_type": "code",
   "execution_count": 17,
   "metadata": {
    "colab": {
     "base_uri": "https://localhost:8080/",
     "height": 74
    },
    "colab_type": "code",
    "id": "ByM6-sEfEjEs",
    "outputId": "05a78e1a-c068-4eda-d278-e5e203132758"
   },
   "outputs": [
    {
     "data": {
      "text/plain": [
       "False"
      ]
     },
     "execution_count": 17,
     "metadata": {},
     "output_type": "execute_result"
    }
   ],
   "source": [
    "'f' in s"
   ]
  },
  {
   "cell_type": "markdown",
   "metadata": {
    "colab_type": "text",
    "id": "YFymgNDoFEvW"
   },
   "source": [
    "Você **raramente** vai precisar manipular os elementos de um objeto **Series**, por exemplo, utlizando um laço **for**. A maior parte das operações são \"Vetorizadas\"\n",
    "\n",
    "Veja alguns outros exemplos:"
   ]
  },
  {
   "cell_type": "code",
   "execution_count": 18,
   "metadata": {
    "colab": {
     "base_uri": "https://localhost:8080/",
     "height": 158
    },
    "colab_type": "code",
    "id": "L5Y1EvvAEkrd",
    "outputId": "4f0cae1b-6e34-4724-8766-62c8f5b9029d"
   },
   "outputs": [
    {
     "data": {
      "text/plain": [
       "a    0.293869\n",
       "b   -0.226064\n",
       "c    2.716394\n",
       "d   -5.244380\n",
       "e    0.874493\n",
       "dtype: float64"
      ]
     },
     "execution_count": 18,
     "metadata": {},
     "output_type": "execute_result"
    }
   ],
   "source": [
    "s + s"
   ]
  },
  {
   "cell_type": "code",
   "execution_count": 19,
   "metadata": {
    "colab": {
     "base_uri": "https://localhost:8080/",
     "height": 158
    },
    "colab_type": "code",
    "id": "L2SOftj9FWUD",
    "outputId": "e0914ce5-17e5-4042-a30b-152a3ac3f5ce"
   },
   "outputs": [
    {
     "data": {
      "text/plain": [
       "a    0.293869\n",
       "b   -0.226064\n",
       "c    2.716394\n",
       "d   -5.244380\n",
       "e    0.874493\n",
       "dtype: float64"
      ]
     },
     "execution_count": 19,
     "metadata": {},
     "output_type": "execute_result"
    }
   ],
   "source": [
    "2 * s"
   ]
  },
  {
   "cell_type": "code",
   "execution_count": 20,
   "metadata": {
    "colab": {
     "base_uri": "https://localhost:8080/",
     "height": 74
    },
    "colab_type": "code",
    "id": "APyZ6cBiFXMV",
    "outputId": "a9d1ddbb-786c-471c-8ccf-013109ce1e4d"
   },
   "outputs": [
    {
     "data": {
      "text/plain": [
       "-0.7928441478017763"
      ]
     },
     "execution_count": 20,
     "metadata": {},
     "output_type": "execute_result"
    }
   ],
   "source": [
    "s.sum()"
   ]
  },
  {
   "cell_type": "code",
   "execution_count": 19,
   "metadata": {
    "colab": {
     "base_uri": "https://localhost:8080/",
     "height": 74
    },
    "colab_type": "code",
    "id": "52uhDtMqFaUj",
    "outputId": "af3be139-b7b8-4e20-c023-97a039b95f2c"
   },
   "outputs": [
    {
     "data": {
      "text/plain": [
       "-0.23010287048661654"
      ]
     },
     "execution_count": 19,
     "metadata": {},
     "output_type": "execute_result"
    }
   ],
   "source": [
    "s.mean()"
   ]
  },
  {
   "cell_type": "code",
   "execution_count": 20,
   "metadata": {
    "colab": {
     "base_uri": "https://localhost:8080/",
     "height": 74
    },
    "colab_type": "code",
    "id": "4bIBjetkFbJo",
    "outputId": "a45e85c9-4d57-4e9e-8b28-aea092456c08"
   },
   "outputs": [
    {
     "data": {
      "text/plain": [
       "-1.0218425144435266"
      ]
     },
     "execution_count": 20,
     "metadata": {},
     "output_type": "execute_result"
    }
   ],
   "source": [
    "s.min()"
   ]
  },
  {
   "cell_type": "markdown",
   "metadata": {},
   "source": [
    "A tarefa de **Ordenação** é fácil!"
   ]
  },
  {
   "cell_type": "code",
   "execution_count": 21,
   "metadata": {
    "colab": {
     "base_uri": "https://localhost:8080/",
     "height": 158
    },
    "colab_type": "code",
    "id": "TVm8VpDjFb2G",
    "outputId": "bb49c250-f4f1-4710-ac98-c4796b7cddcf"
   },
   "outputs": [
    {
     "data": {
      "text/plain": [
       "a   -1.021843\n",
       "b   -0.538024\n",
       "c    0.146737\n",
       "d    1.032199\n",
       "e   -0.769584\n",
       "dtype: float64"
      ]
     },
     "execution_count": 21,
     "metadata": {},
     "output_type": "execute_result"
    }
   ],
   "source": [
    "s.sort_index()"
   ]
  },
  {
   "cell_type": "code",
   "execution_count": 22,
   "metadata": {
    "colab": {
     "base_uri": "https://localhost:8080/",
     "height": 158
    },
    "colab_type": "code",
    "id": "UmpV8W-FFlz9",
    "outputId": "3d469f88-e9a5-41f9-d904-831cb0935576"
   },
   "outputs": [
    {
     "data": {
      "text/plain": [
       "e   -0.769584\n",
       "d    1.032199\n",
       "c    0.146737\n",
       "b   -0.538024\n",
       "a   -1.021843\n",
       "dtype: float64"
      ]
     },
     "execution_count": 22,
     "metadata": {},
     "output_type": "execute_result"
    }
   ],
   "source": [
    "s.sort_index(ascending = False)"
   ]
  },
  {
   "cell_type": "code",
   "execution_count": 23,
   "metadata": {
    "colab": {
     "base_uri": "https://localhost:8080/",
     "height": 158
    },
    "colab_type": "code",
    "id": "RG8dWb33Fg_L",
    "outputId": "276bfe86-086d-4efa-8996-e091c0824690"
   },
   "outputs": [
    {
     "data": {
      "text/plain": [
       "a   -1.021843\n",
       "e   -0.769584\n",
       "b   -0.538024\n",
       "c    0.146737\n",
       "d    1.032199\n",
       "dtype: float64"
      ]
     },
     "execution_count": 23,
     "metadata": {},
     "output_type": "execute_result"
    }
   ],
   "source": [
    "s.sort_values()"
   ]
  },
  {
   "cell_type": "markdown",
   "metadata": {
    "colab_type": "text",
    "id": "Mr5-KhBJMlT6"
   },
   "source": [
    "Uma grande vantagem com relação a arranjos **numpy** é o alinhamento automático durante operações"
   ]
  },
  {
   "cell_type": "code",
   "execution_count": 24,
   "metadata": {
    "colab": {
     "base_uri": "https://localhost:8080/",
     "height": 158
    },
    "colab_type": "code",
    "id": "zWFVEk9kMtWF",
    "outputId": "5308808a-ac2e-415b-b507-9ac3925133e0"
   },
   "outputs": [
    {
     "data": {
      "text/plain": [
       "a   -1.021843\n",
       "b   -0.538024\n",
       "c    0.146737\n",
       "d    1.032199\n",
       "e   -0.769584\n",
       "dtype: float64"
      ]
     },
     "execution_count": 24,
     "metadata": {},
     "output_type": "execute_result"
    }
   ],
   "source": [
    "s"
   ]
  },
  {
   "cell_type": "code",
   "execution_count": 25,
   "metadata": {
    "colab": {
     "base_uri": "https://localhost:8080/",
     "height": 140
    },
    "colab_type": "code",
    "id": "Uffbw6H2Muau",
    "outputId": "e6dafb62-a992-4456-ef63-b6d211de90f9"
   },
   "outputs": [
    {
     "data": {
      "text/plain": [
       "b   -0.538024\n",
       "c    0.146737\n",
       "d    1.032199\n",
       "e   -0.769584\n",
       "dtype: float64"
      ]
     },
     "execution_count": 25,
     "metadata": {},
     "output_type": "execute_result"
    }
   ],
   "source": [
    "A = s[1:]\n",
    "A"
   ]
  },
  {
   "cell_type": "code",
   "execution_count": 26,
   "metadata": {
    "colab": {
     "base_uri": "https://localhost:8080/",
     "height": 140
    },
    "colab_type": "code",
    "id": "f03i6UgvMxR5",
    "outputId": "d7bd76ea-afa1-4709-ad9b-19feeefa9096"
   },
   "outputs": [
    {
     "data": {
      "text/plain": [
       "a   -1.021843\n",
       "b   -0.538024\n",
       "c    0.146737\n",
       "d    1.032199\n",
       "dtype: float64"
      ]
     },
     "execution_count": 26,
     "metadata": {},
     "output_type": "execute_result"
    }
   ],
   "source": [
    "B = s[:4]\n",
    "B"
   ]
  },
  {
   "cell_type": "code",
   "execution_count": 27,
   "metadata": {
    "colab": {
     "base_uri": "https://localhost:8080/",
     "height": 158
    },
    "colab_type": "code",
    "id": "s0oRrtLHM1sB",
    "outputId": "40f84605-0dba-48e1-90f1-83e698bad0ea"
   },
   "outputs": [
    {
     "data": {
      "text/plain": [
       "a         NaN\n",
       "b   -1.076047\n",
       "c    0.293473\n",
       "d    2.064398\n",
       "e         NaN\n",
       "dtype: float64"
      ]
     },
     "execution_count": 27,
     "metadata": {},
     "output_type": "execute_result"
    }
   ],
   "source": [
    "A + B"
   ]
  },
  {
   "cell_type": "markdown",
   "metadata": {
    "colab_type": "text",
    "id": "ZHu-40PbM_5q"
   },
   "source": [
    "Podemos dar nome a um objeto **Series**"
   ]
  },
  {
   "cell_type": "code",
   "execution_count": 21,
   "metadata": {
    "colab": {
     "base_uri": "https://localhost:8080/",
     "height": 158
    },
    "colab_type": "code",
    "id": "dNx-fky-NC5i",
    "outputId": "02fa9340-0212-4ca4-ee1b-ee4c48a98a51"
   },
   "outputs": [
    {
     "data": {
      "text/plain": [
       "0   -0.059018\n",
       "1    0.629282\n",
       "2    0.964217\n",
       "3    1.192674\n",
       "4   -0.439295\n",
       "Name: Um Nome, dtype: float64"
      ]
     },
     "execution_count": 21,
     "metadata": {},
     "output_type": "execute_result"
    }
   ],
   "source": [
    "s = pd.Series(np.random.randn(5), name='Um Nome')\n",
    "s"
   ]
  },
  {
   "cell_type": "code",
   "execution_count": 29,
   "metadata": {
    "colab": {
     "base_uri": "https://localhost:8080/",
     "height": 158
    },
    "colab_type": "code",
    "id": "THSbFtqHNH-u",
    "outputId": "c7ff9a40-5a68-402f-e274-aea68b0dceaa"
   },
   "outputs": [
    {
     "data": {
      "text/plain": [
       "0    0.531091\n",
       "1   -0.256848\n",
       "2    0.804917\n",
       "3   -1.660343\n",
       "4   -1.514750\n",
       "Name: Um Nome, dtype: float64"
      ]
     },
     "execution_count": 29,
     "metadata": {},
     "output_type": "execute_result"
    }
   ],
   "source": [
    "s.rename('Outro Nome')\n",
    "s"
   ]
  },
  {
   "cell_type": "markdown",
   "metadata": {
    "colab_type": "text",
    "id": "_3uXdVnpODGa"
   },
   "source": [
    "## DataFrame\n",
    "\n",
    "**DataFrame** é uma estrutura bi-dimensional com elementos rotulados. Assim como para **Series**, os rótulos das linhas estão em um **index**. Além disso, os rótulos das colunas são chamados de **columns**\n",
    "\n",
    "Você pode pensar em um objeto **DataFrame** como uma lista de objetos do tipo **Series** (mas na verdade é um pouco mais complicado)\n",
    "\n",
    "Há várias maneiras de criar um objeto **DataFrame**. Por exemplo, de um dicionário de **Series**"
   ]
  },
  {
   "cell_type": "code",
   "execution_count": 22,
   "metadata": {
    "colab": {
     "base_uri": "https://localhost:8080/",
     "height": 212
    },
    "colab_type": "code",
    "id": "xQtwptPBNNoe",
    "outputId": "c9586670-77f0-4678-8ba9-ef13e72437cc"
   },
   "outputs": [
    {
     "data": {
      "text/html": [
       "<div>\n",
       "<style scoped>\n",
       "    .dataframe tbody tr th:only-of-type {\n",
       "        vertical-align: middle;\n",
       "    }\n",
       "\n",
       "    .dataframe tbody tr th {\n",
       "        vertical-align: top;\n",
       "    }\n",
       "\n",
       "    .dataframe thead th {\n",
       "        text-align: right;\n",
       "    }\n",
       "</style>\n",
       "<table border=\"1\" class=\"dataframe\">\n",
       "  <thead>\n",
       "    <tr style=\"text-align: right;\">\n",
       "      <th></th>\n",
       "      <th>one</th>\n",
       "      <th>two</th>\n",
       "    </tr>\n",
       "  </thead>\n",
       "  <tbody>\n",
       "    <tr>\n",
       "      <th>a</th>\n",
       "      <td>1.0</td>\n",
       "      <td>1.0</td>\n",
       "    </tr>\n",
       "    <tr>\n",
       "      <th>b</th>\n",
       "      <td>2.0</td>\n",
       "      <td>2.0</td>\n",
       "    </tr>\n",
       "    <tr>\n",
       "      <th>c</th>\n",
       "      <td>3.0</td>\n",
       "      <td>3.0</td>\n",
       "    </tr>\n",
       "    <tr>\n",
       "      <th>d</th>\n",
       "      <td>NaN</td>\n",
       "      <td>4.0</td>\n",
       "    </tr>\n",
       "  </tbody>\n",
       "</table>\n",
       "</div>"
      ],
      "text/plain": [
       "   one  two\n",
       "a  1.0  1.0\n",
       "b  2.0  2.0\n",
       "c  3.0  3.0\n",
       "d  NaN  4.0"
      ]
     },
     "execution_count": 22,
     "metadata": {},
     "output_type": "execute_result"
    }
   ],
   "source": [
    "d = {'one' : pd.Series([1., 2., 3.], index=['a', 'b', 'c']),\n",
    "     'two' : pd.Series([1., 2., 3., 4.], index=['a', 'b', 'c', 'd'])}\n",
    "df = pd.DataFrame(d)\n",
    "df"
   ]
  },
  {
   "cell_type": "code",
   "execution_count": 23,
   "metadata": {
    "colab": {
     "base_uri": "https://localhost:8080/",
     "height": 74
    },
    "colab_type": "code",
    "id": "EuG5yn-fPcOY",
    "outputId": "9823c2a3-f1c5-4755-cf21-0e8fe8dd18d4"
   },
   "outputs": [
    {
     "data": {
      "text/plain": [
       "Index(['a', 'b', 'c', 'd'], dtype='object')"
      ]
     },
     "execution_count": 23,
     "metadata": {},
     "output_type": "execute_result"
    }
   ],
   "source": [
    "df.index"
   ]
  },
  {
   "cell_type": "code",
   "execution_count": 24,
   "metadata": {
    "colab": {
     "base_uri": "https://localhost:8080/",
     "height": 74
    },
    "colab_type": "code",
    "id": "8D5IsHSEQ81g",
    "outputId": "e599ae9c-de16-431d-fffb-d7b9dd7292cf"
   },
   "outputs": [
    {
     "data": {
      "text/plain": [
       "Index(['one', 'two'], dtype='object')"
      ]
     },
     "execution_count": 24,
     "metadata": {},
     "output_type": "execute_result"
    }
   ],
   "source": [
    "df.columns"
   ]
  },
  {
   "cell_type": "markdown",
   "metadata": {
    "colab_type": "text",
    "id": "3PRBj6z5UFwl"
   },
   "source": [
    "Pode-se criar um **DataFrame** a partir de um dicionário de listas"
   ]
  },
  {
   "cell_type": "code",
   "execution_count": 25,
   "metadata": {
    "colab": {},
    "colab_type": "code",
    "id": "NI-8OejkQ-I_"
   },
   "outputs": [],
   "source": [
    "d = {'one' : [1., 2., 3., 4.],\n",
    "     'two' : [4., 3., 2., 1.]}"
   ]
  },
  {
   "cell_type": "code",
   "execution_count": 26,
   "metadata": {
    "colab": {
     "base_uri": "https://localhost:8080/",
     "height": 212
    },
    "colab_type": "code",
    "id": "x8aHUJOcUQ4t",
    "outputId": "cc277182-ec5f-4655-ee8b-2f90ae19c60a"
   },
   "outputs": [
    {
     "data": {
      "text/html": [
       "<div>\n",
       "<style scoped>\n",
       "    .dataframe tbody tr th:only-of-type {\n",
       "        vertical-align: middle;\n",
       "    }\n",
       "\n",
       "    .dataframe tbody tr th {\n",
       "        vertical-align: top;\n",
       "    }\n",
       "\n",
       "    .dataframe thead th {\n",
       "        text-align: right;\n",
       "    }\n",
       "</style>\n",
       "<table border=\"1\" class=\"dataframe\">\n",
       "  <thead>\n",
       "    <tr style=\"text-align: right;\">\n",
       "      <th></th>\n",
       "      <th>one</th>\n",
       "      <th>two</th>\n",
       "    </tr>\n",
       "  </thead>\n",
       "  <tbody>\n",
       "    <tr>\n",
       "      <th>0</th>\n",
       "      <td>1.0</td>\n",
       "      <td>4.0</td>\n",
       "    </tr>\n",
       "    <tr>\n",
       "      <th>1</th>\n",
       "      <td>2.0</td>\n",
       "      <td>3.0</td>\n",
       "    </tr>\n",
       "    <tr>\n",
       "      <th>2</th>\n",
       "      <td>3.0</td>\n",
       "      <td>2.0</td>\n",
       "    </tr>\n",
       "    <tr>\n",
       "      <th>3</th>\n",
       "      <td>4.0</td>\n",
       "      <td>1.0</td>\n",
       "    </tr>\n",
       "  </tbody>\n",
       "</table>\n",
       "</div>"
      ],
      "text/plain": [
       "   one  two\n",
       "0  1.0  4.0\n",
       "1  2.0  3.0\n",
       "2  3.0  2.0\n",
       "3  4.0  1.0"
      ]
     },
     "execution_count": 26,
     "metadata": {},
     "output_type": "execute_result"
    }
   ],
   "source": [
    "df = pd.DataFrame(d)\n",
    "df"
   ]
  },
  {
   "cell_type": "code",
   "execution_count": 27,
   "metadata": {
    "colab": {
     "base_uri": "https://localhost:8080/",
     "height": 212
    },
    "colab_type": "code",
    "id": "nhnUk5rNUbCg",
    "outputId": "f49a3cf7-7a92-4c9d-ea12-acba19e65530"
   },
   "outputs": [
    {
     "data": {
      "text/html": [
       "<div>\n",
       "<style scoped>\n",
       "    .dataframe tbody tr th:only-of-type {\n",
       "        vertical-align: middle;\n",
       "    }\n",
       "\n",
       "    .dataframe tbody tr th {\n",
       "        vertical-align: top;\n",
       "    }\n",
       "\n",
       "    .dataframe thead th {\n",
       "        text-align: right;\n",
       "    }\n",
       "</style>\n",
       "<table border=\"1\" class=\"dataframe\">\n",
       "  <thead>\n",
       "    <tr style=\"text-align: right;\">\n",
       "      <th></th>\n",
       "      <th>one</th>\n",
       "      <th>two</th>\n",
       "    </tr>\n",
       "  </thead>\n",
       "  <tbody>\n",
       "    <tr>\n",
       "      <th>a</th>\n",
       "      <td>1.0</td>\n",
       "      <td>4.0</td>\n",
       "    </tr>\n",
       "    <tr>\n",
       "      <th>b</th>\n",
       "      <td>2.0</td>\n",
       "      <td>3.0</td>\n",
       "    </tr>\n",
       "    <tr>\n",
       "      <th>c</th>\n",
       "      <td>3.0</td>\n",
       "      <td>2.0</td>\n",
       "    </tr>\n",
       "    <tr>\n",
       "      <th>d</th>\n",
       "      <td>4.0</td>\n",
       "      <td>1.0</td>\n",
       "    </tr>\n",
       "  </tbody>\n",
       "</table>\n",
       "</div>"
      ],
      "text/plain": [
       "   one  two\n",
       "a  1.0  4.0\n",
       "b  2.0  3.0\n",
       "c  3.0  2.0\n",
       "d  4.0  1.0"
      ]
     },
     "execution_count": 27,
     "metadata": {},
     "output_type": "execute_result"
    }
   ],
   "source": [
    "df = pd.DataFrame(d, index=['a', 'b', 'c', 'd'])\n",
    "df"
   ]
  },
  {
   "cell_type": "markdown",
   "metadata": {
    "colab_type": "text",
    "id": "wrMoRNTKU_Ol"
   },
   "source": [
    "Ou a partir de uma coleção de **registros**"
   ]
  },
  {
   "cell_type": "code",
   "execution_count": 28,
   "metadata": {
    "colab": {
     "base_uri": "https://localhost:8080/",
     "height": 212
    },
    "colab_type": "code",
    "id": "zfUStethUspJ",
    "outputId": "97dcd02c-82ca-4b06-d518-6ac18cfd1cd4"
   },
   "outputs": [
    {
     "data": {
      "text/html": [
       "<div>\n",
       "<style scoped>\n",
       "    .dataframe tbody tr th:only-of-type {\n",
       "        vertical-align: middle;\n",
       "    }\n",
       "\n",
       "    .dataframe tbody tr th {\n",
       "        vertical-align: top;\n",
       "    }\n",
       "\n",
       "    .dataframe thead th {\n",
       "        text-align: right;\n",
       "    }\n",
       "</style>\n",
       "<table border=\"1\" class=\"dataframe\">\n",
       "  <thead>\n",
       "    <tr style=\"text-align: right;\">\n",
       "      <th></th>\n",
       "      <th>A</th>\n",
       "      <th>B</th>\n",
       "    </tr>\n",
       "    <tr>\n",
       "      <th>C</th>\n",
       "      <th></th>\n",
       "      <th></th>\n",
       "    </tr>\n",
       "  </thead>\n",
       "  <tbody>\n",
       "    <tr>\n",
       "      <th>Hello</th>\n",
       "      <td>1</td>\n",
       "      <td>2.0</td>\n",
       "    </tr>\n",
       "    <tr>\n",
       "      <th>World</th>\n",
       "      <td>2</td>\n",
       "      <td>3.0</td>\n",
       "    </tr>\n",
       "    <tr>\n",
       "      <th>!</th>\n",
       "      <td>3</td>\n",
       "      <td>4.0</td>\n",
       "    </tr>\n",
       "  </tbody>\n",
       "</table>\n",
       "</div>"
      ],
      "text/plain": [
       "       A    B\n",
       "C            \n",
       "Hello  1  2.0\n",
       "World  2  3.0\n",
       "!      3  4.0"
      ]
     },
     "execution_count": 28,
     "metadata": {},
     "output_type": "execute_result"
    }
   ],
   "source": [
    "d = [[1,  2., 'Hello'], [2,  3., 'World'], [3, 4, '!']]\n",
    "d\n",
    "df = pd.DataFrame.from_records(d, columns = ['A', 'B', 'C'], index = 'C')\n",
    "df"
   ]
  },
  {
   "cell_type": "markdown",
   "metadata": {
    "colab_type": "text",
    "id": "fw7qTVJMaJ0s"
   },
   "source": [
    "Ou através de uma matriz"
   ]
  },
  {
   "cell_type": "code",
   "execution_count": 37,
   "metadata": {
    "colab": {
     "base_uri": "https://localhost:8080/",
     "height": 333
    },
    "colab_type": "code",
    "id": "bVyoqJUSVNt-",
    "outputId": "e2ac3315-9691-4720-dda3-fa5822862f3d"
   },
   "outputs": [
    {
     "data": {
      "text/html": [
       "<div>\n",
       "<style scoped>\n",
       "    .dataframe tbody tr th:only-of-type {\n",
       "        vertical-align: middle;\n",
       "    }\n",
       "\n",
       "    .dataframe tbody tr th {\n",
       "        vertical-align: top;\n",
       "    }\n",
       "\n",
       "    .dataframe thead th {\n",
       "        text-align: right;\n",
       "    }\n",
       "</style>\n",
       "<table border=\"1\" class=\"dataframe\">\n",
       "  <thead>\n",
       "    <tr style=\"text-align: right;\">\n",
       "      <th></th>\n",
       "      <th>A</th>\n",
       "      <th>B</th>\n",
       "      <th>C</th>\n",
       "    </tr>\n",
       "  </thead>\n",
       "  <tbody>\n",
       "    <tr>\n",
       "      <th>2000-01-01</th>\n",
       "      <td>0.314392</td>\n",
       "      <td>-0.546771</td>\n",
       "      <td>1.083902</td>\n",
       "    </tr>\n",
       "    <tr>\n",
       "      <th>2000-01-02</th>\n",
       "      <td>0.813573</td>\n",
       "      <td>0.434268</td>\n",
       "      <td>0.742169</td>\n",
       "    </tr>\n",
       "    <tr>\n",
       "      <th>2000-01-03</th>\n",
       "      <td>-0.057564</td>\n",
       "      <td>0.918746</td>\n",
       "      <td>0.089522</td>\n",
       "    </tr>\n",
       "    <tr>\n",
       "      <th>2000-01-04</th>\n",
       "      <td>1.374046</td>\n",
       "      <td>0.606420</td>\n",
       "      <td>-1.599789</td>\n",
       "    </tr>\n",
       "    <tr>\n",
       "      <th>2000-01-05</th>\n",
       "      <td>0.058784</td>\n",
       "      <td>0.502723</td>\n",
       "      <td>0.897593</td>\n",
       "    </tr>\n",
       "    <tr>\n",
       "      <th>2000-01-06</th>\n",
       "      <td>-1.513271</td>\n",
       "      <td>0.902802</td>\n",
       "      <td>-1.363325</td>\n",
       "    </tr>\n",
       "    <tr>\n",
       "      <th>2000-01-07</th>\n",
       "      <td>0.359667</td>\n",
       "      <td>0.684851</td>\n",
       "      <td>-1.348694</td>\n",
       "    </tr>\n",
       "    <tr>\n",
       "      <th>2000-01-08</th>\n",
       "      <td>-1.087744</td>\n",
       "      <td>-1.225487</td>\n",
       "      <td>-0.614447</td>\n",
       "    </tr>\n",
       "  </tbody>\n",
       "</table>\n",
       "</div>"
      ],
      "text/plain": [
       "                   A         B         C\n",
       "2000-01-01  0.314392 -0.546771  1.083902\n",
       "2000-01-02  0.813573  0.434268  0.742169\n",
       "2000-01-03 -0.057564  0.918746  0.089522\n",
       "2000-01-04  1.374046  0.606420 -1.599789\n",
       "2000-01-05  0.058784  0.502723  0.897593\n",
       "2000-01-06 -1.513271  0.902802 -1.363325\n",
       "2000-01-07  0.359667  0.684851 -1.348694\n",
       "2000-01-08 -1.087744 -1.225487 -0.614447"
      ]
     },
     "execution_count": 37,
     "metadata": {},
     "output_type": "execute_result"
    }
   ],
   "source": [
    "index = pd.date_range('1/1/2000', periods=8)\n",
    "df = pd.DataFrame(np.random.randn(8, 3), index=index, columns=['A', 'B', 'C'])\n",
    "df"
   ]
  },
  {
   "cell_type": "markdown",
   "metadata": {
    "colab_type": "text",
    "id": "BHvlbLooaIop"
   },
   "source": [
    "## Como podemos usar DataFrames?"
   ]
  },
  {
   "cell_type": "code",
   "execution_count": 30,
   "metadata": {
    "colab": {
     "base_uri": "https://localhost:8080/",
     "height": 273
    },
    "colab_type": "code",
    "id": "yFBC369SV2hw",
    "outputId": "63910aa4-f8c4-44ac-ff5a-6a053a5be065"
   },
   "outputs": [
    {
     "data": {
      "text/plain": [
       "<matplotlib.axes._subplots.AxesSubplot at 0x118556710>"
      ]
     },
     "execution_count": 30,
     "metadata": {},
     "output_type": "execute_result"
    }
   ],
   "source": [
    "dates = pd.date_range('20130101', periods=6)\n",
    "df = pd.DataFrame(np.random.randn(6,4), index=dates, columns=list('ABCD'))\n",
    "df.plot()"
   ]
  },
  {
   "cell_type": "code",
   "execution_count": 31,
   "metadata": {
    "colab": {
     "base_uri": "https://localhost:8080/",
     "height": 212
    },
    "colab_type": "code",
    "id": "gfdl5QcqbrzN",
    "outputId": "91327c66-322a-420d-ae86-072c55abd1fb"
   },
   "outputs": [
    {
     "data": {
      "text/html": [
       "<div>\n",
       "<style scoped>\n",
       "    .dataframe tbody tr th:only-of-type {\n",
       "        vertical-align: middle;\n",
       "    }\n",
       "\n",
       "    .dataframe tbody tr th {\n",
       "        vertical-align: top;\n",
       "    }\n",
       "\n",
       "    .dataframe thead th {\n",
       "        text-align: right;\n",
       "    }\n",
       "</style>\n",
       "<table border=\"1\" class=\"dataframe\">\n",
       "  <thead>\n",
       "    <tr style=\"text-align: right;\">\n",
       "      <th></th>\n",
       "      <th>A</th>\n",
       "      <th>B</th>\n",
       "      <th>C</th>\n",
       "      <th>D</th>\n",
       "      <th>E</th>\n",
       "      <th>F</th>\n",
       "    </tr>\n",
       "  </thead>\n",
       "  <tbody>\n",
       "    <tr>\n",
       "      <th>0</th>\n",
       "      <td>1.0</td>\n",
       "      <td>2013-01-02</td>\n",
       "      <td>1.0</td>\n",
       "      <td>3</td>\n",
       "      <td>test</td>\n",
       "      <td>foo</td>\n",
       "    </tr>\n",
       "    <tr>\n",
       "      <th>1</th>\n",
       "      <td>1.0</td>\n",
       "      <td>2013-01-02</td>\n",
       "      <td>1.0</td>\n",
       "      <td>3</td>\n",
       "      <td>train</td>\n",
       "      <td>foo</td>\n",
       "    </tr>\n",
       "    <tr>\n",
       "      <th>2</th>\n",
       "      <td>1.0</td>\n",
       "      <td>2013-01-02</td>\n",
       "      <td>1.0</td>\n",
       "      <td>3</td>\n",
       "      <td>test</td>\n",
       "      <td>foo</td>\n",
       "    </tr>\n",
       "    <tr>\n",
       "      <th>3</th>\n",
       "      <td>1.0</td>\n",
       "      <td>2013-01-02</td>\n",
       "      <td>1.0</td>\n",
       "      <td>3</td>\n",
       "      <td>train</td>\n",
       "      <td>foo</td>\n",
       "    </tr>\n",
       "  </tbody>\n",
       "</table>\n",
       "</div>"
      ],
      "text/plain": [
       "     A          B    C  D      E    F\n",
       "0  1.0 2013-01-02  1.0  3   test  foo\n",
       "1  1.0 2013-01-02  1.0  3  train  foo\n",
       "2  1.0 2013-01-02  1.0  3   test  foo\n",
       "3  1.0 2013-01-02  1.0  3  train  foo"
      ]
     },
     "execution_count": 31,
     "metadata": {},
     "output_type": "execute_result"
    }
   ],
   "source": [
    "df2 = pd.DataFrame({ 'A' : 1.,\n",
    "                     'B' : pd.Timestamp('20130102'),\n",
    "                     'C' : pd.Series(1,index=list(range(4)),dtype='float32'),\n",
    "                     'D' : np.array([3] * 4,dtype='int32'),\n",
    "                     'E' : pd.Categorical([\"test\",\"train\",\"test\",\"train\"]),\n",
    "                     'F' : 'foo' })\n",
    "df2"
   ]
  },
  {
   "cell_type": "code",
   "execution_count": 32,
   "metadata": {
    "colab": {
     "base_uri": "https://localhost:8080/",
     "height": 173
    },
    "colab_type": "code",
    "id": "uiP2D3fpb49N",
    "outputId": "945dc3a3-ca33-43fb-d191-ed18873842bd"
   },
   "outputs": [
    {
     "data": {
      "text/plain": [
       "A           float64\n",
       "B    datetime64[ns]\n",
       "C           float32\n",
       "D             int32\n",
       "E          category\n",
       "F            object\n",
       "dtype: object"
      ]
     },
     "execution_count": 32,
     "metadata": {},
     "output_type": "execute_result"
    }
   ],
   "source": [
    "df2.dtypes"
   ]
  },
  {
   "cell_type": "markdown",
   "metadata": {
    "colab_type": "text",
    "id": "UtZCR1zLcDEq"
   },
   "source": [
    "### Manipulação básica\n"
   ]
  },
  {
   "cell_type": "code",
   "execution_count": 41,
   "metadata": {
    "colab": {
     "base_uri": "https://localhost:8080/",
     "height": 241
    },
    "colab_type": "code",
    "id": "rBLBYGGLb97d",
    "outputId": "d8646b2b-adff-41c9-9f50-1ad6cfae8ccc"
   },
   "outputs": [
    {
     "data": {
      "text/html": [
       "<div>\n",
       "<style scoped>\n",
       "    .dataframe tbody tr th:only-of-type {\n",
       "        vertical-align: middle;\n",
       "    }\n",
       "\n",
       "    .dataframe tbody tr th {\n",
       "        vertical-align: top;\n",
       "    }\n",
       "\n",
       "    .dataframe thead th {\n",
       "        text-align: right;\n",
       "    }\n",
       "</style>\n",
       "<table border=\"1\" class=\"dataframe\">\n",
       "  <thead>\n",
       "    <tr style=\"text-align: right;\">\n",
       "      <th></th>\n",
       "      <th>A</th>\n",
       "      <th>B</th>\n",
       "      <th>C</th>\n",
       "      <th>D</th>\n",
       "    </tr>\n",
       "  </thead>\n",
       "  <tbody>\n",
       "    <tr>\n",
       "      <th>2013-01-01</th>\n",
       "      <td>1.698129</td>\n",
       "      <td>-0.205772</td>\n",
       "      <td>0.087627</td>\n",
       "      <td>0.439929</td>\n",
       "    </tr>\n",
       "    <tr>\n",
       "      <th>2013-01-02</th>\n",
       "      <td>1.003996</td>\n",
       "      <td>-0.273146</td>\n",
       "      <td>1.379582</td>\n",
       "      <td>-0.094757</td>\n",
       "    </tr>\n",
       "    <tr>\n",
       "      <th>2013-01-03</th>\n",
       "      <td>-1.382242</td>\n",
       "      <td>-0.036669</td>\n",
       "      <td>0.280952</td>\n",
       "      <td>-1.013865</td>\n",
       "    </tr>\n",
       "    <tr>\n",
       "      <th>2013-01-04</th>\n",
       "      <td>-1.866631</td>\n",
       "      <td>1.415298</td>\n",
       "      <td>1.719371</td>\n",
       "      <td>0.469203</td>\n",
       "    </tr>\n",
       "    <tr>\n",
       "      <th>2013-01-05</th>\n",
       "      <td>-0.734728</td>\n",
       "      <td>-0.396255</td>\n",
       "      <td>-0.884039</td>\n",
       "      <td>1.381769</td>\n",
       "    </tr>\n",
       "  </tbody>\n",
       "</table>\n",
       "</div>"
      ],
      "text/plain": [
       "                   A         B         C         D\n",
       "2013-01-01  1.698129 -0.205772  0.087627  0.439929\n",
       "2013-01-02  1.003996 -0.273146  1.379582 -0.094757\n",
       "2013-01-03 -1.382242 -0.036669  0.280952 -1.013865\n",
       "2013-01-04 -1.866631  1.415298  1.719371  0.469203\n",
       "2013-01-05 -0.734728 -0.396255 -0.884039  1.381769"
      ]
     },
     "execution_count": 41,
     "metadata": {},
     "output_type": "execute_result"
    }
   ],
   "source": [
    "df.head() # mostra o topo"
   ]
  },
  {
   "cell_type": "code",
   "execution_count": 42,
   "metadata": {
    "colab": {
     "base_uri": "https://localhost:8080/",
     "height": 241
    },
    "colab_type": "code",
    "id": "g3qL6ddCciBV",
    "outputId": "483511dc-990e-4114-c1e0-15fa4d0c2276"
   },
   "outputs": [
    {
     "data": {
      "text/html": [
       "<div>\n",
       "<style scoped>\n",
       "    .dataframe tbody tr th:only-of-type {\n",
       "        vertical-align: middle;\n",
       "    }\n",
       "\n",
       "    .dataframe tbody tr th {\n",
       "        vertical-align: top;\n",
       "    }\n",
       "\n",
       "    .dataframe thead th {\n",
       "        text-align: right;\n",
       "    }\n",
       "</style>\n",
       "<table border=\"1\" class=\"dataframe\">\n",
       "  <thead>\n",
       "    <tr style=\"text-align: right;\">\n",
       "      <th></th>\n",
       "      <th>A</th>\n",
       "      <th>B</th>\n",
       "      <th>C</th>\n",
       "      <th>D</th>\n",
       "    </tr>\n",
       "  </thead>\n",
       "  <tbody>\n",
       "    <tr>\n",
       "      <th>2013-01-02</th>\n",
       "      <td>1.003996</td>\n",
       "      <td>-0.273146</td>\n",
       "      <td>1.379582</td>\n",
       "      <td>-0.094757</td>\n",
       "    </tr>\n",
       "    <tr>\n",
       "      <th>2013-01-03</th>\n",
       "      <td>-1.382242</td>\n",
       "      <td>-0.036669</td>\n",
       "      <td>0.280952</td>\n",
       "      <td>-1.013865</td>\n",
       "    </tr>\n",
       "    <tr>\n",
       "      <th>2013-01-04</th>\n",
       "      <td>-1.866631</td>\n",
       "      <td>1.415298</td>\n",
       "      <td>1.719371</td>\n",
       "      <td>0.469203</td>\n",
       "    </tr>\n",
       "    <tr>\n",
       "      <th>2013-01-05</th>\n",
       "      <td>-0.734728</td>\n",
       "      <td>-0.396255</td>\n",
       "      <td>-0.884039</td>\n",
       "      <td>1.381769</td>\n",
       "    </tr>\n",
       "    <tr>\n",
       "      <th>2013-01-06</th>\n",
       "      <td>-0.860862</td>\n",
       "      <td>0.839730</td>\n",
       "      <td>-0.122922</td>\n",
       "      <td>-1.469449</td>\n",
       "    </tr>\n",
       "  </tbody>\n",
       "</table>\n",
       "</div>"
      ],
      "text/plain": [
       "                   A         B         C         D\n",
       "2013-01-02  1.003996 -0.273146  1.379582 -0.094757\n",
       "2013-01-03 -1.382242 -0.036669  0.280952 -1.013865\n",
       "2013-01-04 -1.866631  1.415298  1.719371  0.469203\n",
       "2013-01-05 -0.734728 -0.396255 -0.884039  1.381769\n",
       "2013-01-06 -0.860862  0.839730 -0.122922 -1.469449"
      ]
     },
     "execution_count": 42,
     "metadata": {},
     "output_type": "execute_result"
    }
   ],
   "source": [
    "df.tail() # mostra o fim"
   ]
  },
  {
   "cell_type": "code",
   "execution_count": 43,
   "metadata": {
    "colab": {
     "base_uri": "https://localhost:8080/",
     "height": 107
    },
    "colab_type": "code",
    "id": "O0ewgYlxcj-1",
    "outputId": "aa56bc07-29ab-4b22-aa05-6364ebffeed9"
   },
   "outputs": [
    {
     "data": {
      "text/plain": [
       "DatetimeIndex(['2013-01-01', '2013-01-02', '2013-01-03', '2013-01-04',\n",
       "               '2013-01-05', '2013-01-06'],\n",
       "              dtype='datetime64[ns]', freq='D')"
      ]
     },
     "execution_count": 43,
     "metadata": {},
     "output_type": "execute_result"
    }
   ],
   "source": [
    "df.index # retorna o índice"
   ]
  },
  {
   "cell_type": "code",
   "execution_count": 44,
   "metadata": {
    "colab": {
     "base_uri": "https://localhost:8080/",
     "height": 74
    },
    "colab_type": "code",
    "id": "sBDvNZujcogR",
    "outputId": "f6231f46-b512-46d1-99d4-ade5a89bc9be"
   },
   "outputs": [
    {
     "data": {
      "text/plain": [
       "Index(['A', 'B', 'C', 'D'], dtype='object')"
      ]
     },
     "execution_count": 44,
     "metadata": {},
     "output_type": "execute_result"
    }
   ],
   "source": [
    "df.columns # retorna as colunas"
   ]
  },
  {
   "cell_type": "code",
   "execution_count": 45,
   "metadata": {
    "colab": {
     "base_uri": "https://localhost:8080/",
     "height": 158
    },
    "colab_type": "code",
    "id": "BIcdJHmLcrbP",
    "outputId": "c201b3c4-26db-4727-f537-31fa8390d0e1"
   },
   "outputs": [
    {
     "data": {
      "text/plain": [
       "array([[ 1.69812865, -0.20577223,  0.08762732,  0.43992861],\n",
       "       [ 1.00399649, -0.27314571,  1.37958226, -0.09475735],\n",
       "       [-1.38224233, -0.03666908,  0.28095205, -1.01386457],\n",
       "       [-1.8666313 ,  1.41529808,  1.71937082,  0.46920287],\n",
       "       [-0.73472757, -0.39625498, -0.88403911,  1.38176938],\n",
       "       [-0.86086159,  0.83972951, -0.12292221, -1.46944947]])"
      ]
     },
     "execution_count": 45,
     "metadata": {},
     "output_type": "execute_result"
    }
   ],
   "source": [
    "df.values # retorna os valores como uma matriz numpy"
   ]
  },
  {
   "cell_type": "code",
   "execution_count": 46,
   "metadata": {
    "colab": {
     "base_uri": "https://localhost:8080/",
     "height": 333
    },
    "colab_type": "code",
    "id": "4sjvIzbBcxmM",
    "outputId": "50d985d4-072f-4c00-d7ec-f0f572418dd8"
   },
   "outputs": [
    {
     "data": {
      "text/html": [
       "<div>\n",
       "<style scoped>\n",
       "    .dataframe tbody tr th:only-of-type {\n",
       "        vertical-align: middle;\n",
       "    }\n",
       "\n",
       "    .dataframe tbody tr th {\n",
       "        vertical-align: top;\n",
       "    }\n",
       "\n",
       "    .dataframe thead th {\n",
       "        text-align: right;\n",
       "    }\n",
       "</style>\n",
       "<table border=\"1\" class=\"dataframe\">\n",
       "  <thead>\n",
       "    <tr style=\"text-align: right;\">\n",
       "      <th></th>\n",
       "      <th>A</th>\n",
       "      <th>B</th>\n",
       "      <th>C</th>\n",
       "      <th>D</th>\n",
       "    </tr>\n",
       "  </thead>\n",
       "  <tbody>\n",
       "    <tr>\n",
       "      <th>count</th>\n",
       "      <td>6.000000</td>\n",
       "      <td>6.000000</td>\n",
       "      <td>6.000000</td>\n",
       "      <td>6.000000</td>\n",
       "    </tr>\n",
       "    <tr>\n",
       "      <th>mean</th>\n",
       "      <td>-0.357056</td>\n",
       "      <td>0.223864</td>\n",
       "      <td>0.410095</td>\n",
       "      <td>-0.047862</td>\n",
       "    </tr>\n",
       "    <tr>\n",
       "      <th>std</th>\n",
       "      <td>1.400181</td>\n",
       "      <td>0.732508</td>\n",
       "      <td>0.973002</td>\n",
       "      <td>1.049325</td>\n",
       "    </tr>\n",
       "    <tr>\n",
       "      <th>min</th>\n",
       "      <td>-1.866631</td>\n",
       "      <td>-0.396255</td>\n",
       "      <td>-0.884039</td>\n",
       "      <td>-1.469449</td>\n",
       "    </tr>\n",
       "    <tr>\n",
       "      <th>25%</th>\n",
       "      <td>-1.251897</td>\n",
       "      <td>-0.256302</td>\n",
       "      <td>-0.070285</td>\n",
       "      <td>-0.784088</td>\n",
       "    </tr>\n",
       "    <tr>\n",
       "      <th>50%</th>\n",
       "      <td>-0.797795</td>\n",
       "      <td>-0.121221</td>\n",
       "      <td>0.184290</td>\n",
       "      <td>0.172586</td>\n",
       "    </tr>\n",
       "    <tr>\n",
       "      <th>75%</th>\n",
       "      <td>0.569315</td>\n",
       "      <td>0.620630</td>\n",
       "      <td>1.104925</td>\n",
       "      <td>0.461884</td>\n",
       "    </tr>\n",
       "    <tr>\n",
       "      <th>max</th>\n",
       "      <td>1.698129</td>\n",
       "      <td>1.415298</td>\n",
       "      <td>1.719371</td>\n",
       "      <td>1.381769</td>\n",
       "    </tr>\n",
       "  </tbody>\n",
       "</table>\n",
       "</div>"
      ],
      "text/plain": [
       "              A         B         C         D\n",
       "count  6.000000  6.000000  6.000000  6.000000\n",
       "mean  -0.357056  0.223864  0.410095 -0.047862\n",
       "std    1.400181  0.732508  0.973002  1.049325\n",
       "min   -1.866631 -0.396255 -0.884039 -1.469449\n",
       "25%   -1.251897 -0.256302 -0.070285 -0.784088\n",
       "50%   -0.797795 -0.121221  0.184290  0.172586\n",
       "75%    0.569315  0.620630  1.104925  0.461884\n",
       "max    1.698129  1.415298  1.719371  1.381769"
      ]
     },
     "execution_count": 46,
     "metadata": {},
     "output_type": "execute_result"
    }
   ],
   "source": [
    "df.describe() # medidas descritivas para atributos numéricos"
   ]
  },
  {
   "cell_type": "code",
   "execution_count": 47,
   "metadata": {
    "colab": {
     "base_uri": "https://localhost:8080/",
     "height": 333
    },
    "colab_type": "code",
    "id": "xXLI65tPc0aK",
    "outputId": "b2134627-8c07-4992-93de-f2d0cfe30934"
   },
   "outputs": [
    {
     "data": {
      "text/html": [
       "<div>\n",
       "<style scoped>\n",
       "    .dataframe tbody tr th:only-of-type {\n",
       "        vertical-align: middle;\n",
       "    }\n",
       "\n",
       "    .dataframe tbody tr th {\n",
       "        vertical-align: top;\n",
       "    }\n",
       "\n",
       "    .dataframe thead th {\n",
       "        text-align: right;\n",
       "    }\n",
       "</style>\n",
       "<table border=\"1\" class=\"dataframe\">\n",
       "  <thead>\n",
       "    <tr style=\"text-align: right;\">\n",
       "      <th></th>\n",
       "      <th>A</th>\n",
       "      <th>C</th>\n",
       "      <th>D</th>\n",
       "    </tr>\n",
       "  </thead>\n",
       "  <tbody>\n",
       "    <tr>\n",
       "      <th>count</th>\n",
       "      <td>4.0</td>\n",
       "      <td>4.0</td>\n",
       "      <td>4.0</td>\n",
       "    </tr>\n",
       "    <tr>\n",
       "      <th>mean</th>\n",
       "      <td>1.0</td>\n",
       "      <td>1.0</td>\n",
       "      <td>3.0</td>\n",
       "    </tr>\n",
       "    <tr>\n",
       "      <th>std</th>\n",
       "      <td>0.0</td>\n",
       "      <td>0.0</td>\n",
       "      <td>0.0</td>\n",
       "    </tr>\n",
       "    <tr>\n",
       "      <th>min</th>\n",
       "      <td>1.0</td>\n",
       "      <td>1.0</td>\n",
       "      <td>3.0</td>\n",
       "    </tr>\n",
       "    <tr>\n",
       "      <th>25%</th>\n",
       "      <td>1.0</td>\n",
       "      <td>1.0</td>\n",
       "      <td>3.0</td>\n",
       "    </tr>\n",
       "    <tr>\n",
       "      <th>50%</th>\n",
       "      <td>1.0</td>\n",
       "      <td>1.0</td>\n",
       "      <td>3.0</td>\n",
       "    </tr>\n",
       "    <tr>\n",
       "      <th>75%</th>\n",
       "      <td>1.0</td>\n",
       "      <td>1.0</td>\n",
       "      <td>3.0</td>\n",
       "    </tr>\n",
       "    <tr>\n",
       "      <th>max</th>\n",
       "      <td>1.0</td>\n",
       "      <td>1.0</td>\n",
       "      <td>3.0</td>\n",
       "    </tr>\n",
       "  </tbody>\n",
       "</table>\n",
       "</div>"
      ],
      "text/plain": [
       "         A    C    D\n",
       "count  4.0  4.0  4.0\n",
       "mean   1.0  1.0  3.0\n",
       "std    0.0  0.0  0.0\n",
       "min    1.0  1.0  3.0\n",
       "25%    1.0  1.0  3.0\n",
       "50%    1.0  1.0  3.0\n",
       "75%    1.0  1.0  3.0\n",
       "max    1.0  1.0  3.0"
      ]
     },
     "execution_count": 47,
     "metadata": {},
     "output_type": "execute_result"
    }
   ],
   "source": [
    "df2.describe() # veja que atributos não numéricos são ignorados"
   ]
  },
  {
   "cell_type": "code",
   "execution_count": 48,
   "metadata": {
    "colab": {
     "base_uri": "https://localhost:8080/",
     "height": 227
    },
    "colab_type": "code",
    "id": "zU4OMhJgc2VC",
    "outputId": "e6192e04-51ab-4946-9683-b0712b4b91a1"
   },
   "outputs": [
    {
     "data": {
      "text/html": [
       "<div>\n",
       "<style scoped>\n",
       "    .dataframe tbody tr th:only-of-type {\n",
       "        vertical-align: middle;\n",
       "    }\n",
       "\n",
       "    .dataframe tbody tr th {\n",
       "        vertical-align: top;\n",
       "    }\n",
       "\n",
       "    .dataframe thead th {\n",
       "        text-align: right;\n",
       "    }\n",
       "</style>\n",
       "<table border=\"1\" class=\"dataframe\">\n",
       "  <thead>\n",
       "    <tr style=\"text-align: right;\">\n",
       "      <th></th>\n",
       "      <th>2013-01-01 00:00:00</th>\n",
       "      <th>2013-01-02 00:00:00</th>\n",
       "      <th>2013-01-03 00:00:00</th>\n",
       "      <th>2013-01-04 00:00:00</th>\n",
       "      <th>2013-01-05 00:00:00</th>\n",
       "      <th>2013-01-06 00:00:00</th>\n",
       "    </tr>\n",
       "  </thead>\n",
       "  <tbody>\n",
       "    <tr>\n",
       "      <th>A</th>\n",
       "      <td>1.698129</td>\n",
       "      <td>1.003996</td>\n",
       "      <td>-1.382242</td>\n",
       "      <td>-1.866631</td>\n",
       "      <td>-0.734728</td>\n",
       "      <td>-0.860862</td>\n",
       "    </tr>\n",
       "    <tr>\n",
       "      <th>B</th>\n",
       "      <td>-0.205772</td>\n",
       "      <td>-0.273146</td>\n",
       "      <td>-0.036669</td>\n",
       "      <td>1.415298</td>\n",
       "      <td>-0.396255</td>\n",
       "      <td>0.839730</td>\n",
       "    </tr>\n",
       "    <tr>\n",
       "      <th>C</th>\n",
       "      <td>0.087627</td>\n",
       "      <td>1.379582</td>\n",
       "      <td>0.280952</td>\n",
       "      <td>1.719371</td>\n",
       "      <td>-0.884039</td>\n",
       "      <td>-0.122922</td>\n",
       "    </tr>\n",
       "    <tr>\n",
       "      <th>D</th>\n",
       "      <td>0.439929</td>\n",
       "      <td>-0.094757</td>\n",
       "      <td>-1.013865</td>\n",
       "      <td>0.469203</td>\n",
       "      <td>1.381769</td>\n",
       "      <td>-1.469449</td>\n",
       "    </tr>\n",
       "  </tbody>\n",
       "</table>\n",
       "</div>"
      ],
      "text/plain": [
       "   2013-01-01  2013-01-02  2013-01-03  2013-01-04  2013-01-05  2013-01-06\n",
       "A    1.698129    1.003996   -1.382242   -1.866631   -0.734728   -0.860862\n",
       "B   -0.205772   -0.273146   -0.036669    1.415298   -0.396255    0.839730\n",
       "C    0.087627    1.379582    0.280952    1.719371   -0.884039   -0.122922\n",
       "D    0.439929   -0.094757   -1.013865    0.469203    1.381769   -1.469449"
      ]
     },
     "execution_count": 48,
     "metadata": {},
     "output_type": "execute_result"
    }
   ],
   "source": [
    "df.T # DataFrame transposta"
   ]
  },
  {
   "cell_type": "code",
   "execution_count": 49,
   "metadata": {
    "colab": {
     "base_uri": "https://localhost:8080/",
     "height": 273
    },
    "colab_type": "code",
    "id": "tVfWF8nHdW_z",
    "outputId": "dd6cf93c-6a6e-4e81-f81a-53a491df9e2b"
   },
   "outputs": [
    {
     "data": {
      "text/html": [
       "<div>\n",
       "<style scoped>\n",
       "    .dataframe tbody tr th:only-of-type {\n",
       "        vertical-align: middle;\n",
       "    }\n",
       "\n",
       "    .dataframe tbody tr th {\n",
       "        vertical-align: top;\n",
       "    }\n",
       "\n",
       "    .dataframe thead th {\n",
       "        text-align: right;\n",
       "    }\n",
       "</style>\n",
       "<table border=\"1\" class=\"dataframe\">\n",
       "  <thead>\n",
       "    <tr style=\"text-align: right;\">\n",
       "      <th></th>\n",
       "      <th>A</th>\n",
       "      <th>B</th>\n",
       "      <th>C</th>\n",
       "      <th>D</th>\n",
       "    </tr>\n",
       "  </thead>\n",
       "  <tbody>\n",
       "    <tr>\n",
       "      <th>2013-01-06</th>\n",
       "      <td>-0.860862</td>\n",
       "      <td>0.839730</td>\n",
       "      <td>-0.122922</td>\n",
       "      <td>-1.469449</td>\n",
       "    </tr>\n",
       "    <tr>\n",
       "      <th>2013-01-05</th>\n",
       "      <td>-0.734728</td>\n",
       "      <td>-0.396255</td>\n",
       "      <td>-0.884039</td>\n",
       "      <td>1.381769</td>\n",
       "    </tr>\n",
       "    <tr>\n",
       "      <th>2013-01-04</th>\n",
       "      <td>-1.866631</td>\n",
       "      <td>1.415298</td>\n",
       "      <td>1.719371</td>\n",
       "      <td>0.469203</td>\n",
       "    </tr>\n",
       "    <tr>\n",
       "      <th>2013-01-03</th>\n",
       "      <td>-1.382242</td>\n",
       "      <td>-0.036669</td>\n",
       "      <td>0.280952</td>\n",
       "      <td>-1.013865</td>\n",
       "    </tr>\n",
       "    <tr>\n",
       "      <th>2013-01-02</th>\n",
       "      <td>1.003996</td>\n",
       "      <td>-0.273146</td>\n",
       "      <td>1.379582</td>\n",
       "      <td>-0.094757</td>\n",
       "    </tr>\n",
       "    <tr>\n",
       "      <th>2013-01-01</th>\n",
       "      <td>1.698129</td>\n",
       "      <td>-0.205772</td>\n",
       "      <td>0.087627</td>\n",
       "      <td>0.439929</td>\n",
       "    </tr>\n",
       "  </tbody>\n",
       "</table>\n",
       "</div>"
      ],
      "text/plain": [
       "                   A         B         C         D\n",
       "2013-01-06 -0.860862  0.839730 -0.122922 -1.469449\n",
       "2013-01-05 -0.734728 -0.396255 -0.884039  1.381769\n",
       "2013-01-04 -1.866631  1.415298  1.719371  0.469203\n",
       "2013-01-03 -1.382242 -0.036669  0.280952 -1.013865\n",
       "2013-01-02  1.003996 -0.273146  1.379582 -0.094757\n",
       "2013-01-01  1.698129 -0.205772  0.087627  0.439929"
      ]
     },
     "execution_count": 49,
     "metadata": {},
     "output_type": "execute_result"
    }
   ],
   "source": [
    "df.sort_index(axis = 0, ascending = False) # ordena linhas pelo índice (decrescente)"
   ]
  },
  {
   "cell_type": "code",
   "execution_count": 50,
   "metadata": {
    "colab": {
     "base_uri": "https://localhost:8080/",
     "height": 273
    },
    "colab_type": "code",
    "id": "LScsR2kmdid3",
    "outputId": "6c426490-804c-40ac-f8dc-e59d7ebfaec2"
   },
   "outputs": [
    {
     "data": {
      "text/html": [
       "<div>\n",
       "<style scoped>\n",
       "    .dataframe tbody tr th:only-of-type {\n",
       "        vertical-align: middle;\n",
       "    }\n",
       "\n",
       "    .dataframe tbody tr th {\n",
       "        vertical-align: top;\n",
       "    }\n",
       "\n",
       "    .dataframe thead th {\n",
       "        text-align: right;\n",
       "    }\n",
       "</style>\n",
       "<table border=\"1\" class=\"dataframe\">\n",
       "  <thead>\n",
       "    <tr style=\"text-align: right;\">\n",
       "      <th></th>\n",
       "      <th>D</th>\n",
       "      <th>C</th>\n",
       "      <th>B</th>\n",
       "      <th>A</th>\n",
       "    </tr>\n",
       "  </thead>\n",
       "  <tbody>\n",
       "    <tr>\n",
       "      <th>2013-01-01</th>\n",
       "      <td>0.439929</td>\n",
       "      <td>0.087627</td>\n",
       "      <td>-0.205772</td>\n",
       "      <td>1.698129</td>\n",
       "    </tr>\n",
       "    <tr>\n",
       "      <th>2013-01-02</th>\n",
       "      <td>-0.094757</td>\n",
       "      <td>1.379582</td>\n",
       "      <td>-0.273146</td>\n",
       "      <td>1.003996</td>\n",
       "    </tr>\n",
       "    <tr>\n",
       "      <th>2013-01-03</th>\n",
       "      <td>-1.013865</td>\n",
       "      <td>0.280952</td>\n",
       "      <td>-0.036669</td>\n",
       "      <td>-1.382242</td>\n",
       "    </tr>\n",
       "    <tr>\n",
       "      <th>2013-01-04</th>\n",
       "      <td>0.469203</td>\n",
       "      <td>1.719371</td>\n",
       "      <td>1.415298</td>\n",
       "      <td>-1.866631</td>\n",
       "    </tr>\n",
       "    <tr>\n",
       "      <th>2013-01-05</th>\n",
       "      <td>1.381769</td>\n",
       "      <td>-0.884039</td>\n",
       "      <td>-0.396255</td>\n",
       "      <td>-0.734728</td>\n",
       "    </tr>\n",
       "    <tr>\n",
       "      <th>2013-01-06</th>\n",
       "      <td>-1.469449</td>\n",
       "      <td>-0.122922</td>\n",
       "      <td>0.839730</td>\n",
       "      <td>-0.860862</td>\n",
       "    </tr>\n",
       "  </tbody>\n",
       "</table>\n",
       "</div>"
      ],
      "text/plain": [
       "                   D         C         B         A\n",
       "2013-01-01  0.439929  0.087627 -0.205772  1.698129\n",
       "2013-01-02 -0.094757  1.379582 -0.273146  1.003996\n",
       "2013-01-03 -1.013865  0.280952 -0.036669 -1.382242\n",
       "2013-01-04  0.469203  1.719371  1.415298 -1.866631\n",
       "2013-01-05  1.381769 -0.884039 -0.396255 -0.734728\n",
       "2013-01-06 -1.469449 -0.122922  0.839730 -0.860862"
      ]
     },
     "execution_count": 50,
     "metadata": {},
     "output_type": "execute_result"
    }
   ],
   "source": [
    "# ordena colunas em ordem descrescente\n",
    "df.sort_index(axis = 1, ascending = False)"
   ]
  },
  {
   "cell_type": "code",
   "execution_count": 51,
   "metadata": {
    "colab": {
     "base_uri": "https://localhost:8080/",
     "height": 273
    },
    "colab_type": "code",
    "id": "fqe7iyWQdxDT",
    "outputId": "497205db-2fb2-457e-f410-ab0a055473e1"
   },
   "outputs": [
    {
     "data": {
      "text/html": [
       "<div>\n",
       "<style scoped>\n",
       "    .dataframe tbody tr th:only-of-type {\n",
       "        vertical-align: middle;\n",
       "    }\n",
       "\n",
       "    .dataframe tbody tr th {\n",
       "        vertical-align: top;\n",
       "    }\n",
       "\n",
       "    .dataframe thead th {\n",
       "        text-align: right;\n",
       "    }\n",
       "</style>\n",
       "<table border=\"1\" class=\"dataframe\">\n",
       "  <thead>\n",
       "    <tr style=\"text-align: right;\">\n",
       "      <th></th>\n",
       "      <th>A</th>\n",
       "      <th>B</th>\n",
       "      <th>C</th>\n",
       "      <th>D</th>\n",
       "    </tr>\n",
       "  </thead>\n",
       "  <tbody>\n",
       "    <tr>\n",
       "      <th>2013-01-05</th>\n",
       "      <td>-0.734728</td>\n",
       "      <td>-0.396255</td>\n",
       "      <td>-0.884039</td>\n",
       "      <td>1.381769</td>\n",
       "    </tr>\n",
       "    <tr>\n",
       "      <th>2013-01-02</th>\n",
       "      <td>1.003996</td>\n",
       "      <td>-0.273146</td>\n",
       "      <td>1.379582</td>\n",
       "      <td>-0.094757</td>\n",
       "    </tr>\n",
       "    <tr>\n",
       "      <th>2013-01-01</th>\n",
       "      <td>1.698129</td>\n",
       "      <td>-0.205772</td>\n",
       "      <td>0.087627</td>\n",
       "      <td>0.439929</td>\n",
       "    </tr>\n",
       "    <tr>\n",
       "      <th>2013-01-03</th>\n",
       "      <td>-1.382242</td>\n",
       "      <td>-0.036669</td>\n",
       "      <td>0.280952</td>\n",
       "      <td>-1.013865</td>\n",
       "    </tr>\n",
       "    <tr>\n",
       "      <th>2013-01-06</th>\n",
       "      <td>-0.860862</td>\n",
       "      <td>0.839730</td>\n",
       "      <td>-0.122922</td>\n",
       "      <td>-1.469449</td>\n",
       "    </tr>\n",
       "    <tr>\n",
       "      <th>2013-01-04</th>\n",
       "      <td>-1.866631</td>\n",
       "      <td>1.415298</td>\n",
       "      <td>1.719371</td>\n",
       "      <td>0.469203</td>\n",
       "    </tr>\n",
       "  </tbody>\n",
       "</table>\n",
       "</div>"
      ],
      "text/plain": [
       "                   A         B         C         D\n",
       "2013-01-05 -0.734728 -0.396255 -0.884039  1.381769\n",
       "2013-01-02  1.003996 -0.273146  1.379582 -0.094757\n",
       "2013-01-01  1.698129 -0.205772  0.087627  0.439929\n",
       "2013-01-03 -1.382242 -0.036669  0.280952 -1.013865\n",
       "2013-01-06 -0.860862  0.839730 -0.122922 -1.469449\n",
       "2013-01-04 -1.866631  1.415298  1.719371  0.469203"
      ]
     },
     "execution_count": 51,
     "metadata": {},
     "output_type": "execute_result"
    }
   ],
   "source": [
    "df.sort_values(by = 'B')"
   ]
  },
  {
   "cell_type": "code",
   "execution_count": 52,
   "metadata": {
    "colab": {
     "base_uri": "https://localhost:8080/",
     "height": 273
    },
    "colab_type": "code",
    "id": "7jLseZi7d46M",
    "outputId": "6cf54a6c-9677-48a9-b08c-ead028b3cb3f"
   },
   "outputs": [
    {
     "data": {
      "text/html": [
       "<div>\n",
       "<style scoped>\n",
       "    .dataframe tbody tr th:only-of-type {\n",
       "        vertical-align: middle;\n",
       "    }\n",
       "\n",
       "    .dataframe tbody tr th {\n",
       "        vertical-align: top;\n",
       "    }\n",
       "\n",
       "    .dataframe thead th {\n",
       "        text-align: right;\n",
       "    }\n",
       "</style>\n",
       "<table border=\"1\" class=\"dataframe\">\n",
       "  <thead>\n",
       "    <tr style=\"text-align: right;\">\n",
       "      <th></th>\n",
       "      <th>A</th>\n",
       "      <th>B</th>\n",
       "      <th>C</th>\n",
       "      <th>D</th>\n",
       "    </tr>\n",
       "  </thead>\n",
       "  <tbody>\n",
       "    <tr>\n",
       "      <th>2013-01-05</th>\n",
       "      <td>-0.734728</td>\n",
       "      <td>-0.396255</td>\n",
       "      <td>-0.884039</td>\n",
       "      <td>1.381769</td>\n",
       "    </tr>\n",
       "    <tr>\n",
       "      <th>2013-01-02</th>\n",
       "      <td>1.003996</td>\n",
       "      <td>-0.273146</td>\n",
       "      <td>1.379582</td>\n",
       "      <td>-0.094757</td>\n",
       "    </tr>\n",
       "    <tr>\n",
       "      <th>2013-01-01</th>\n",
       "      <td>1.698129</td>\n",
       "      <td>-0.205772</td>\n",
       "      <td>0.087627</td>\n",
       "      <td>0.439929</td>\n",
       "    </tr>\n",
       "    <tr>\n",
       "      <th>2013-01-03</th>\n",
       "      <td>-1.382242</td>\n",
       "      <td>-0.036669</td>\n",
       "      <td>0.280952</td>\n",
       "      <td>-1.013865</td>\n",
       "    </tr>\n",
       "    <tr>\n",
       "      <th>2013-01-06</th>\n",
       "      <td>-0.860862</td>\n",
       "      <td>0.839730</td>\n",
       "      <td>-0.122922</td>\n",
       "      <td>-1.469449</td>\n",
       "    </tr>\n",
       "    <tr>\n",
       "      <th>2013-01-04</th>\n",
       "      <td>-1.866631</td>\n",
       "      <td>1.415298</td>\n",
       "      <td>1.719371</td>\n",
       "      <td>0.469203</td>\n",
       "    </tr>\n",
       "  </tbody>\n",
       "</table>\n",
       "</div>"
      ],
      "text/plain": [
       "                   A         B         C         D\n",
       "2013-01-05 -0.734728 -0.396255 -0.884039  1.381769\n",
       "2013-01-02  1.003996 -0.273146  1.379582 -0.094757\n",
       "2013-01-01  1.698129 -0.205772  0.087627  0.439929\n",
       "2013-01-03 -1.382242 -0.036669  0.280952 -1.013865\n",
       "2013-01-06 -0.860862  0.839730 -0.122922 -1.469449\n",
       "2013-01-04 -1.866631  1.415298  1.719371  0.469203"
      ]
     },
     "execution_count": 52,
     "metadata": {},
     "output_type": "execute_result"
    }
   ],
   "source": [
    "df.sort_values(by = ['B', 'D'], ascending = [True, False])"
   ]
  },
  {
   "cell_type": "code",
   "execution_count": 53,
   "metadata": {
    "colab": {
     "base_uri": "https://localhost:8080/",
     "height": 212
    },
    "colab_type": "code",
    "id": "3GbVDXn9gPmo",
    "outputId": "3eae56eb-0a1f-4340-fd5c-3e0854c41f50"
   },
   "outputs": [
    {
     "data": {
      "text/html": [
       "<div>\n",
       "<style scoped>\n",
       "    .dataframe tbody tr th:only-of-type {\n",
       "        vertical-align: middle;\n",
       "    }\n",
       "\n",
       "    .dataframe tbody tr th {\n",
       "        vertical-align: top;\n",
       "    }\n",
       "\n",
       "    .dataframe thead th {\n",
       "        text-align: right;\n",
       "    }\n",
       "</style>\n",
       "<table border=\"1\" class=\"dataframe\">\n",
       "  <thead>\n",
       "    <tr style=\"text-align: right;\">\n",
       "      <th></th>\n",
       "      <th>A</th>\n",
       "      <th>B</th>\n",
       "      <th>C</th>\n",
       "      <th>D</th>\n",
       "      <th>E</th>\n",
       "      <th>F</th>\n",
       "    </tr>\n",
       "  </thead>\n",
       "  <tbody>\n",
       "    <tr>\n",
       "      <th>0</th>\n",
       "      <td>1.0</td>\n",
       "      <td>2013-01-02</td>\n",
       "      <td>1.0</td>\n",
       "      <td>3</td>\n",
       "      <td>test</td>\n",
       "      <td>foo</td>\n",
       "    </tr>\n",
       "    <tr>\n",
       "      <th>1</th>\n",
       "      <td>1.0</td>\n",
       "      <td>2013-01-02</td>\n",
       "      <td>1.0</td>\n",
       "      <td>3</td>\n",
       "      <td>train</td>\n",
       "      <td>foo</td>\n",
       "    </tr>\n",
       "    <tr>\n",
       "      <th>2</th>\n",
       "      <td>1.0</td>\n",
       "      <td>2013-01-02</td>\n",
       "      <td>1.0</td>\n",
       "      <td>3</td>\n",
       "      <td>test</td>\n",
       "      <td>foo</td>\n",
       "    </tr>\n",
       "    <tr>\n",
       "      <th>3</th>\n",
       "      <td>1.0</td>\n",
       "      <td>2013-01-02</td>\n",
       "      <td>1.0</td>\n",
       "      <td>3</td>\n",
       "      <td>train</td>\n",
       "      <td>foo</td>\n",
       "    </tr>\n",
       "  </tbody>\n",
       "</table>\n",
       "</div>"
      ],
      "text/plain": [
       "     A          B    C  D      E    F\n",
       "0  1.0 2013-01-02  1.0  3   test  foo\n",
       "1  1.0 2013-01-02  1.0  3  train  foo\n",
       "2  1.0 2013-01-02  1.0  3   test  foo\n",
       "3  1.0 2013-01-02  1.0  3  train  foo"
      ]
     },
     "execution_count": 53,
     "metadata": {},
     "output_type": "execute_result"
    }
   ],
   "source": [
    "df2 = pd.DataFrame({ 'A' : 1.,\n",
    "                     'B' : pd.Timestamp('20130102'),\n",
    "                     'C' : pd.Series(1,index=list(range(4)),dtype='float32'),\n",
    "                     'D' : np.array([3] * 4,dtype='int32'),\n",
    "                     'E' : pd.Categorical([\"test\",\"train\",\"test\",\"train\"]),\n",
    "                     'F' : 'foo' })\n",
    "df2"
   ]
  },
  {
   "cell_type": "markdown",
   "metadata": {
    "colab_type": "text",
    "id": "cr-EvTc0gPmr"
   },
   "source": [
    "### Seleção em DataFrames\n",
    "\n",
    "Como podemos selecionar áreas de interesse de uma DataFrame?"
   ]
  },
  {
   "cell_type": "code",
   "execution_count": 54,
   "metadata": {
    "colab": {
     "base_uri": "https://localhost:8080/",
     "height": 173
    },
    "colab_type": "code",
    "id": "Cz9AnAQVgPms",
    "outputId": "e7742295-50c8-4791-e090-1a5eff6a48ee"
   },
   "outputs": [
    {
     "data": {
      "text/plain": [
       "2013-01-01    1.698129\n",
       "2013-01-02    1.003996\n",
       "2013-01-03   -1.382242\n",
       "2013-01-04   -1.866631\n",
       "2013-01-05   -0.734728\n",
       "2013-01-06   -0.860862\n",
       "Freq: D, Name: A, dtype: float64"
      ]
     },
     "execution_count": 54,
     "metadata": {},
     "output_type": "execute_result"
    }
   ],
   "source": [
    "# Series com nome 'A' de 'df'\n",
    "df['A']"
   ]
  },
  {
   "cell_type": "code",
   "execution_count": 55,
   "metadata": {
    "colab": {
     "base_uri": "https://localhost:8080/",
     "height": 173
    },
    "colab_type": "code",
    "id": "mndOyqJvgPmu",
    "outputId": "5f6977b0-b20f-464c-ed5d-5dcca156e669"
   },
   "outputs": [
    {
     "data": {
      "text/plain": [
       "2013-01-01    1.698129\n",
       "2013-01-02    1.003996\n",
       "2013-01-03   -1.382242\n",
       "2013-01-04   -1.866631\n",
       "2013-01-05   -0.734728\n",
       "2013-01-06   -0.860862\n",
       "Freq: D, Name: A, dtype: float64"
      ]
     },
     "execution_count": 55,
     "metadata": {},
     "output_type": "execute_result"
    }
   ],
   "source": [
    "# Mesmo que df['A']\n",
    "df.A"
   ]
  },
  {
   "cell_type": "code",
   "execution_count": 56,
   "metadata": {
    "colab": {
     "base_uri": "https://localhost:8080/",
     "height": 180
    },
    "colab_type": "code",
    "id": "vpbqCoJqgPmx",
    "outputId": "46495203-56be-4f31-95b8-98a0c6ed5247"
   },
   "outputs": [
    {
     "data": {
      "text/html": [
       "<div>\n",
       "<style scoped>\n",
       "    .dataframe tbody tr th:only-of-type {\n",
       "        vertical-align: middle;\n",
       "    }\n",
       "\n",
       "    .dataframe tbody tr th {\n",
       "        vertical-align: top;\n",
       "    }\n",
       "\n",
       "    .dataframe thead th {\n",
       "        text-align: right;\n",
       "    }\n",
       "</style>\n",
       "<table border=\"1\" class=\"dataframe\">\n",
       "  <thead>\n",
       "    <tr style=\"text-align: right;\">\n",
       "      <th></th>\n",
       "      <th>A</th>\n",
       "      <th>B</th>\n",
       "      <th>C</th>\n",
       "      <th>D</th>\n",
       "    </tr>\n",
       "  </thead>\n",
       "  <tbody>\n",
       "    <tr>\n",
       "      <th>2013-01-01</th>\n",
       "      <td>1.698129</td>\n",
       "      <td>-0.205772</td>\n",
       "      <td>0.087627</td>\n",
       "      <td>0.439929</td>\n",
       "    </tr>\n",
       "    <tr>\n",
       "      <th>2013-01-02</th>\n",
       "      <td>1.003996</td>\n",
       "      <td>-0.273146</td>\n",
       "      <td>1.379582</td>\n",
       "      <td>-0.094757</td>\n",
       "    </tr>\n",
       "    <tr>\n",
       "      <th>2013-01-03</th>\n",
       "      <td>-1.382242</td>\n",
       "      <td>-0.036669</td>\n",
       "      <td>0.280952</td>\n",
       "      <td>-1.013865</td>\n",
       "    </tr>\n",
       "  </tbody>\n",
       "</table>\n",
       "</div>"
      ],
      "text/plain": [
       "                   A         B         C         D\n",
       "2013-01-01  1.698129 -0.205772  0.087627  0.439929\n",
       "2013-01-02  1.003996 -0.273146  1.379582 -0.094757\n",
       "2013-01-03 -1.382242 -0.036669  0.280952 -1.013865"
      ]
     },
     "execution_count": 56,
     "metadata": {},
     "output_type": "execute_result"
    }
   ],
   "source": [
    "# As 3 primeiras linhas de 'df'\n",
    "df[0:3]"
   ]
  },
  {
   "cell_type": "code",
   "execution_count": 57,
   "metadata": {
    "colab": {
     "base_uri": "https://localhost:8080/",
     "height": 180
    },
    "colab_type": "code",
    "id": "H1lRjyowgPm0",
    "outputId": "d79f63b0-b88a-403a-acc3-c78b9dfaab41"
   },
   "outputs": [
    {
     "data": {
      "text/html": [
       "<div>\n",
       "<style scoped>\n",
       "    .dataframe tbody tr th:only-of-type {\n",
       "        vertical-align: middle;\n",
       "    }\n",
       "\n",
       "    .dataframe tbody tr th {\n",
       "        vertical-align: top;\n",
       "    }\n",
       "\n",
       "    .dataframe thead th {\n",
       "        text-align: right;\n",
       "    }\n",
       "</style>\n",
       "<table border=\"1\" class=\"dataframe\">\n",
       "  <thead>\n",
       "    <tr style=\"text-align: right;\">\n",
       "      <th></th>\n",
       "      <th>A</th>\n",
       "      <th>B</th>\n",
       "      <th>C</th>\n",
       "      <th>D</th>\n",
       "    </tr>\n",
       "  </thead>\n",
       "  <tbody>\n",
       "    <tr>\n",
       "      <th>2013-01-02</th>\n",
       "      <td>1.003996</td>\n",
       "      <td>-0.273146</td>\n",
       "      <td>1.379582</td>\n",
       "      <td>-0.094757</td>\n",
       "    </tr>\n",
       "    <tr>\n",
       "      <th>2013-01-03</th>\n",
       "      <td>-1.382242</td>\n",
       "      <td>-0.036669</td>\n",
       "      <td>0.280952</td>\n",
       "      <td>-1.013865</td>\n",
       "    </tr>\n",
       "    <tr>\n",
       "      <th>2013-01-04</th>\n",
       "      <td>-1.866631</td>\n",
       "      <td>1.415298</td>\n",
       "      <td>1.719371</td>\n",
       "      <td>0.469203</td>\n",
       "    </tr>\n",
       "  </tbody>\n",
       "</table>\n",
       "</div>"
      ],
      "text/plain": [
       "                   A         B         C         D\n",
       "2013-01-02  1.003996 -0.273146  1.379582 -0.094757\n",
       "2013-01-03 -1.382242 -0.036669  0.280952 -1.013865\n",
       "2013-01-04 -1.866631  1.415298  1.719371  0.469203"
      ]
     },
     "execution_count": 57,
     "metadata": {},
     "output_type": "execute_result"
    }
   ],
   "source": [
    "# Indexando pelo índice\n",
    "df['20130102':'20130104']"
   ]
  },
  {
   "cell_type": "markdown",
   "metadata": {
    "colab_type": "text",
    "id": "0q8N7BLUgPm3"
   },
   "source": [
    "#### Seleção por rótulo\n",
    "\n",
    "**loc[]** localiza as linhas (ou colunas) satisfazendo um critério de busca"
   ]
  },
  {
   "cell_type": "code",
   "execution_count": 58,
   "metadata": {
    "colab": {
     "base_uri": "https://localhost:8080/",
     "height": 140
    },
    "colab_type": "code",
    "id": "jikAmOPagPm3",
    "outputId": "ba7b6be1-d157-4b5a-d127-78b7e99096a6"
   },
   "outputs": [
    {
     "data": {
      "text/plain": [
       "A    1.698129\n",
       "B   -0.205772\n",
       "C    0.087627\n",
       "D    0.439929\n",
       "Name: 2013-01-01 00:00:00, dtype: float64"
      ]
     },
     "execution_count": 58,
     "metadata": {},
     "output_type": "execute_result"
    }
   ],
   "source": [
    "# retornando as linhas com índice '20130101'\n",
    "df.loc['20130101']"
   ]
  },
  {
   "cell_type": "code",
   "execution_count": 59,
   "metadata": {
    "colab": {
     "base_uri": "https://localhost:8080/",
     "height": 273
    },
    "colab_type": "code",
    "id": "YCAGMAnHgPnT",
    "outputId": "1780827c-b845-46f8-a7fb-0f218416f2d0"
   },
   "outputs": [
    {
     "data": {
      "text/html": [
       "<div>\n",
       "<style scoped>\n",
       "    .dataframe tbody tr th:only-of-type {\n",
       "        vertical-align: middle;\n",
       "    }\n",
       "\n",
       "    .dataframe tbody tr th {\n",
       "        vertical-align: top;\n",
       "    }\n",
       "\n",
       "    .dataframe thead th {\n",
       "        text-align: right;\n",
       "    }\n",
       "</style>\n",
       "<table border=\"1\" class=\"dataframe\">\n",
       "  <thead>\n",
       "    <tr style=\"text-align: right;\">\n",
       "      <th></th>\n",
       "      <th>A</th>\n",
       "      <th>B</th>\n",
       "    </tr>\n",
       "  </thead>\n",
       "  <tbody>\n",
       "    <tr>\n",
       "      <th>2013-01-01</th>\n",
       "      <td>1.698129</td>\n",
       "      <td>-0.205772</td>\n",
       "    </tr>\n",
       "    <tr>\n",
       "      <th>2013-01-02</th>\n",
       "      <td>1.003996</td>\n",
       "      <td>-0.273146</td>\n",
       "    </tr>\n",
       "    <tr>\n",
       "      <th>2013-01-03</th>\n",
       "      <td>-1.382242</td>\n",
       "      <td>-0.036669</td>\n",
       "    </tr>\n",
       "    <tr>\n",
       "      <th>2013-01-04</th>\n",
       "      <td>-1.866631</td>\n",
       "      <td>1.415298</td>\n",
       "    </tr>\n",
       "    <tr>\n",
       "      <th>2013-01-05</th>\n",
       "      <td>-0.734728</td>\n",
       "      <td>-0.396255</td>\n",
       "    </tr>\n",
       "    <tr>\n",
       "      <th>2013-01-06</th>\n",
       "      <td>-0.860862</td>\n",
       "      <td>0.839730</td>\n",
       "    </tr>\n",
       "  </tbody>\n",
       "</table>\n",
       "</div>"
      ],
      "text/plain": [
       "                   A         B\n",
       "2013-01-01  1.698129 -0.205772\n",
       "2013-01-02  1.003996 -0.273146\n",
       "2013-01-03 -1.382242 -0.036669\n",
       "2013-01-04 -1.866631  1.415298\n",
       "2013-01-05 -0.734728 -0.396255\n",
       "2013-01-06 -0.860862  0.839730"
      ]
     },
     "execution_count": 59,
     "metadata": {},
     "output_type": "execute_result"
    }
   ],
   "source": [
    "# Seleciona todas as linhas das colunas 'A' e 'B'\n",
    "df.loc[:,['A','B']]"
   ]
  },
  {
   "cell_type": "code",
   "execution_count": 60,
   "metadata": {
    "colab": {
     "base_uri": "https://localhost:8080/",
     "height": 180
    },
    "colab_type": "code",
    "id": "7jPWoj9GgPnV",
    "outputId": "e09abf6b-264f-4738-e93c-ecfc0628a064"
   },
   "outputs": [
    {
     "data": {
      "text/html": [
       "<div>\n",
       "<style scoped>\n",
       "    .dataframe tbody tr th:only-of-type {\n",
       "        vertical-align: middle;\n",
       "    }\n",
       "\n",
       "    .dataframe tbody tr th {\n",
       "        vertical-align: top;\n",
       "    }\n",
       "\n",
       "    .dataframe thead th {\n",
       "        text-align: right;\n",
       "    }\n",
       "</style>\n",
       "<table border=\"1\" class=\"dataframe\">\n",
       "  <thead>\n",
       "    <tr style=\"text-align: right;\">\n",
       "      <th></th>\n",
       "      <th>A</th>\n",
       "      <th>B</th>\n",
       "    </tr>\n",
       "  </thead>\n",
       "  <tbody>\n",
       "    <tr>\n",
       "      <th>2013-01-02</th>\n",
       "      <td>1.003996</td>\n",
       "      <td>-0.273146</td>\n",
       "    </tr>\n",
       "    <tr>\n",
       "      <th>2013-01-03</th>\n",
       "      <td>-1.382242</td>\n",
       "      <td>-0.036669</td>\n",
       "    </tr>\n",
       "    <tr>\n",
       "      <th>2013-01-04</th>\n",
       "      <td>-1.866631</td>\n",
       "      <td>1.415298</td>\n",
       "    </tr>\n",
       "  </tbody>\n",
       "</table>\n",
       "</div>"
      ],
      "text/plain": [
       "                   A         B\n",
       "2013-01-02  1.003996 -0.273146\n",
       "2013-01-03 -1.382242 -0.036669\n",
       "2013-01-04 -1.866631  1.415298"
      ]
     },
     "execution_count": 60,
     "metadata": {},
     "output_type": "execute_result"
    }
   ],
   "source": [
    "# Seleciona as linhas no intervalo de datas '20130102' a '20130104',\n",
    "# mas apenas para as colunas 'A' e 'B'\n",
    "df.loc['20130102':'20130104',['A','B']]"
   ]
  },
  {
   "cell_type": "markdown",
   "metadata": {
    "colab_type": "text",
    "id": "4pvnVyMNgPnW"
   },
   "source": [
    "Para acesso rápido a um escalar, pode-se usar **.at()**"
   ]
  },
  {
   "cell_type": "code",
   "execution_count": 61,
   "metadata": {
    "colab": {
     "base_uri": "https://localhost:8080/",
     "height": 74
    },
    "colab_type": "code",
    "id": "mCBBe5cAgPnW",
    "outputId": "560d00ab-9e56-48b2-9650-fda2c9fd7fc4"
   },
   "outputs": [
    {
     "data": {
      "text/plain": [
       "1.6981286452298257"
      ]
     },
     "execution_count": 61,
     "metadata": {},
     "output_type": "execute_result"
    }
   ],
   "source": [
    "# Dia '20130101' da coluna 'A'\n",
    "df.at[dates[0],'A']"
   ]
  },
  {
   "cell_type": "markdown",
   "metadata": {
    "colab_type": "text",
    "id": "xUjQsAopgPnY"
   },
   "source": [
    "#### Seleção por posição\n",
    "\n",
    "**iloc()** seleciona linhas (ou colunas) dados inteiros especificando suas posições"
   ]
  },
  {
   "cell_type": "code",
   "execution_count": 62,
   "metadata": {
    "colab": {
     "base_uri": "https://localhost:8080/",
     "height": 140
    },
    "colab_type": "code",
    "id": "6iqUe-izgPnY",
    "outputId": "355d66c4-2293-4823-b2f2-0a2f7eb6abf6"
   },
   "outputs": [
    {
     "data": {
      "text/plain": [
       "A   -1.866631\n",
       "B    1.415298\n",
       "C    1.719371\n",
       "D    0.469203\n",
       "Name: 2013-01-04 00:00:00, dtype: float64"
      ]
     },
     "execution_count": 62,
     "metadata": {},
     "output_type": "execute_result"
    }
   ],
   "source": [
    "# linha 3\n",
    "df.iloc[3]"
   ]
  },
  {
   "cell_type": "code",
   "execution_count": 63,
   "metadata": {
    "colab": {
     "base_uri": "https://localhost:8080/",
     "height": 151
    },
    "colab_type": "code",
    "id": "ngSDECF1gPna",
    "outputId": "30b7678e-01c4-4eef-cecf-9b5a37f31637"
   },
   "outputs": [
    {
     "data": {
      "text/html": [
       "<div>\n",
       "<style scoped>\n",
       "    .dataframe tbody tr th:only-of-type {\n",
       "        vertical-align: middle;\n",
       "    }\n",
       "\n",
       "    .dataframe tbody tr th {\n",
       "        vertical-align: top;\n",
       "    }\n",
       "\n",
       "    .dataframe thead th {\n",
       "        text-align: right;\n",
       "    }\n",
       "</style>\n",
       "<table border=\"1\" class=\"dataframe\">\n",
       "  <thead>\n",
       "    <tr style=\"text-align: right;\">\n",
       "      <th></th>\n",
       "      <th>A</th>\n",
       "      <th>B</th>\n",
       "    </tr>\n",
       "  </thead>\n",
       "  <tbody>\n",
       "    <tr>\n",
       "      <th>2013-01-04</th>\n",
       "      <td>-1.866631</td>\n",
       "      <td>1.415298</td>\n",
       "    </tr>\n",
       "    <tr>\n",
       "      <th>2013-01-05</th>\n",
       "      <td>-0.734728</td>\n",
       "      <td>-0.396255</td>\n",
       "    </tr>\n",
       "  </tbody>\n",
       "</table>\n",
       "</div>"
      ],
      "text/plain": [
       "                   A         B\n",
       "2013-01-04 -1.866631  1.415298\n",
       "2013-01-05 -0.734728 -0.396255"
      ]
     },
     "execution_count": 63,
     "metadata": {},
     "output_type": "execute_result"
    }
   ],
   "source": [
    "# linhas 3 e 4, colunas 0 e 1\n",
    "df.iloc[3:5,0:2]"
   ]
  },
  {
   "cell_type": "code",
   "execution_count": 64,
   "metadata": {
    "colab": {
     "base_uri": "https://localhost:8080/",
     "height": 151
    },
    "colab_type": "code",
    "id": "pR2_BgEEgPnc",
    "outputId": "899e396c-1af8-4f34-99d7-10d8a24d3ae3"
   },
   "outputs": [
    {
     "data": {
      "text/html": [
       "<div>\n",
       "<style scoped>\n",
       "    .dataframe tbody tr th:only-of-type {\n",
       "        vertical-align: middle;\n",
       "    }\n",
       "\n",
       "    .dataframe tbody tr th {\n",
       "        vertical-align: top;\n",
       "    }\n",
       "\n",
       "    .dataframe thead th {\n",
       "        text-align: right;\n",
       "    }\n",
       "</style>\n",
       "<table border=\"1\" class=\"dataframe\">\n",
       "  <thead>\n",
       "    <tr style=\"text-align: right;\">\n",
       "      <th></th>\n",
       "      <th>A</th>\n",
       "      <th>B</th>\n",
       "      <th>C</th>\n",
       "      <th>D</th>\n",
       "    </tr>\n",
       "  </thead>\n",
       "  <tbody>\n",
       "    <tr>\n",
       "      <th>2013-01-02</th>\n",
       "      <td>1.003996</td>\n",
       "      <td>-0.273146</td>\n",
       "      <td>1.379582</td>\n",
       "      <td>-0.094757</td>\n",
       "    </tr>\n",
       "    <tr>\n",
       "      <th>2013-01-03</th>\n",
       "      <td>-1.382242</td>\n",
       "      <td>-0.036669</td>\n",
       "      <td>0.280952</td>\n",
       "      <td>-1.013865</td>\n",
       "    </tr>\n",
       "  </tbody>\n",
       "</table>\n",
       "</div>"
      ],
      "text/plain": [
       "                   A         B         C         D\n",
       "2013-01-02  1.003996 -0.273146  1.379582 -0.094757\n",
       "2013-01-03 -1.382242 -0.036669  0.280952 -1.013865"
      ]
     },
     "execution_count": 64,
     "metadata": {},
     "output_type": "execute_result"
    }
   ],
   "source": [
    "# linhas 1 e 2, todas as colunas\n",
    "df.iloc[1:3,:]"
   ]
  },
  {
   "cell_type": "markdown",
   "metadata": {
    "colab_type": "text",
    "id": "A4KsNdhHid6Y"
   },
   "source": [
    "#### Seleção booleana\n",
    "\n",
    "O operador **[]** permite expressões booleanas"
   ]
  },
  {
   "cell_type": "code",
   "execution_count": 65,
   "metadata": {
    "colab": {
     "base_uri": "https://localhost:8080/",
     "height": 120
    },
    "colab_type": "code",
    "id": "tpVmn8FngPnc",
    "outputId": "d16e63d7-023b-4cc9-e294-aa863b7f2799"
   },
   "outputs": [
    {
     "data": {
      "text/html": [
       "<div>\n",
       "<style scoped>\n",
       "    .dataframe tbody tr th:only-of-type {\n",
       "        vertical-align: middle;\n",
       "    }\n",
       "\n",
       "    .dataframe tbody tr th {\n",
       "        vertical-align: top;\n",
       "    }\n",
       "\n",
       "    .dataframe thead th {\n",
       "        text-align: right;\n",
       "    }\n",
       "</style>\n",
       "<table border=\"1\" class=\"dataframe\">\n",
       "  <thead>\n",
       "    <tr style=\"text-align: right;\">\n",
       "      <th></th>\n",
       "      <th>A</th>\n",
       "      <th>B</th>\n",
       "      <th>C</th>\n",
       "      <th>D</th>\n",
       "    </tr>\n",
       "  </thead>\n",
       "  <tbody>\n",
       "    <tr>\n",
       "      <th>2013-01-01</th>\n",
       "      <td>1.698129</td>\n",
       "      <td>-0.205772</td>\n",
       "      <td>0.087627</td>\n",
       "      <td>0.439929</td>\n",
       "    </tr>\n",
       "    <tr>\n",
       "      <th>2013-01-02</th>\n",
       "      <td>1.003996</td>\n",
       "      <td>-0.273146</td>\n",
       "      <td>1.379582</td>\n",
       "      <td>-0.094757</td>\n",
       "    </tr>\n",
       "  </tbody>\n",
       "</table>\n",
       "</div>"
      ],
      "text/plain": [
       "                   A         B         C         D\n",
       "2013-01-01  1.698129 -0.205772  0.087627  0.439929\n",
       "2013-01-02  1.003996 -0.273146  1.379582 -0.094757"
      ]
     },
     "execution_count": 65,
     "metadata": {},
     "output_type": "execute_result"
    }
   ],
   "source": [
    "# Todas as linhas e colunas tais que os elementos da Series 'A'\n",
    "# sejam positivos\n",
    "df[df.A > 0]"
   ]
  },
  {
   "cell_type": "code",
   "execution_count": 66,
   "metadata": {
    "colab": {
     "base_uri": "https://localhost:8080/",
     "height": 273
    },
    "colab_type": "code",
    "id": "pkqUnX9RgPnd",
    "outputId": "e2a99a6b-01d0-423c-d14e-3a22a584b630"
   },
   "outputs": [
    {
     "data": {
      "text/html": [
       "<div>\n",
       "<style scoped>\n",
       "    .dataframe tbody tr th:only-of-type {\n",
       "        vertical-align: middle;\n",
       "    }\n",
       "\n",
       "    .dataframe tbody tr th {\n",
       "        vertical-align: top;\n",
       "    }\n",
       "\n",
       "    .dataframe thead th {\n",
       "        text-align: right;\n",
       "    }\n",
       "</style>\n",
       "<table border=\"1\" class=\"dataframe\">\n",
       "  <thead>\n",
       "    <tr style=\"text-align: right;\">\n",
       "      <th></th>\n",
       "      <th>A</th>\n",
       "      <th>B</th>\n",
       "      <th>C</th>\n",
       "      <th>D</th>\n",
       "    </tr>\n",
       "  </thead>\n",
       "  <tbody>\n",
       "    <tr>\n",
       "      <th>2013-01-01</th>\n",
       "      <td>1.698129</td>\n",
       "      <td>NaN</td>\n",
       "      <td>0.087627</td>\n",
       "      <td>0.439929</td>\n",
       "    </tr>\n",
       "    <tr>\n",
       "      <th>2013-01-02</th>\n",
       "      <td>1.003996</td>\n",
       "      <td>NaN</td>\n",
       "      <td>1.379582</td>\n",
       "      <td>NaN</td>\n",
       "    </tr>\n",
       "    <tr>\n",
       "      <th>2013-01-03</th>\n",
       "      <td>NaN</td>\n",
       "      <td>NaN</td>\n",
       "      <td>0.280952</td>\n",
       "      <td>NaN</td>\n",
       "    </tr>\n",
       "    <tr>\n",
       "      <th>2013-01-04</th>\n",
       "      <td>NaN</td>\n",
       "      <td>1.415298</td>\n",
       "      <td>1.719371</td>\n",
       "      <td>0.469203</td>\n",
       "    </tr>\n",
       "    <tr>\n",
       "      <th>2013-01-05</th>\n",
       "      <td>NaN</td>\n",
       "      <td>NaN</td>\n",
       "      <td>NaN</td>\n",
       "      <td>1.381769</td>\n",
       "    </tr>\n",
       "    <tr>\n",
       "      <th>2013-01-06</th>\n",
       "      <td>NaN</td>\n",
       "      <td>0.839730</td>\n",
       "      <td>NaN</td>\n",
       "      <td>NaN</td>\n",
       "    </tr>\n",
       "  </tbody>\n",
       "</table>\n",
       "</div>"
      ],
      "text/plain": [
       "                   A         B         C         D\n",
       "2013-01-01  1.698129       NaN  0.087627  0.439929\n",
       "2013-01-02  1.003996       NaN  1.379582       NaN\n",
       "2013-01-03       NaN       NaN  0.280952       NaN\n",
       "2013-01-04       NaN  1.415298  1.719371  0.469203\n",
       "2013-01-05       NaN       NaN       NaN  1.381769\n",
       "2013-01-06       NaN  0.839730       NaN       NaN"
      ]
     },
     "execution_count": 66,
     "metadata": {},
     "output_type": "execute_result"
    }
   ],
   "source": [
    "# Todos os elementos da DataFrame que são positivos\n",
    "df[df > 0]"
   ]
  },
  {
   "cell_type": "markdown",
   "metadata": {
    "colab_type": "text",
    "id": "UqZOYAZd73kP"
   },
   "source": [
    "### Outras operações interessantes\n",
    "\n",
    "A função **apply()** aplica operações nas colunas/linhas de uma DataFrame"
   ]
  },
  {
   "cell_type": "code",
   "execution_count": 67,
   "metadata": {
    "colab": {
     "base_uri": "https://localhost:8080/",
     "height": 273
    },
    "colab_type": "code",
    "id": "01m-8uy0gPng",
    "outputId": "2aad90bd-f202-442e-e6c6-0f9de9a98d09"
   },
   "outputs": [
    {
     "data": {
      "text/html": [
       "<div>\n",
       "<style scoped>\n",
       "    .dataframe tbody tr th:only-of-type {\n",
       "        vertical-align: middle;\n",
       "    }\n",
       "\n",
       "    .dataframe tbody tr th {\n",
       "        vertical-align: top;\n",
       "    }\n",
       "\n",
       "    .dataframe thead th {\n",
       "        text-align: right;\n",
       "    }\n",
       "</style>\n",
       "<table border=\"1\" class=\"dataframe\">\n",
       "  <thead>\n",
       "    <tr style=\"text-align: right;\">\n",
       "      <th></th>\n",
       "      <th>A</th>\n",
       "      <th>B</th>\n",
       "      <th>C</th>\n",
       "      <th>D</th>\n",
       "    </tr>\n",
       "  </thead>\n",
       "  <tbody>\n",
       "    <tr>\n",
       "      <th>2013-01-01</th>\n",
       "      <td>1.698129</td>\n",
       "      <td>-0.205772</td>\n",
       "      <td>0.087627</td>\n",
       "      <td>0.439929</td>\n",
       "    </tr>\n",
       "    <tr>\n",
       "      <th>2013-01-02</th>\n",
       "      <td>2.702125</td>\n",
       "      <td>-0.478918</td>\n",
       "      <td>1.467210</td>\n",
       "      <td>0.345171</td>\n",
       "    </tr>\n",
       "    <tr>\n",
       "      <th>2013-01-03</th>\n",
       "      <td>1.319883</td>\n",
       "      <td>-0.515587</td>\n",
       "      <td>1.748162</td>\n",
       "      <td>-0.668693</td>\n",
       "    </tr>\n",
       "    <tr>\n",
       "      <th>2013-01-04</th>\n",
       "      <td>-0.546748</td>\n",
       "      <td>0.899711</td>\n",
       "      <td>3.467532</td>\n",
       "      <td>-0.199490</td>\n",
       "    </tr>\n",
       "    <tr>\n",
       "      <th>2013-01-05</th>\n",
       "      <td>-1.281476</td>\n",
       "      <td>0.503456</td>\n",
       "      <td>2.583493</td>\n",
       "      <td>1.182279</td>\n",
       "    </tr>\n",
       "    <tr>\n",
       "      <th>2013-01-06</th>\n",
       "      <td>-2.142338</td>\n",
       "      <td>1.343186</td>\n",
       "      <td>2.460571</td>\n",
       "      <td>-0.287171</td>\n",
       "    </tr>\n",
       "  </tbody>\n",
       "</table>\n",
       "</div>"
      ],
      "text/plain": [
       "                   A         B         C         D\n",
       "2013-01-01  1.698129 -0.205772  0.087627  0.439929\n",
       "2013-01-02  2.702125 -0.478918  1.467210  0.345171\n",
       "2013-01-03  1.319883 -0.515587  1.748162 -0.668693\n",
       "2013-01-04 -0.546748  0.899711  3.467532 -0.199490\n",
       "2013-01-05 -1.281476  0.503456  2.583493  1.182279\n",
       "2013-01-06 -2.142338  1.343186  2.460571 -0.287171"
      ]
     },
     "execution_count": 67,
     "metadata": {},
     "output_type": "execute_result"
    }
   ],
   "source": [
    "# soma cumulativa\n",
    "df.apply(np.cumsum)"
   ]
  },
  {
   "cell_type": "code",
   "execution_count": 68,
   "metadata": {
    "colab": {
     "base_uri": "https://localhost:8080/",
     "height": 140
    },
    "colab_type": "code",
    "id": "1RIVWzeigPnh",
    "outputId": "cd743931-72c0-4bf2-cf1f-de20d361a7c6"
   },
   "outputs": [
    {
     "data": {
      "text/plain": [
       "A    3.564760\n",
       "B    1.811553\n",
       "C    2.603410\n",
       "D    2.851219\n",
       "dtype: float64"
      ]
     },
     "execution_count": 68,
     "metadata": {},
     "output_type": "execute_result"
    }
   ],
   "source": [
    "# amplitude de cada coluna\n",
    "df.apply(lambda x: x.max() - x.min())"
   ]
  },
  {
   "cell_type": "code",
   "execution_count": 69,
   "metadata": {},
   "outputs": [
    {
     "data": {
      "text/plain": [
       "2013-01-01    2.019912\n",
       "2013-01-02    2.015676\n",
       "2013-01-03   -2.151824\n",
       "2013-01-04    1.737240\n",
       "2013-01-05   -0.633252\n",
       "2013-01-06   -1.613504\n",
       "Freq: D, dtype: float64"
      ]
     },
     "execution_count": 69,
     "metadata": {},
     "output_type": "execute_result"
    }
   ],
   "source": [
    "# para operações por linha, precisamos especificar o paraâmetro axis\n",
    "# soma os valores de cada linha\n",
    "df.apply(lambda x: x.sum(), axis = 1)"
   ]
  },
  {
   "cell_type": "markdown",
   "metadata": {
    "colab_type": "text",
    "id": "9br7Etkn-htK"
   },
   "source": [
    "#### Concatenação\n",
    "\n",
    "Concatenando DataFrames com **concat()**"
   ]
  },
  {
   "cell_type": "code",
   "execution_count": 70,
   "metadata": {
    "colab": {
     "base_uri": "https://localhost:8080/",
     "height": 394
    },
    "colab_type": "code",
    "id": "eqpixERbgPni",
    "outputId": "2ae5c6e4-152d-4f2a-a41e-0af996896889"
   },
   "outputs": [
    {
     "data": {
      "text/html": [
       "<div>\n",
       "<style scoped>\n",
       "    .dataframe tbody tr th:only-of-type {\n",
       "        vertical-align: middle;\n",
       "    }\n",
       "\n",
       "    .dataframe tbody tr th {\n",
       "        vertical-align: top;\n",
       "    }\n",
       "\n",
       "    .dataframe thead th {\n",
       "        text-align: right;\n",
       "    }\n",
       "</style>\n",
       "<table border=\"1\" class=\"dataframe\">\n",
       "  <thead>\n",
       "    <tr style=\"text-align: right;\">\n",
       "      <th></th>\n",
       "      <th>0</th>\n",
       "      <th>1</th>\n",
       "      <th>2</th>\n",
       "      <th>3</th>\n",
       "    </tr>\n",
       "  </thead>\n",
       "  <tbody>\n",
       "    <tr>\n",
       "      <th>0</th>\n",
       "      <td>-0.447539</td>\n",
       "      <td>0.201661</td>\n",
       "      <td>0.912268</td>\n",
       "      <td>0.991595</td>\n",
       "    </tr>\n",
       "    <tr>\n",
       "      <th>1</th>\n",
       "      <td>0.294586</td>\n",
       "      <td>0.230835</td>\n",
       "      <td>0.024670</td>\n",
       "      <td>-0.340603</td>\n",
       "    </tr>\n",
       "    <tr>\n",
       "      <th>2</th>\n",
       "      <td>-2.038057</td>\n",
       "      <td>1.996026</td>\n",
       "      <td>-0.086524</td>\n",
       "      <td>1.621484</td>\n",
       "    </tr>\n",
       "    <tr>\n",
       "      <th>3</th>\n",
       "      <td>1.125829</td>\n",
       "      <td>2.630524</td>\n",
       "      <td>1.641147</td>\n",
       "      <td>-1.130270</td>\n",
       "    </tr>\n",
       "    <tr>\n",
       "      <th>4</th>\n",
       "      <td>0.615925</td>\n",
       "      <td>1.138388</td>\n",
       "      <td>0.506666</td>\n",
       "      <td>-0.417330</td>\n",
       "    </tr>\n",
       "    <tr>\n",
       "      <th>5</th>\n",
       "      <td>-0.887351</td>\n",
       "      <td>-0.593617</td>\n",
       "      <td>-0.870294</td>\n",
       "      <td>1.028663</td>\n",
       "    </tr>\n",
       "    <tr>\n",
       "      <th>6</th>\n",
       "      <td>-1.273522</td>\n",
       "      <td>1.412860</td>\n",
       "      <td>-0.792479</td>\n",
       "      <td>1.052116</td>\n",
       "    </tr>\n",
       "    <tr>\n",
       "      <th>7</th>\n",
       "      <td>-0.310440</td>\n",
       "      <td>0.266540</td>\n",
       "      <td>-0.027277</td>\n",
       "      <td>-1.255861</td>\n",
       "    </tr>\n",
       "    <tr>\n",
       "      <th>8</th>\n",
       "      <td>0.114197</td>\n",
       "      <td>0.818354</td>\n",
       "      <td>-3.185332</td>\n",
       "      <td>0.784347</td>\n",
       "    </tr>\n",
       "    <tr>\n",
       "      <th>9</th>\n",
       "      <td>0.373155</td>\n",
       "      <td>-1.328201</td>\n",
       "      <td>0.128520</td>\n",
       "      <td>-1.240454</td>\n",
       "    </tr>\n",
       "  </tbody>\n",
       "</table>\n",
       "</div>"
      ],
      "text/plain": [
       "          0         1         2         3\n",
       "0 -0.447539  0.201661  0.912268  0.991595\n",
       "1  0.294586  0.230835  0.024670 -0.340603\n",
       "2 -2.038057  1.996026 -0.086524  1.621484\n",
       "3  1.125829  2.630524  1.641147 -1.130270\n",
       "4  0.615925  1.138388  0.506666 -0.417330\n",
       "5 -0.887351 -0.593617 -0.870294  1.028663\n",
       "6 -1.273522  1.412860 -0.792479  1.052116\n",
       "7 -0.310440  0.266540 -0.027277 -1.255861\n",
       "8  0.114197  0.818354 -3.185332  0.784347\n",
       "9  0.373155 -1.328201  0.128520 -1.240454"
      ]
     },
     "execution_count": 70,
     "metadata": {},
     "output_type": "execute_result"
    }
   ],
   "source": [
    "df1 = pd.DataFrame(np.random.randn(10, 4))\n",
    "df1"
   ]
  },
  {
   "cell_type": "code",
   "execution_count": 71,
   "metadata": {
    "colab": {
     "base_uri": "https://localhost:8080/",
     "height": 394
    },
    "colab_type": "code",
    "id": "KJFK_vElgPnj",
    "outputId": "6e6b17c0-2b0d-46b1-e8ab-bf00cbba15f2"
   },
   "outputs": [
    {
     "data": {
      "text/html": [
       "<div>\n",
       "<style scoped>\n",
       "    .dataframe tbody tr th:only-of-type {\n",
       "        vertical-align: middle;\n",
       "    }\n",
       "\n",
       "    .dataframe tbody tr th {\n",
       "        vertical-align: top;\n",
       "    }\n",
       "\n",
       "    .dataframe thead th {\n",
       "        text-align: right;\n",
       "    }\n",
       "</style>\n",
       "<table border=\"1\" class=\"dataframe\">\n",
       "  <thead>\n",
       "    <tr style=\"text-align: right;\">\n",
       "      <th></th>\n",
       "      <th>0</th>\n",
       "      <th>1</th>\n",
       "      <th>2</th>\n",
       "      <th>3</th>\n",
       "    </tr>\n",
       "  </thead>\n",
       "  <tbody>\n",
       "    <tr>\n",
       "      <th>0</th>\n",
       "      <td>-2.187832</td>\n",
       "      <td>0.249248</td>\n",
       "      <td>-0.038727</td>\n",
       "      <td>-2.504053</td>\n",
       "    </tr>\n",
       "    <tr>\n",
       "      <th>1</th>\n",
       "      <td>0.177043</td>\n",
       "      <td>-0.625001</td>\n",
       "      <td>-0.172291</td>\n",
       "      <td>0.018330</td>\n",
       "    </tr>\n",
       "    <tr>\n",
       "      <th>2</th>\n",
       "      <td>-0.416058</td>\n",
       "      <td>-0.182924</td>\n",
       "      <td>1.021367</td>\n",
       "      <td>0.347655</td>\n",
       "    </tr>\n",
       "    <tr>\n",
       "      <th>3</th>\n",
       "      <td>0.881113</td>\n",
       "      <td>-0.606266</td>\n",
       "      <td>2.506853</td>\n",
       "      <td>-1.140782</td>\n",
       "    </tr>\n",
       "    <tr>\n",
       "      <th>4</th>\n",
       "      <td>-0.764980</td>\n",
       "      <td>-0.855764</td>\n",
       "      <td>-0.394933</td>\n",
       "      <td>-0.173109</td>\n",
       "    </tr>\n",
       "    <tr>\n",
       "      <th>5</th>\n",
       "      <td>-1.173551</td>\n",
       "      <td>-0.163204</td>\n",
       "      <td>0.707260</td>\n",
       "      <td>1.252252</td>\n",
       "    </tr>\n",
       "    <tr>\n",
       "      <th>6</th>\n",
       "      <td>1.070481</td>\n",
       "      <td>0.096612</td>\n",
       "      <td>-0.327520</td>\n",
       "      <td>-0.839722</td>\n",
       "    </tr>\n",
       "    <tr>\n",
       "      <th>7</th>\n",
       "      <td>-0.156631</td>\n",
       "      <td>-0.944819</td>\n",
       "      <td>-0.812895</td>\n",
       "      <td>-0.342922</td>\n",
       "    </tr>\n",
       "    <tr>\n",
       "      <th>8</th>\n",
       "      <td>-1.806213</td>\n",
       "      <td>-0.010321</td>\n",
       "      <td>0.208670</td>\n",
       "      <td>0.960963</td>\n",
       "    </tr>\n",
       "    <tr>\n",
       "      <th>9</th>\n",
       "      <td>0.044339</td>\n",
       "      <td>0.635564</td>\n",
       "      <td>-0.511542</td>\n",
       "      <td>-2.225982</td>\n",
       "    </tr>\n",
       "  </tbody>\n",
       "</table>\n",
       "</div>"
      ],
      "text/plain": [
       "          0         1         2         3\n",
       "0 -2.187832  0.249248 -0.038727 -2.504053\n",
       "1  0.177043 -0.625001 -0.172291  0.018330\n",
       "2 -0.416058 -0.182924  1.021367  0.347655\n",
       "3  0.881113 -0.606266  2.506853 -1.140782\n",
       "4 -0.764980 -0.855764 -0.394933 -0.173109\n",
       "5 -1.173551 -0.163204  0.707260  1.252252\n",
       "6  1.070481  0.096612 -0.327520 -0.839722\n",
       "7 -0.156631 -0.944819 -0.812895 -0.342922\n",
       "8 -1.806213 -0.010321  0.208670  0.960963\n",
       "9  0.044339  0.635564 -0.511542 -2.225982"
      ]
     },
     "execution_count": 71,
     "metadata": {},
     "output_type": "execute_result"
    }
   ],
   "source": [
    "df2 = pd.DataFrame(np.random.randn(10, 4))\n",
    "df2"
   ]
  },
  {
   "cell_type": "code",
   "execution_count": 72,
   "metadata": {
    "colab": {
     "base_uri": "https://localhost:8080/",
     "height": 700
    },
    "colab_type": "code",
    "id": "D_JHx2-qgPnk",
    "outputId": "4ec76537-fdfc-4283-c09d-337218ae414f"
   },
   "outputs": [
    {
     "data": {
      "text/html": [
       "<div>\n",
       "<style scoped>\n",
       "    .dataframe tbody tr th:only-of-type {\n",
       "        vertical-align: middle;\n",
       "    }\n",
       "\n",
       "    .dataframe tbody tr th {\n",
       "        vertical-align: top;\n",
       "    }\n",
       "\n",
       "    .dataframe thead th {\n",
       "        text-align: right;\n",
       "    }\n",
       "</style>\n",
       "<table border=\"1\" class=\"dataframe\">\n",
       "  <thead>\n",
       "    <tr style=\"text-align: right;\">\n",
       "      <th></th>\n",
       "      <th>0</th>\n",
       "      <th>1</th>\n",
       "      <th>2</th>\n",
       "      <th>3</th>\n",
       "    </tr>\n",
       "  </thead>\n",
       "  <tbody>\n",
       "    <tr>\n",
       "      <th>0</th>\n",
       "      <td>-0.447539</td>\n",
       "      <td>0.201661</td>\n",
       "      <td>0.912268</td>\n",
       "      <td>0.991595</td>\n",
       "    </tr>\n",
       "    <tr>\n",
       "      <th>1</th>\n",
       "      <td>0.294586</td>\n",
       "      <td>0.230835</td>\n",
       "      <td>0.024670</td>\n",
       "      <td>-0.340603</td>\n",
       "    </tr>\n",
       "    <tr>\n",
       "      <th>2</th>\n",
       "      <td>-2.038057</td>\n",
       "      <td>1.996026</td>\n",
       "      <td>-0.086524</td>\n",
       "      <td>1.621484</td>\n",
       "    </tr>\n",
       "    <tr>\n",
       "      <th>3</th>\n",
       "      <td>1.125829</td>\n",
       "      <td>2.630524</td>\n",
       "      <td>1.641147</td>\n",
       "      <td>-1.130270</td>\n",
       "    </tr>\n",
       "    <tr>\n",
       "      <th>4</th>\n",
       "      <td>0.615925</td>\n",
       "      <td>1.138388</td>\n",
       "      <td>0.506666</td>\n",
       "      <td>-0.417330</td>\n",
       "    </tr>\n",
       "    <tr>\n",
       "      <th>5</th>\n",
       "      <td>-0.887351</td>\n",
       "      <td>-0.593617</td>\n",
       "      <td>-0.870294</td>\n",
       "      <td>1.028663</td>\n",
       "    </tr>\n",
       "    <tr>\n",
       "      <th>6</th>\n",
       "      <td>-1.273522</td>\n",
       "      <td>1.412860</td>\n",
       "      <td>-0.792479</td>\n",
       "      <td>1.052116</td>\n",
       "    </tr>\n",
       "    <tr>\n",
       "      <th>7</th>\n",
       "      <td>-0.310440</td>\n",
       "      <td>0.266540</td>\n",
       "      <td>-0.027277</td>\n",
       "      <td>-1.255861</td>\n",
       "    </tr>\n",
       "    <tr>\n",
       "      <th>8</th>\n",
       "      <td>0.114197</td>\n",
       "      <td>0.818354</td>\n",
       "      <td>-3.185332</td>\n",
       "      <td>0.784347</td>\n",
       "    </tr>\n",
       "    <tr>\n",
       "      <th>9</th>\n",
       "      <td>0.373155</td>\n",
       "      <td>-1.328201</td>\n",
       "      <td>0.128520</td>\n",
       "      <td>-1.240454</td>\n",
       "    </tr>\n",
       "    <tr>\n",
       "      <th>0</th>\n",
       "      <td>-2.187832</td>\n",
       "      <td>0.249248</td>\n",
       "      <td>-0.038727</td>\n",
       "      <td>-2.504053</td>\n",
       "    </tr>\n",
       "    <tr>\n",
       "      <th>1</th>\n",
       "      <td>0.177043</td>\n",
       "      <td>-0.625001</td>\n",
       "      <td>-0.172291</td>\n",
       "      <td>0.018330</td>\n",
       "    </tr>\n",
       "    <tr>\n",
       "      <th>2</th>\n",
       "      <td>-0.416058</td>\n",
       "      <td>-0.182924</td>\n",
       "      <td>1.021367</td>\n",
       "      <td>0.347655</td>\n",
       "    </tr>\n",
       "    <tr>\n",
       "      <th>3</th>\n",
       "      <td>0.881113</td>\n",
       "      <td>-0.606266</td>\n",
       "      <td>2.506853</td>\n",
       "      <td>-1.140782</td>\n",
       "    </tr>\n",
       "    <tr>\n",
       "      <th>4</th>\n",
       "      <td>-0.764980</td>\n",
       "      <td>-0.855764</td>\n",
       "      <td>-0.394933</td>\n",
       "      <td>-0.173109</td>\n",
       "    </tr>\n",
       "    <tr>\n",
       "      <th>5</th>\n",
       "      <td>-1.173551</td>\n",
       "      <td>-0.163204</td>\n",
       "      <td>0.707260</td>\n",
       "      <td>1.252252</td>\n",
       "    </tr>\n",
       "    <tr>\n",
       "      <th>6</th>\n",
       "      <td>1.070481</td>\n",
       "      <td>0.096612</td>\n",
       "      <td>-0.327520</td>\n",
       "      <td>-0.839722</td>\n",
       "    </tr>\n",
       "    <tr>\n",
       "      <th>7</th>\n",
       "      <td>-0.156631</td>\n",
       "      <td>-0.944819</td>\n",
       "      <td>-0.812895</td>\n",
       "      <td>-0.342922</td>\n",
       "    </tr>\n",
       "    <tr>\n",
       "      <th>8</th>\n",
       "      <td>-1.806213</td>\n",
       "      <td>-0.010321</td>\n",
       "      <td>0.208670</td>\n",
       "      <td>0.960963</td>\n",
       "    </tr>\n",
       "    <tr>\n",
       "      <th>9</th>\n",
       "      <td>0.044339</td>\n",
       "      <td>0.635564</td>\n",
       "      <td>-0.511542</td>\n",
       "      <td>-2.225982</td>\n",
       "    </tr>\n",
       "  </tbody>\n",
       "</table>\n",
       "</div>"
      ],
      "text/plain": [
       "          0         1         2         3\n",
       "0 -0.447539  0.201661  0.912268  0.991595\n",
       "1  0.294586  0.230835  0.024670 -0.340603\n",
       "2 -2.038057  1.996026 -0.086524  1.621484\n",
       "3  1.125829  2.630524  1.641147 -1.130270\n",
       "4  0.615925  1.138388  0.506666 -0.417330\n",
       "5 -0.887351 -0.593617 -0.870294  1.028663\n",
       "6 -1.273522  1.412860 -0.792479  1.052116\n",
       "7 -0.310440  0.266540 -0.027277 -1.255861\n",
       "8  0.114197  0.818354 -3.185332  0.784347\n",
       "9  0.373155 -1.328201  0.128520 -1.240454\n",
       "0 -2.187832  0.249248 -0.038727 -2.504053\n",
       "1  0.177043 -0.625001 -0.172291  0.018330\n",
       "2 -0.416058 -0.182924  1.021367  0.347655\n",
       "3  0.881113 -0.606266  2.506853 -1.140782\n",
       "4 -0.764980 -0.855764 -0.394933 -0.173109\n",
       "5 -1.173551 -0.163204  0.707260  1.252252\n",
       "6  1.070481  0.096612 -0.327520 -0.839722\n",
       "7 -0.156631 -0.944819 -0.812895 -0.342922\n",
       "8 -1.806213 -0.010321  0.208670  0.960963\n",
       "9  0.044339  0.635564 -0.511542 -2.225982"
      ]
     },
     "execution_count": 72,
     "metadata": {},
     "output_type": "execute_result"
    }
   ],
   "source": [
    "# concatenando df1 e df2 em uma única DataFrame\n",
    "# Repare no que acontece com os índices\n",
    "df3 = pd.concat([df1, df2])\n",
    "df3"
   ]
  },
  {
   "cell_type": "code",
   "execution_count": 73,
   "metadata": {
    "colab": {
     "base_uri": "https://localhost:8080/",
     "height": 700
    },
    "colab_type": "code",
    "id": "E96FbhohgPnk",
    "outputId": "3443b5cb-3f33-47d7-c2b1-8d4071633515"
   },
   "outputs": [
    {
     "data": {
      "text/html": [
       "<div>\n",
       "<style scoped>\n",
       "    .dataframe tbody tr th:only-of-type {\n",
       "        vertical-align: middle;\n",
       "    }\n",
       "\n",
       "    .dataframe tbody tr th {\n",
       "        vertical-align: top;\n",
       "    }\n",
       "\n",
       "    .dataframe thead th {\n",
       "        text-align: right;\n",
       "    }\n",
       "</style>\n",
       "<table border=\"1\" class=\"dataframe\">\n",
       "  <thead>\n",
       "    <tr style=\"text-align: right;\">\n",
       "      <th></th>\n",
       "      <th>index</th>\n",
       "      <th>0</th>\n",
       "      <th>1</th>\n",
       "      <th>2</th>\n",
       "      <th>3</th>\n",
       "    </tr>\n",
       "  </thead>\n",
       "  <tbody>\n",
       "    <tr>\n",
       "      <th>0</th>\n",
       "      <td>0</td>\n",
       "      <td>-0.447539</td>\n",
       "      <td>0.201661</td>\n",
       "      <td>0.912268</td>\n",
       "      <td>0.991595</td>\n",
       "    </tr>\n",
       "    <tr>\n",
       "      <th>1</th>\n",
       "      <td>1</td>\n",
       "      <td>0.294586</td>\n",
       "      <td>0.230835</td>\n",
       "      <td>0.024670</td>\n",
       "      <td>-0.340603</td>\n",
       "    </tr>\n",
       "    <tr>\n",
       "      <th>2</th>\n",
       "      <td>2</td>\n",
       "      <td>-2.038057</td>\n",
       "      <td>1.996026</td>\n",
       "      <td>-0.086524</td>\n",
       "      <td>1.621484</td>\n",
       "    </tr>\n",
       "    <tr>\n",
       "      <th>3</th>\n",
       "      <td>3</td>\n",
       "      <td>1.125829</td>\n",
       "      <td>2.630524</td>\n",
       "      <td>1.641147</td>\n",
       "      <td>-1.130270</td>\n",
       "    </tr>\n",
       "    <tr>\n",
       "      <th>4</th>\n",
       "      <td>4</td>\n",
       "      <td>0.615925</td>\n",
       "      <td>1.138388</td>\n",
       "      <td>0.506666</td>\n",
       "      <td>-0.417330</td>\n",
       "    </tr>\n",
       "    <tr>\n",
       "      <th>5</th>\n",
       "      <td>5</td>\n",
       "      <td>-0.887351</td>\n",
       "      <td>-0.593617</td>\n",
       "      <td>-0.870294</td>\n",
       "      <td>1.028663</td>\n",
       "    </tr>\n",
       "    <tr>\n",
       "      <th>6</th>\n",
       "      <td>6</td>\n",
       "      <td>-1.273522</td>\n",
       "      <td>1.412860</td>\n",
       "      <td>-0.792479</td>\n",
       "      <td>1.052116</td>\n",
       "    </tr>\n",
       "    <tr>\n",
       "      <th>7</th>\n",
       "      <td>7</td>\n",
       "      <td>-0.310440</td>\n",
       "      <td>0.266540</td>\n",
       "      <td>-0.027277</td>\n",
       "      <td>-1.255861</td>\n",
       "    </tr>\n",
       "    <tr>\n",
       "      <th>8</th>\n",
       "      <td>8</td>\n",
       "      <td>0.114197</td>\n",
       "      <td>0.818354</td>\n",
       "      <td>-3.185332</td>\n",
       "      <td>0.784347</td>\n",
       "    </tr>\n",
       "    <tr>\n",
       "      <th>9</th>\n",
       "      <td>9</td>\n",
       "      <td>0.373155</td>\n",
       "      <td>-1.328201</td>\n",
       "      <td>0.128520</td>\n",
       "      <td>-1.240454</td>\n",
       "    </tr>\n",
       "    <tr>\n",
       "      <th>10</th>\n",
       "      <td>0</td>\n",
       "      <td>-2.187832</td>\n",
       "      <td>0.249248</td>\n",
       "      <td>-0.038727</td>\n",
       "      <td>-2.504053</td>\n",
       "    </tr>\n",
       "    <tr>\n",
       "      <th>11</th>\n",
       "      <td>1</td>\n",
       "      <td>0.177043</td>\n",
       "      <td>-0.625001</td>\n",
       "      <td>-0.172291</td>\n",
       "      <td>0.018330</td>\n",
       "    </tr>\n",
       "    <tr>\n",
       "      <th>12</th>\n",
       "      <td>2</td>\n",
       "      <td>-0.416058</td>\n",
       "      <td>-0.182924</td>\n",
       "      <td>1.021367</td>\n",
       "      <td>0.347655</td>\n",
       "    </tr>\n",
       "    <tr>\n",
       "      <th>13</th>\n",
       "      <td>3</td>\n",
       "      <td>0.881113</td>\n",
       "      <td>-0.606266</td>\n",
       "      <td>2.506853</td>\n",
       "      <td>-1.140782</td>\n",
       "    </tr>\n",
       "    <tr>\n",
       "      <th>14</th>\n",
       "      <td>4</td>\n",
       "      <td>-0.764980</td>\n",
       "      <td>-0.855764</td>\n",
       "      <td>-0.394933</td>\n",
       "      <td>-0.173109</td>\n",
       "    </tr>\n",
       "    <tr>\n",
       "      <th>15</th>\n",
       "      <td>5</td>\n",
       "      <td>-1.173551</td>\n",
       "      <td>-0.163204</td>\n",
       "      <td>0.707260</td>\n",
       "      <td>1.252252</td>\n",
       "    </tr>\n",
       "    <tr>\n",
       "      <th>16</th>\n",
       "      <td>6</td>\n",
       "      <td>1.070481</td>\n",
       "      <td>0.096612</td>\n",
       "      <td>-0.327520</td>\n",
       "      <td>-0.839722</td>\n",
       "    </tr>\n",
       "    <tr>\n",
       "      <th>17</th>\n",
       "      <td>7</td>\n",
       "      <td>-0.156631</td>\n",
       "      <td>-0.944819</td>\n",
       "      <td>-0.812895</td>\n",
       "      <td>-0.342922</td>\n",
       "    </tr>\n",
       "    <tr>\n",
       "      <th>18</th>\n",
       "      <td>8</td>\n",
       "      <td>-1.806213</td>\n",
       "      <td>-0.010321</td>\n",
       "      <td>0.208670</td>\n",
       "      <td>0.960963</td>\n",
       "    </tr>\n",
       "    <tr>\n",
       "      <th>19</th>\n",
       "      <td>9</td>\n",
       "      <td>0.044339</td>\n",
       "      <td>0.635564</td>\n",
       "      <td>-0.511542</td>\n",
       "      <td>-2.225982</td>\n",
       "    </tr>\n",
       "  </tbody>\n",
       "</table>\n",
       "</div>"
      ],
      "text/plain": [
       "    index         0         1         2         3\n",
       "0       0 -0.447539  0.201661  0.912268  0.991595\n",
       "1       1  0.294586  0.230835  0.024670 -0.340603\n",
       "2       2 -2.038057  1.996026 -0.086524  1.621484\n",
       "3       3  1.125829  2.630524  1.641147 -1.130270\n",
       "4       4  0.615925  1.138388  0.506666 -0.417330\n",
       "5       5 -0.887351 -0.593617 -0.870294  1.028663\n",
       "6       6 -1.273522  1.412860 -0.792479  1.052116\n",
       "7       7 -0.310440  0.266540 -0.027277 -1.255861\n",
       "8       8  0.114197  0.818354 -3.185332  0.784347\n",
       "9       9  0.373155 -1.328201  0.128520 -1.240454\n",
       "10      0 -2.187832  0.249248 -0.038727 -2.504053\n",
       "11      1  0.177043 -0.625001 -0.172291  0.018330\n",
       "12      2 -0.416058 -0.182924  1.021367  0.347655\n",
       "13      3  0.881113 -0.606266  2.506853 -1.140782\n",
       "14      4 -0.764980 -0.855764 -0.394933 -0.173109\n",
       "15      5 -1.173551 -0.163204  0.707260  1.252252\n",
       "16      6  1.070481  0.096612 -0.327520 -0.839722\n",
       "17      7 -0.156631 -0.944819 -0.812895 -0.342922\n",
       "18      8 -1.806213 -0.010321  0.208670  0.960963\n",
       "19      9  0.044339  0.635564 -0.511542 -2.225982"
      ]
     },
     "execution_count": 73,
     "metadata": {},
     "output_type": "execute_result"
    }
   ],
   "source": [
    "# É possível reinicializar os índices \n",
    "df3.reset_index()"
   ]
  },
  {
   "cell_type": "markdown",
   "metadata": {
    "colab_type": "text",
    "id": "mfT7F-5M_5ti"
   },
   "source": [
    "#### Junção\n",
    "\n",
    "Junção de DataFrames usando **merge()**"
   ]
  },
  {
   "cell_type": "code",
   "execution_count": 74,
   "metadata": {
    "colab": {},
    "colab_type": "code",
    "id": "6HbzV7dNgPnl"
   },
   "outputs": [],
   "source": [
    "left = pd.DataFrame({'key': ['foo', 'bar'], 'lval': [1, 2]})\n",
    "right = pd.DataFrame({'key': ['foo', 'bar'], 'rval': [4, 5]})"
   ]
  },
  {
   "cell_type": "code",
   "execution_count": 75,
   "metadata": {
    "colab": {
     "base_uri": "https://localhost:8080/",
     "height": 151
    },
    "colab_type": "code",
    "id": "7d3WLSATgPnm",
    "outputId": "a19a6c78-f962-4808-ca46-011470910be1"
   },
   "outputs": [
    {
     "data": {
      "text/html": [
       "<div>\n",
       "<style scoped>\n",
       "    .dataframe tbody tr th:only-of-type {\n",
       "        vertical-align: middle;\n",
       "    }\n",
       "\n",
       "    .dataframe tbody tr th {\n",
       "        vertical-align: top;\n",
       "    }\n",
       "\n",
       "    .dataframe thead th {\n",
       "        text-align: right;\n",
       "    }\n",
       "</style>\n",
       "<table border=\"1\" class=\"dataframe\">\n",
       "  <thead>\n",
       "    <tr style=\"text-align: right;\">\n",
       "      <th></th>\n",
       "      <th>key</th>\n",
       "      <th>lval</th>\n",
       "    </tr>\n",
       "  </thead>\n",
       "  <tbody>\n",
       "    <tr>\n",
       "      <th>0</th>\n",
       "      <td>foo</td>\n",
       "      <td>1</td>\n",
       "    </tr>\n",
       "    <tr>\n",
       "      <th>1</th>\n",
       "      <td>bar</td>\n",
       "      <td>2</td>\n",
       "    </tr>\n",
       "  </tbody>\n",
       "</table>\n",
       "</div>"
      ],
      "text/plain": [
       "   key  lval\n",
       "0  foo     1\n",
       "1  bar     2"
      ]
     },
     "execution_count": 75,
     "metadata": {},
     "output_type": "execute_result"
    }
   ],
   "source": [
    "left"
   ]
  },
  {
   "cell_type": "code",
   "execution_count": 76,
   "metadata": {
    "colab": {
     "base_uri": "https://localhost:8080/",
     "height": 151
    },
    "colab_type": "code",
    "id": "-d0W2iFZgPnn",
    "outputId": "f07c1227-ebd8-4be7-861b-49312a773f7c"
   },
   "outputs": [
    {
     "data": {
      "text/html": [
       "<div>\n",
       "<style scoped>\n",
       "    .dataframe tbody tr th:only-of-type {\n",
       "        vertical-align: middle;\n",
       "    }\n",
       "\n",
       "    .dataframe tbody tr th {\n",
       "        vertical-align: top;\n",
       "    }\n",
       "\n",
       "    .dataframe thead th {\n",
       "        text-align: right;\n",
       "    }\n",
       "</style>\n",
       "<table border=\"1\" class=\"dataframe\">\n",
       "  <thead>\n",
       "    <tr style=\"text-align: right;\">\n",
       "      <th></th>\n",
       "      <th>key</th>\n",
       "      <th>rval</th>\n",
       "    </tr>\n",
       "  </thead>\n",
       "  <tbody>\n",
       "    <tr>\n",
       "      <th>0</th>\n",
       "      <td>foo</td>\n",
       "      <td>4</td>\n",
       "    </tr>\n",
       "    <tr>\n",
       "      <th>1</th>\n",
       "      <td>bar</td>\n",
       "      <td>5</td>\n",
       "    </tr>\n",
       "  </tbody>\n",
       "</table>\n",
       "</div>"
      ],
      "text/plain": [
       "   key  rval\n",
       "0  foo     4\n",
       "1  bar     5"
      ]
     },
     "execution_count": 76,
     "metadata": {},
     "output_type": "execute_result"
    }
   ],
   "source": [
    "right"
   ]
  },
  {
   "cell_type": "code",
   "execution_count": 77,
   "metadata": {
    "colab": {
     "base_uri": "https://localhost:8080/",
     "height": 151
    },
    "colab_type": "code",
    "id": "vZLyrSFhgPnn",
    "outputId": "ec59b31c-068f-454f-a0c3-23f9bb5622d0"
   },
   "outputs": [
    {
     "data": {
      "text/html": [
       "<div>\n",
       "<style scoped>\n",
       "    .dataframe tbody tr th:only-of-type {\n",
       "        vertical-align: middle;\n",
       "    }\n",
       "\n",
       "    .dataframe tbody tr th {\n",
       "        vertical-align: top;\n",
       "    }\n",
       "\n",
       "    .dataframe thead th {\n",
       "        text-align: right;\n",
       "    }\n",
       "</style>\n",
       "<table border=\"1\" class=\"dataframe\">\n",
       "  <thead>\n",
       "    <tr style=\"text-align: right;\">\n",
       "      <th></th>\n",
       "      <th>key</th>\n",
       "      <th>lval</th>\n",
       "      <th>rval</th>\n",
       "    </tr>\n",
       "  </thead>\n",
       "  <tbody>\n",
       "    <tr>\n",
       "      <th>0</th>\n",
       "      <td>foo</td>\n",
       "      <td>1</td>\n",
       "      <td>4</td>\n",
       "    </tr>\n",
       "    <tr>\n",
       "      <th>1</th>\n",
       "      <td>bar</td>\n",
       "      <td>2</td>\n",
       "      <td>5</td>\n",
       "    </tr>\n",
       "  </tbody>\n",
       "</table>\n",
       "</div>"
      ],
      "text/plain": [
       "   key  lval  rval\n",
       "0  foo     1     4\n",
       "1  bar     2     5"
      ]
     },
     "execution_count": 77,
     "metadata": {},
     "output_type": "execute_result"
    }
   ],
   "source": [
    "pd.merge(left, right, on = 'key')"
   ]
  },
  {
   "cell_type": "markdown",
   "metadata": {
    "colab_type": "text",
    "id": "8Ryy5TfPAyNk"
   },
   "source": [
    "#### Agrupamento por chave\n",
    "\n",
    "Agregação de uma DataFrame usando **groupby**"
   ]
  },
  {
   "cell_type": "code",
   "execution_count": 78,
   "metadata": {
    "colab": {
     "base_uri": "https://localhost:8080/",
     "height": 333
    },
    "colab_type": "code",
    "id": "G4fumWOaAeSw",
    "outputId": "30ece43b-a528-496f-b78e-6445b5ae7b2a"
   },
   "outputs": [
    {
     "data": {
      "text/html": [
       "<div>\n",
       "<style scoped>\n",
       "    .dataframe tbody tr th:only-of-type {\n",
       "        vertical-align: middle;\n",
       "    }\n",
       "\n",
       "    .dataframe tbody tr th {\n",
       "        vertical-align: top;\n",
       "    }\n",
       "\n",
       "    .dataframe thead th {\n",
       "        text-align: right;\n",
       "    }\n",
       "</style>\n",
       "<table border=\"1\" class=\"dataframe\">\n",
       "  <thead>\n",
       "    <tr style=\"text-align: right;\">\n",
       "      <th></th>\n",
       "      <th>A</th>\n",
       "      <th>B</th>\n",
       "      <th>C</th>\n",
       "      <th>D</th>\n",
       "    </tr>\n",
       "  </thead>\n",
       "  <tbody>\n",
       "    <tr>\n",
       "      <th>0</th>\n",
       "      <td>foo</td>\n",
       "      <td>one</td>\n",
       "      <td>0.236719</td>\n",
       "      <td>-0.264649</td>\n",
       "    </tr>\n",
       "    <tr>\n",
       "      <th>1</th>\n",
       "      <td>bar</td>\n",
       "      <td>one</td>\n",
       "      <td>-0.962637</td>\n",
       "      <td>0.781872</td>\n",
       "    </tr>\n",
       "    <tr>\n",
       "      <th>2</th>\n",
       "      <td>foo</td>\n",
       "      <td>two</td>\n",
       "      <td>1.106982</td>\n",
       "      <td>-0.070081</td>\n",
       "    </tr>\n",
       "    <tr>\n",
       "      <th>3</th>\n",
       "      <td>bar</td>\n",
       "      <td>three</td>\n",
       "      <td>-0.432674</td>\n",
       "      <td>-0.855676</td>\n",
       "    </tr>\n",
       "    <tr>\n",
       "      <th>4</th>\n",
       "      <td>foo</td>\n",
       "      <td>two</td>\n",
       "      <td>-1.089825</td>\n",
       "      <td>-1.826892</td>\n",
       "    </tr>\n",
       "    <tr>\n",
       "      <th>5</th>\n",
       "      <td>bar</td>\n",
       "      <td>two</td>\n",
       "      <td>1.542066</td>\n",
       "      <td>-0.343843</td>\n",
       "    </tr>\n",
       "    <tr>\n",
       "      <th>6</th>\n",
       "      <td>foo</td>\n",
       "      <td>one</td>\n",
       "      <td>-0.455103</td>\n",
       "      <td>-0.344550</td>\n",
       "    </tr>\n",
       "    <tr>\n",
       "      <th>7</th>\n",
       "      <td>foo</td>\n",
       "      <td>three</td>\n",
       "      <td>-1.160284</td>\n",
       "      <td>-0.557368</td>\n",
       "    </tr>\n",
       "  </tbody>\n",
       "</table>\n",
       "</div>"
      ],
      "text/plain": [
       "     A      B         C         D\n",
       "0  foo    one  0.236719 -0.264649\n",
       "1  bar    one -0.962637  0.781872\n",
       "2  foo    two  1.106982 -0.070081\n",
       "3  bar  three -0.432674 -0.855676\n",
       "4  foo    two -1.089825 -1.826892\n",
       "5  bar    two  1.542066 -0.343843\n",
       "6  foo    one -0.455103 -0.344550\n",
       "7  foo  three -1.160284 -0.557368"
      ]
     },
     "execution_count": 78,
     "metadata": {},
     "output_type": "execute_result"
    }
   ],
   "source": [
    "df = pd.DataFrame({'A' : ['foo', 'bar', 'foo', 'bar', 'foo', 'bar', 'foo', 'foo'],\n",
    "                   'B' : ['one', 'one', 'two', 'three', 'two', 'two', 'one', 'three'],\n",
    "                   'C' : np.random.randn(8),\n",
    "                   'D' : np.random.randn(8)})\n",
    "df"
   ]
  },
  {
   "cell_type": "code",
   "execution_count": 79,
   "metadata": {
    "colab": {
     "base_uri": "https://localhost:8080/",
     "height": 180
    },
    "colab_type": "code",
    "id": "UU2nX_lDBAbb",
    "outputId": "68b9cdb4-9690-4a2f-92ae-81a0624d67fc"
   },
   "outputs": [
    {
     "data": {
      "text/html": [
       "<div>\n",
       "<style scoped>\n",
       "    .dataframe tbody tr th:only-of-type {\n",
       "        vertical-align: middle;\n",
       "    }\n",
       "\n",
       "    .dataframe tbody tr th {\n",
       "        vertical-align: top;\n",
       "    }\n",
       "\n",
       "    .dataframe thead th {\n",
       "        text-align: right;\n",
       "    }\n",
       "</style>\n",
       "<table border=\"1\" class=\"dataframe\">\n",
       "  <thead>\n",
       "    <tr style=\"text-align: right;\">\n",
       "      <th></th>\n",
       "      <th>C</th>\n",
       "      <th>D</th>\n",
       "    </tr>\n",
       "    <tr>\n",
       "      <th>A</th>\n",
       "      <th></th>\n",
       "      <th></th>\n",
       "    </tr>\n",
       "  </thead>\n",
       "  <tbody>\n",
       "    <tr>\n",
       "      <th>bar</th>\n",
       "      <td>0.146755</td>\n",
       "      <td>-0.417646</td>\n",
       "    </tr>\n",
       "    <tr>\n",
       "      <th>foo</th>\n",
       "      <td>-1.361511</td>\n",
       "      <td>-3.063539</td>\n",
       "    </tr>\n",
       "  </tbody>\n",
       "</table>\n",
       "</div>"
      ],
      "text/plain": [
       "            C         D\n",
       "A                      \n",
       "bar  0.146755 -0.417646\n",
       "foo -1.361511 -3.063539"
      ]
     },
     "execution_count": 79,
     "metadata": {},
     "output_type": "execute_result"
    }
   ],
   "source": [
    "# calcula algumas funções para linhas referentes a todos os possíveis valores \n",
    "# da coluna 'A'\n",
    "df.groupby('A').sum() # soma"
   ]
  },
  {
   "cell_type": "code",
   "execution_count": 80,
   "metadata": {
    "colab": {
     "base_uri": "https://localhost:8080/",
     "height": 180
    },
    "colab_type": "code",
    "id": "t8ehDvqTBeuF",
    "outputId": "a510e047-c2e8-4efa-8c5a-11721c769b26"
   },
   "outputs": [
    {
     "data": {
      "text/html": [
       "<div>\n",
       "<style scoped>\n",
       "    .dataframe tbody tr th:only-of-type {\n",
       "        vertical-align: middle;\n",
       "    }\n",
       "\n",
       "    .dataframe tbody tr th {\n",
       "        vertical-align: top;\n",
       "    }\n",
       "\n",
       "    .dataframe thead th {\n",
       "        text-align: right;\n",
       "    }\n",
       "</style>\n",
       "<table border=\"1\" class=\"dataframe\">\n",
       "  <thead>\n",
       "    <tr style=\"text-align: right;\">\n",
       "      <th></th>\n",
       "      <th>C</th>\n",
       "      <th>D</th>\n",
       "    </tr>\n",
       "    <tr>\n",
       "      <th>A</th>\n",
       "      <th></th>\n",
       "      <th></th>\n",
       "    </tr>\n",
       "  </thead>\n",
       "  <tbody>\n",
       "    <tr>\n",
       "      <th>bar</th>\n",
       "      <td>0.048918</td>\n",
       "      <td>-0.139215</td>\n",
       "    </tr>\n",
       "    <tr>\n",
       "      <th>foo</th>\n",
       "      <td>-0.272302</td>\n",
       "      <td>-0.612708</td>\n",
       "    </tr>\n",
       "  </tbody>\n",
       "</table>\n",
       "</div>"
      ],
      "text/plain": [
       "            C         D\n",
       "A                      \n",
       "bar  0.048918 -0.139215\n",
       "foo -0.272302 -0.612708"
      ]
     },
     "execution_count": 80,
     "metadata": {},
     "output_type": "execute_result"
    }
   ],
   "source": [
    "df.groupby('A').mean() # média"
   ]
  },
  {
   "cell_type": "markdown",
   "metadata": {
    "colab_type": "text",
    "id": "a_m57KecBufj"
   },
   "source": [
    "É possível fazer o agrupamento por meio de mais de uma coluna simultaneamente"
   ]
  },
  {
   "cell_type": "code",
   "execution_count": 81,
   "metadata": {
    "colab": {
     "base_uri": "https://localhost:8080/",
     "height": 302
    },
    "colab_type": "code",
    "id": "HiZ3D2-nBq3c",
    "outputId": "baaa00ca-073f-4aab-a8c6-6801aade54fa"
   },
   "outputs": [
    {
     "data": {
      "text/html": [
       "<div>\n",
       "<style scoped>\n",
       "    .dataframe tbody tr th:only-of-type {\n",
       "        vertical-align: middle;\n",
       "    }\n",
       "\n",
       "    .dataframe tbody tr th {\n",
       "        vertical-align: top;\n",
       "    }\n",
       "\n",
       "    .dataframe thead th {\n",
       "        text-align: right;\n",
       "    }\n",
       "</style>\n",
       "<table border=\"1\" class=\"dataframe\">\n",
       "  <thead>\n",
       "    <tr style=\"text-align: right;\">\n",
       "      <th></th>\n",
       "      <th></th>\n",
       "      <th>C</th>\n",
       "      <th>D</th>\n",
       "    </tr>\n",
       "    <tr>\n",
       "      <th>A</th>\n",
       "      <th>B</th>\n",
       "      <th></th>\n",
       "      <th></th>\n",
       "    </tr>\n",
       "  </thead>\n",
       "  <tbody>\n",
       "    <tr>\n",
       "      <th rowspan=\"3\" valign=\"top\">bar</th>\n",
       "      <th>one</th>\n",
       "      <td>-0.962637</td>\n",
       "      <td>0.781872</td>\n",
       "    </tr>\n",
       "    <tr>\n",
       "      <th>three</th>\n",
       "      <td>-0.432674</td>\n",
       "      <td>-0.855676</td>\n",
       "    </tr>\n",
       "    <tr>\n",
       "      <th>two</th>\n",
       "      <td>1.542066</td>\n",
       "      <td>-0.343843</td>\n",
       "    </tr>\n",
       "    <tr>\n",
       "      <th rowspan=\"3\" valign=\"top\">foo</th>\n",
       "      <th>one</th>\n",
       "      <td>-0.218384</td>\n",
       "      <td>-0.609198</td>\n",
       "    </tr>\n",
       "    <tr>\n",
       "      <th>three</th>\n",
       "      <td>-1.160284</td>\n",
       "      <td>-0.557368</td>\n",
       "    </tr>\n",
       "    <tr>\n",
       "      <th>two</th>\n",
       "      <td>0.017157</td>\n",
       "      <td>-1.896972</td>\n",
       "    </tr>\n",
       "  </tbody>\n",
       "</table>\n",
       "</div>"
      ],
      "text/plain": [
       "                  C         D\n",
       "A   B                        \n",
       "bar one   -0.962637  0.781872\n",
       "    three -0.432674 -0.855676\n",
       "    two    1.542066 -0.343843\n",
       "foo one   -0.218384 -0.609198\n",
       "    three -1.160284 -0.557368\n",
       "    two    0.017157 -1.896972"
      ]
     },
     "execution_count": 81,
     "metadata": {},
     "output_type": "execute_result"
    }
   ],
   "source": [
    "df.groupby(['A', 'B']).sum()"
   ]
  },
  {
   "cell_type": "markdown",
   "metadata": {
    "colab_type": "text",
    "id": "d4OFkbT7CX30"
   },
   "source": [
    "### Visualização de dados em DataFrames\n",
    "\n",
    "Pandas, em combinação com a biblioteca **matplotlib**, permite visualizar dados de uma maneira intuitiva"
   ]
  },
  {
   "cell_type": "code",
   "execution_count": 38,
   "metadata": {
    "colab": {
     "base_uri": "https://localhost:8080/",
     "height": 379
    },
    "colab_type": "code",
    "id": "6J2GullzCcK4",
    "outputId": "81c85abc-22cc-4d74-88aa-c4790824b99d"
   },
   "outputs": [
    {
     "data": {
      "image/png": "[encoded data removed]",
      "text/plain": [
       "<Figure size 432x288 with 1 Axes>"
      ]
     },
     "metadata": {},
     "output_type": "display_data"
    }
   ],
   "source": [
    "# Visualizando uma série temporal\n",
    "ts = pd.Series(np.random.randn(1000), index=pd.date_range('1/1/2000', periods=1000))\n",
    "ts = ts.cumsum()\n",
    "ts\n",
    "_ = ts.plot()"
   ]
  },
  {
   "cell_type": "code",
   "execution_count": 36,
   "metadata": {
    "colab": {},
    "colab_type": "code",
    "id": "W69Ho4apCi2R"
   },
   "outputs": [
    {
     "data": {
      "text/html": [
       "<div>\n",
       "<style scoped>\n",
       "    .dataframe tbody tr th:only-of-type {\n",
       "        vertical-align: middle;\n",
       "    }\n",
       "\n",
       "    .dataframe tbody tr th {\n",
       "        vertical-align: top;\n",
       "    }\n",
       "\n",
       "    .dataframe thead th {\n",
       "        text-align: right;\n",
       "    }\n",
       "</style>\n",
       "<table border=\"1\" class=\"dataframe\">\n",
       "  <thead>\n",
       "    <tr style=\"text-align: right;\">\n",
       "      <th></th>\n",
       "      <th>A</th>\n",
       "      <th>B</th>\n",
       "      <th>C</th>\n",
       "      <th>D</th>\n",
       "    </tr>\n",
       "  </thead>\n",
       "  <tbody>\n",
       "    <tr>\n",
       "      <th>2000-01-01</th>\n",
       "      <td>-1.185782</td>\n",
       "      <td>0.653080</td>\n",
       "      <td>-0.694269</td>\n",
       "      <td>2.886795</td>\n",
       "    </tr>\n",
       "    <tr>\n",
       "      <th>2000-01-02</th>\n",
       "      <td>-0.325024</td>\n",
       "      <td>1.148183</td>\n",
       "      <td>-1.212031</td>\n",
       "      <td>2.460094</td>\n",
       "    </tr>\n",
       "    <tr>\n",
       "      <th>2000-01-03</th>\n",
       "      <td>1.074700</td>\n",
       "      <td>0.786722</td>\n",
       "      <td>-1.110371</td>\n",
       "      <td>1.136506</td>\n",
       "    </tr>\n",
       "    <tr>\n",
       "      <th>2000-01-04</th>\n",
       "      <td>-0.211852</td>\n",
       "      <td>0.590349</td>\n",
       "      <td>-2.548324</td>\n",
       "      <td>1.357591</td>\n",
       "    </tr>\n",
       "    <tr>\n",
       "      <th>2000-01-05</th>\n",
       "      <td>-0.047800</td>\n",
       "      <td>0.866361</td>\n",
       "      <td>-1.453921</td>\n",
       "      <td>3.580462</td>\n",
       "    </tr>\n",
       "  </tbody>\n",
       "</table>\n",
       "</div>"
      ],
      "text/plain": [
       "                   A         B         C         D\n",
       "2000-01-01 -1.185782  0.653080 -0.694269  2.886795\n",
       "2000-01-02 -0.325024  1.148183 -1.212031  2.460094\n",
       "2000-01-03  1.074700  0.786722 -1.110371  1.136506\n",
       "2000-01-04 -0.211852  0.590349 -2.548324  1.357591\n",
       "2000-01-05 -0.047800  0.866361 -1.453921  3.580462"
      ]
     },
     "execution_count": 36,
     "metadata": {},
     "output_type": "execute_result"
    }
   ],
   "source": [
    "# Visualizando várias séries temporais\n",
    "df = pd.DataFrame(np.random.randn(1000, 4), index=ts.index, columns=['A', 'B', 'C', 'D'])\n",
    "df = df.cumsum()\n",
    "df.head()"
   ]
  },
  {
   "cell_type": "code",
   "execution_count": 84,
   "metadata": {},
   "outputs": [
    {
     "data": {
      "text/plain": [
       "<Figure size 432x288 with 0 Axes>"
      ]
     },
     "metadata": {},
     "output_type": "display_data"
    },
    {
     "data": {
      "image/png": "[encoded data removed]",
      "text/plain": [
       "<Figure size 432x288 with 1 Axes>"
      ]
     },
     "metadata": {},
     "output_type": "display_data"
    }
   ],
   "source": [
    "import matplotlib.pyplot as plt\n",
    "plt.figure()\n",
    "df.plot()\n",
    "_ = plt.legend(loc='best')"
   ]
  },
  {
   "cell_type": "code",
   "execution_count": 85,
   "metadata": {},
   "outputs": [
    {
     "data": {
      "text/plain": [
       "<Figure size 432x288 with 0 Axes>"
      ]
     },
     "metadata": {},
     "output_type": "display_data"
    },
    {
     "data": {
      "image/png": "[encoded data removed]",
      "text/plain": [
       "<Figure size 432x288 with 1 Axes>"
      ]
     },
     "metadata": {},
     "output_type": "display_data"
    }
   ],
   "source": [
    "# Box plot de todas as colunas\n",
    "plt.figure()\n",
    "_ = df.plot(kind = 'box')"
   ]
  },
  {
   "cell_type": "code",
   "execution_count": 86,
   "metadata": {},
   "outputs": [
    {
     "data": {
      "image/png": "[encoded data removed]",
      "text/plain": [
       "<Figure size 432x288 with 1 Axes>"
      ]
     },
     "metadata": {},
     "output_type": "display_data"
    }
   ],
   "source": [
    "# Vamos fazer um gráfico de barras com a média de cada coluna\n",
    "_ = df.apply(lambda x: x.mean()).plot(kind = 'bar')"
   ]
  }
 ],
 "metadata": {
  "colab": {
   "collapsed_sections": [],
   "name": "dest-2.ipynb",
   "provenance": [],
   "version": "0.3.2"
  },
  "kernelspec": {
   "display_name": "Python 3",
   "language": "python",
   "name": "python3"
  },
  "language_info": {
   "codemirror_mode": {
    "name": "ipython",
    "version": 3
   },
   "file_extension": ".py",
   "mimetype": "text/x-python",
   "name": "python",
   "nbconvert_exporter": "python",
   "pygments_lexer": "ipython3",
   "version": "3.6.4"
  }
 },
 "nbformat": 4,
 "nbformat_minor": 1
}
