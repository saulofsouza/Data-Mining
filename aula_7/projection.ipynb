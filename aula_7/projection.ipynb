{
 "cells": [
  {
   "cell_type": "code",
   "execution_count": 20,
   "metadata": {},
   "outputs": [],
   "source": [
    "import numpy as np\n",
    "from numpy import linalg as LA\n",
    "import matplotlib.pyplot as plt\n",
    "from matplotlib.axes import Axes\n",
    "from mpl_toolkits.mplot3d import Axes3D\n",
    "import scipy.linalg"
   ]
  },
  {
   "cell_type": "code",
   "execution_count": 21,
   "metadata": {},
   "outputs": [],
   "source": [
    "def plotVector(vector, plotter, color = 'blue'):\n",
    "    plotter.quiver([0],[0],[0], vector[0], vector[1], vector[2], color = color, lw = 2)\n",
    "\n",
    "def plotLine(vector, length, plotter, color = 'green'):\n",
    "    vector = np.array(vector) / np.linalg.norm(vector)\n",
    "    p1 = vector * (length / 2.0)\n",
    "    p2 = -1 * vector * (length / 2.0)\n",
    "    x, y, z = zip(p1, p2)\n",
    "    plotter.plot(x, y, z, color = color, lw = 0.5)\n",
    "    \n",
    "def plotPlane(u, v, length, plotter, color = 'green'):\n",
    "    normal = np.cross(u, v)\n",
    "    a, b, c = normal\n",
    "    x, y = np.meshgrid(np.array([-1, 1]) * (length / 2.0), np.array([-1, 1]) * (length / 2.0))\n",
    "    z = (-a * x - b * y) / c\n",
    "    plt3d = plt.gca(projection='3d')\n",
    "    plt3d.plot_surface(x, y, z, alpha=0.2)\n",
    "    "
   ]
  },
  {
   "cell_type": "code",
   "execution_count": 22,
   "metadata": {},
   "outputs": [
    {
     "name": "stdout",
     "output_type": "stream",
     "text": [
      "Using matplotlib backend: MacOSX\n"
     ]
    }
   ],
   "source": [
    "# generating random data according to multivariate normal distribution\n",
    "sigma = np.array([[5, 1, 1], [1, 2, 1] ,[1, 1, 1]])\n",
    "x = np.random.multivariate_normal([1, 2, 3], sigma, 200)\n",
    "\n",
    "# plot points\n",
    "%matplotlib\n",
    "\n",
    "# creating figure\n",
    "fig = plt.figure(figsize = (15, 15))\n",
    "ax = fig.add_subplot(111, projection='3d')\n",
    "\n",
    "# points\n",
    "ax.scatter(x[:, 0], x[:, 1], x[:, 2], color = 'blue', marker = '.')\n",
    "\n",
    "# plotting figure\n",
    "ax.set_xlabel('X')\n",
    "ax.set_ylabel('Y')\n",
    "ax.set_zlabel('Z')\n",
    "\n",
    "plt.show()"
   ]
  },
  {
   "cell_type": "code",
   "execution_count": 23,
   "metadata": {},
   "outputs": [
    {
     "name": "stdout",
     "output_type": "stream",
     "text": [
      "Sum of eigenvalues: 7.839461160821911\n",
      "Sum of variances: 7.8394611608219105\n"
     ]
    }
   ],
   "source": [
    "# removing col means\n",
    "m = np.mean(x, axis = 0)\n",
    "\n",
    "# broadcast happening here\n",
    "x = x - m\n",
    "n, d = x.shape\n",
    "\n",
    "# maximum variability of data (useful for plotting data, nothing more)\n",
    "xx = x[:, 0]; yy = x[:, 1]; zz = x[:, 2]\n",
    "length = max(max(xx) - min(xx), max(yy) - min(yy), max(zz) - min(zz))\n",
    "\n",
    "# estimating covariance matrix\n",
    "sampleSigma = np.matmul(x.T, x) / float(n)\n",
    "\n",
    "# Computing eigenvalues and eigenvectors (sorted in increasing order)\n",
    "values, vectors = LA.eigh(sampleSigma)\n",
    "\n",
    "# See that the sum of the eigenvalues is equal the sum of the variances!\n",
    "print ('Sum of eigenvalues:', sum(values))\n",
    "print ('Sum of variances:', sum(np.diag(sampleSigma)))"
   ]
  },
  {
   "cell_type": "code",
   "execution_count": 26,
   "metadata": {},
   "outputs": [],
   "source": [
    "# percentage of variance\n",
    "fig = plt.figure()\n",
    "plt.scatter(range(1, len(values) + 1), values[::-1] / sum(values))\n",
    "plt.xlabel('Eigenvalue rank')\n",
    "plt.ylabel('fraction of variance')\n",
    "fig.show()\n",
    "\n",
    "fig = plt.figure()\n",
    "plt.scatter(range(1, len(values) + 1), np.cumsum(values[::-1]) / sum(values))\n",
    "plt.xlabel('Eigenvalue rank')\n",
    "plt.ylabel('fraction of cumulative variance')\n",
    "fig.show()\n"
   ]
  },
  {
   "cell_type": "code",
   "execution_count": 25,
   "metadata": {},
   "outputs": [
    {
     "name": "stdout",
     "output_type": "stream",
     "text": [
      "Using matplotlib backend: MacOSX\n"
     ]
    }
   ],
   "source": [
    "%matplotlib\n",
    "\n",
    "# creating figure\n",
    "fig = plt.figure(figsize = (15, 15))\n",
    "ax = fig.add_subplot(111, projection='3d')\n",
    "\n",
    "# points\n",
    "ax.scatter(x[:, 0], x[:, 1], x[:, 2], color = 'blue', marker = '.')\n",
    "\n",
    "# ploting the 3 eigenvectors multiplied by respective eigenvalues\n",
    "plotVector(vectors[:, 0], plt, 'red')\n",
    "plotVector(vectors[:, 1], plt, 'green')\n",
    "plotVector(vectors[:, 2], plt, 'blue')\n",
    "    \n",
    "# plotting figure\n",
    "ax.set_xlabel('X')\n",
    "ax.set_ylabel('Y')\n",
    "ax.set_zlabel('Z')\n",
    "\n",
    "plt.show()"
   ]
  },
  {
   "cell_type": "code",
   "execution_count": 11,
   "metadata": {},
   "outputs": [
    {
     "name": "stdout",
     "output_type": "stream",
     "text": [
      "Using matplotlib backend: MacOSX\n"
     ]
    }
   ],
   "source": [
    "%matplotlib\n",
    "\n",
    "# creating figure\n",
    "fig = plt.figure(figsize = (15, 15))\n",
    "ax = fig.add_subplot(111, projection='3d')\n",
    "\n",
    "# points\n",
    "ax.scatter(x[:, 0], x[:, 1], x[:, 2], color = 'blue', marker = '.')\n",
    "\n",
    "# ploting the 3 eigenvectors multiplied by respective eigenvalues\n",
    "plotVector(vectors[:, 0], plt, 'red')\n",
    "plotVector(vectors[:, 1], plt, 'green')\n",
    "plotVector(vectors[:, 2], plt, 'blue')\n",
    "\n",
    "# projecting data on the line\n",
    "# plotting a line along the larges eigenvalue\n",
    "plotLine(vectors[:, 2], length, plt)\n",
    "\n",
    "U1 = vectors[:, 2].reshape([3, -1])    # matrix U_1\n",
    "P1 = np.matmul(U1, U1.T)               # projection matrix\n",
    "xPrime = np.matmul(P1, x.T).T          # projecting each point on the 1-dimensional subspace\n",
    "\n",
    "# plotting new data and projection lines\n",
    "ax.scatter(xPrime[:, 0], xPrime[:, 1], xPrime[:, 2], color = 'green', marker = '.')\n",
    "for original, projected in zip(x, xPrime):\n",
    "    xx, yy, zz = zip(original, projected)\n",
    "    ax.plot(xx, yy, zz, color = 'gray', lw = 0.5)\n",
    "    \n",
    "# plotting figure\n",
    "ax.set_xlabel('X')\n",
    "ax.set_ylabel('Y')\n",
    "ax.set_zlabel('Z')\n",
    "\n",
    "plt.show()"
   ]
  },
  {
   "cell_type": "code",
   "execution_count": 12,
   "metadata": {},
   "outputs": [],
   "source": [
    "# point on the line\n",
    "fig = plt.figure()\n",
    "A = np.matmul(U1.T, x.T).T\n",
    "xx = A[:, 0]\n",
    "yy = [0] * len(xx)\n",
    "plt.scatter(xx, yy, marker = '.')\n",
    "plt.show()"
   ]
  },
  {
   "cell_type": "code",
   "execution_count": 17,
   "metadata": {},
   "outputs": [
    {
     "name": "stdout",
     "output_type": "stream",
     "text": [
      "Using matplotlib backend: MacOSX\n"
     ]
    }
   ],
   "source": [
    "%matplotlib\n",
    "\n",
    "# creating figure\n",
    "fig = plt.figure(figsize = (15, 15))\n",
    "ax = fig.add_subplot(111, projection='3d')\n",
    "\n",
    "# points\n",
    "ax.scatter(x[:, 0], x[:, 1], x[:, 2], color = 'blue', marker = '.')\n",
    "\n",
    "# ploting the 3 eigenvectors multiplied by respective eigenvalues\n",
    "plotVector(vectors[:, 0], plt, 'red')\n",
    "plotVector(vectors[:, 1], plt, 'green')\n",
    "plotVector(vectors[:, 2], plt, 'blue')\n",
    "\n",
    "\n",
    "# plot a plane defined by two vectors\n",
    "plotPlane(vectors[:, 2], vectors[:, 1], length, plt)\n",
    "\n",
    "U2 = vectors[:, 1:3].reshape([3, -1])    # matrix U_2\n",
    "P2 = np.matmul(U2, U2.T)                 # projection matrix\n",
    "xPrime = np.matmul(P2, x.T).T            # projecting each point on the 2-dimensional subspace\n",
    "\n",
    "# plotting new data and projection lines\n",
    "ax.scatter(xPrime[:, 0], xPrime[:, 1], xPrime[:, 2], color = 'green', marker = '.')\n",
    "for original, projected in zip(x, xPrime):\n",
    "    xx, yy, zz = zip(original, projected)\n",
    "    ax.plot(xx, yy, zz, color = 'gray', lw = 0.5)\n",
    "    \n",
    "# plotting figure\n",
    "ax.set_xlabel('X')\n",
    "ax.set_ylabel('Y')\n",
    "ax.set_zlabel('Z')\n",
    "\n",
    "plt.show()"
   ]
  },
  {
   "cell_type": "code",
   "execution_count": 19,
   "metadata": {
    "scrolled": true
   },
   "outputs": [
    {
     "name": "stdout",
     "output_type": "stream",
     "text": [
      "(200, 2)\n"
     ]
    }
   ],
   "source": [
    "# plot on the plane\n",
    "fig = plt.figure()\n",
    "A = np.matmul(U2.T, x.T).T\n",
    "print (A.shape)\n",
    "xx = A[:, 1]\n",
    "yy = A[:, 0]\n",
    "plt.scatter(xx, yy, marker = '.')\n",
    "plt.show()"
   ]
  },
  {
   "cell_type": "code",
   "execution_count": null,
   "metadata": {},
   "outputs": [],
   "source": [
    "# SVD"
   ]
  },
  {
   "cell_type": "code",
   "execution_count": 27,
   "metadata": {},
   "outputs": [],
   "source": [
    "U, s, Vh = scipy.linalg.svd(x)"
   ]
  },
  {
   "cell_type": "code",
   "execution_count": 28,
   "metadata": {},
   "outputs": [
    {
     "name": "stdout",
     "output_type": "stream",
     "text": [
      "[-0.92314854 -0.28987279 -0.25252829]\n",
      "largest eigenvalue: 5.374325113216038\n"
     ]
    }
   ],
   "source": [
    "# eigenvalue associated with largest eigenvalue of Sigma\n",
    "print(vectors[:, 2])\n",
    "print ('largest eigenvalue:', values[2])"
   ]
  },
  {
   "cell_type": "code",
   "execution_count": 29,
   "metadata": {},
   "outputs": [
    {
     "name": "stdout",
     "output_type": "stream",
     "text": [
      "[-0.92314854 -0.28987279 -0.25252829]\n",
      "Largest singular value 32.785134171499244\n",
      "Largest singular value squared and divided by n 5.374325113216036\n"
     ]
    }
   ],
   "source": [
    "# right singular value associated with largest singular value of x\n",
    "print(Vh.T[:, 0])\n",
    "print ('Largest singular value', s[0])\n",
    "print ('Largest singular value squared and divided by n', s[0] * s[0] / float(n))"
   ]
  },
  {
   "cell_type": "code",
   "execution_count": 30,
   "metadata": {},
   "outputs": [],
   "source": [
    "# Using SVD to find the coefficients of data projected on the line\n",
    "A = U[:, 0] * s[0]\n",
    "fig = plt.figure()\n",
    "xx = A\n",
    "yy = [0] * len(xx)\n",
    "plt.scatter(xx, yy, marker = '.')\n",
    "plt.show()"
   ]
  },
  {
   "cell_type": "code",
   "execution_count": 31,
   "metadata": {},
   "outputs": [],
   "source": [
    "# Using SVD to find the coefficients of data projected on the plane\n",
    "A = np.matmul(U[:, :2], np.diag(s[:2]))\n",
    "fig = plt.figure()\n",
    "xx = A[:, 0]\n",
    "yy = A[:, 1]\n",
    "plt.scatter(xx, yy, marker = '.')\n",
    "plt.show()"
   ]
  },
  {
   "cell_type": "code",
   "execution_count": null,
   "metadata": {},
   "outputs": [],
   "source": []
  }
 ],
 "metadata": {
  "kernelspec": {
   "display_name": "Python 2",
   "language": "python",
   "name": "python2"
  },
  "language_info": {
   "codemirror_mode": {
    "name": "ipython",
    "version": 3
   },
   "file_extension": ".py",
   "mimetype": "text/x-python",
   "name": "python",
   "nbconvert_exporter": "python",
   "pygments_lexer": "ipython3",
   "version": "3.6.4"
  }
 },
 "nbformat": 4,
 "nbformat_minor": 2
}
